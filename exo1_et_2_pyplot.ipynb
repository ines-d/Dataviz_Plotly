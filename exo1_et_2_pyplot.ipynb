{
 "cells": [
  {
   "cell_type": "code",
   "execution_count": 2,
   "metadata": {},
   "outputs": [
    {
     "data": {
      "text/html": [
       "        <script type=\"text/javascript\">\n",
       "        window.PlotlyConfig = {MathJaxConfig: 'local'};\n",
       "        if (window.MathJax) {MathJax.Hub.Config({SVG: {font: \"STIX-Web\"}});}\n",
       "        if (typeof require !== 'undefined') {\n",
       "        require.undef(\"plotly\");\n",
       "        requirejs.config({\n",
       "            paths: {\n",
       "                'plotly': ['https://cdn.plot.ly/plotly-latest.min']\n",
       "            }\n",
       "        });\n",
       "        require(['plotly'], function(Plotly) {\n",
       "            window._Plotly = Plotly;\n",
       "        });\n",
       "        }\n",
       "        </script>\n",
       "        "
      ]
     },
     "metadata": {},
     "output_type": "display_data"
    },
    {
     "name": "stdout",
     "output_type": "stream",
     "text": [
      "['timesData.csv']\n",
      "<class 'pandas.core.frame.DataFrame'>\n",
      "RangeIndex: 2603 entries, 0 to 2602\n",
      "Data columns (total 14 columns):\n",
      " #   Column                  Non-Null Count  Dtype  \n",
      "---  ------                  --------------  -----  \n",
      " 0   world_rank              2603 non-null   object \n",
      " 1   university_name         2603 non-null   object \n",
      " 2   country                 2603 non-null   object \n",
      " 3   teaching                2603 non-null   float64\n",
      " 4   international           2603 non-null   object \n",
      " 5   research                2603 non-null   float64\n",
      " 6   citations               2603 non-null   float64\n",
      " 7   income                  2603 non-null   object \n",
      " 8   total_score             2603 non-null   object \n",
      " 9   num_students            2544 non-null   object \n",
      " 10  student_staff_ratio     2544 non-null   float64\n",
      " 11  international_students  2536 non-null   object \n",
      " 12  female_male_ratio       2370 non-null   object \n",
      " 13  year                    2603 non-null   int64  \n",
      "dtypes: float64(4), int64(1), object(9)\n",
      "memory usage: 284.8+ KB\n"
     ]
    }
   ],
   "source": [
    "import numpy as np # algèbre linéaire\n",
    "import pandas as pd # procès de données, CSV file I/O (e.g. pd.read_csv)\n",
    "\n",
    "# plotly\n",
    "# import plotly.plotly as py\n",
    "from plotly.offline import init_notebook_mode, iplot, plot\n",
    "import plotly as py\n",
    "init_notebook_mode(connected=True)\n",
    "import plotly.graph_objs as go\n",
    "\n",
    "# librairie word cloud\n",
    "from wordcloud import WordCloud\n",
    "\n",
    "# librairie matplotlib\n",
    "import matplotlib.pyplot as plt\n",
    "\n",
    "# Permet d'afficher les données disponibles dans le répertoire data\n",
    "import os\n",
    "print(os.listdir(\"/Users/dines/OneDrive/Documents/coursAnneLaure/data\")) \n",
    "\n",
    "# Chargement des données qui seront utilisées.\n",
    "timesData = pd.read_csv(\"/Users/dines/OneDrive/Documents/coursAnneLaure/data/timesData.csv\")\n",
    "\n",
    "# information about timesData\n",
    "timesData.info()"
   ]
  },
  {
   "cell_type": "code",
   "execution_count": 3,
   "metadata": {},
   "outputs": [
    {
     "name": "stdout",
     "output_type": "stream",
     "text": [
      "                              income\n",
      "country                             \n",
      "South Korea               100.000000\n",
      "China                      75.566667\n",
      "Japan                      67.100000\n",
      "Australia                  62.075000\n",
      "United States of America   61.290909\n",
      "Hong Kong                  60.300000\n",
      "Sweden                     53.250000\n",
      "United Kingdom             44.978571\n",
      "Canada                     42.600000\n",
      "Switzerland                42.533333\n",
      "Singapore                  40.500000\n",
      "Germany                    37.066667\n",
      "Republic of Ireland        31.600000\n",
      "France                     28.400000\n"
     ]
    },
    {
     "data": {
      "application/vnd.plotly.v1+json": {
       "config": {
        "linkText": "Export to plot.ly",
        "plotlyServerURL": "https://plot.ly",
        "showLink": false
       },
       "data": [
        {
         "domain": {
          "x": [
           0,
           0.5
          ]
         },
         "hole": 0.3,
         "labels": [
          "South Korea",
          "China",
          "Japan",
          "Australia",
          "United States of America",
          "Hong Kong",
          "Sweden",
          "United Kingdom",
          "Canada",
          "Switzerland",
          "Singapore",
          "Germany",
          "Republic of Ireland",
          "France"
         ],
         "name": "Pays",
         "type": "pie",
         "values": [
          100,
          75.56666666666666,
          67.1,
          62.074999999999996,
          61.290909090909096,
          60.3,
          53.25,
          44.978571428571435,
          42.6,
          42.53333333333333,
          40.5,
          37.06666666666666,
          31.6,
          28.4
         ]
        }
       ],
       "layout": {
        "annotations": [
         {
          "font": {
           "size": 17
          },
          "showarrow": false,
          "text": "Pays",
          "x": 0.2,
          "y": 1.07
         }
        ],
        "template": {
         "data": {
          "bar": [
           {
            "error_x": {
             "color": "#2a3f5f"
            },
            "error_y": {
             "color": "#2a3f5f"
            },
            "marker": {
             "line": {
              "color": "#E5ECF6",
              "width": 0.5
             }
            },
            "type": "bar"
           }
          ],
          "barpolar": [
           {
            "marker": {
             "line": {
              "color": "#E5ECF6",
              "width": 0.5
             }
            },
            "type": "barpolar"
           }
          ],
          "carpet": [
           {
            "aaxis": {
             "endlinecolor": "#2a3f5f",
             "gridcolor": "white",
             "linecolor": "white",
             "minorgridcolor": "white",
             "startlinecolor": "#2a3f5f"
            },
            "baxis": {
             "endlinecolor": "#2a3f5f",
             "gridcolor": "white",
             "linecolor": "white",
             "minorgridcolor": "white",
             "startlinecolor": "#2a3f5f"
            },
            "type": "carpet"
           }
          ],
          "choropleth": [
           {
            "colorbar": {
             "outlinewidth": 0,
             "ticks": ""
            },
            "type": "choropleth"
           }
          ],
          "contour": [
           {
            "colorbar": {
             "outlinewidth": 0,
             "ticks": ""
            },
            "colorscale": [
             [
              0,
              "#0d0887"
             ],
             [
              0.1111111111111111,
              "#46039f"
             ],
             [
              0.2222222222222222,
              "#7201a8"
             ],
             [
              0.3333333333333333,
              "#9c179e"
             ],
             [
              0.4444444444444444,
              "#bd3786"
             ],
             [
              0.5555555555555556,
              "#d8576b"
             ],
             [
              0.6666666666666666,
              "#ed7953"
             ],
             [
              0.7777777777777778,
              "#fb9f3a"
             ],
             [
              0.8888888888888888,
              "#fdca26"
             ],
             [
              1,
              "#f0f921"
             ]
            ],
            "type": "contour"
           }
          ],
          "contourcarpet": [
           {
            "colorbar": {
             "outlinewidth": 0,
             "ticks": ""
            },
            "type": "contourcarpet"
           }
          ],
          "heatmap": [
           {
            "colorbar": {
             "outlinewidth": 0,
             "ticks": ""
            },
            "colorscale": [
             [
              0,
              "#0d0887"
             ],
             [
              0.1111111111111111,
              "#46039f"
             ],
             [
              0.2222222222222222,
              "#7201a8"
             ],
             [
              0.3333333333333333,
              "#9c179e"
             ],
             [
              0.4444444444444444,
              "#bd3786"
             ],
             [
              0.5555555555555556,
              "#d8576b"
             ],
             [
              0.6666666666666666,
              "#ed7953"
             ],
             [
              0.7777777777777778,
              "#fb9f3a"
             ],
             [
              0.8888888888888888,
              "#fdca26"
             ],
             [
              1,
              "#f0f921"
             ]
            ],
            "type": "heatmap"
           }
          ],
          "heatmapgl": [
           {
            "colorbar": {
             "outlinewidth": 0,
             "ticks": ""
            },
            "colorscale": [
             [
              0,
              "#0d0887"
             ],
             [
              0.1111111111111111,
              "#46039f"
             ],
             [
              0.2222222222222222,
              "#7201a8"
             ],
             [
              0.3333333333333333,
              "#9c179e"
             ],
             [
              0.4444444444444444,
              "#bd3786"
             ],
             [
              0.5555555555555556,
              "#d8576b"
             ],
             [
              0.6666666666666666,
              "#ed7953"
             ],
             [
              0.7777777777777778,
              "#fb9f3a"
             ],
             [
              0.8888888888888888,
              "#fdca26"
             ],
             [
              1,
              "#f0f921"
             ]
            ],
            "type": "heatmapgl"
           }
          ],
          "histogram": [
           {
            "marker": {
             "colorbar": {
              "outlinewidth": 0,
              "ticks": ""
             }
            },
            "type": "histogram"
           }
          ],
          "histogram2d": [
           {
            "colorbar": {
             "outlinewidth": 0,
             "ticks": ""
            },
            "colorscale": [
             [
              0,
              "#0d0887"
             ],
             [
              0.1111111111111111,
              "#46039f"
             ],
             [
              0.2222222222222222,
              "#7201a8"
             ],
             [
              0.3333333333333333,
              "#9c179e"
             ],
             [
              0.4444444444444444,
              "#bd3786"
             ],
             [
              0.5555555555555556,
              "#d8576b"
             ],
             [
              0.6666666666666666,
              "#ed7953"
             ],
             [
              0.7777777777777778,
              "#fb9f3a"
             ],
             [
              0.8888888888888888,
              "#fdca26"
             ],
             [
              1,
              "#f0f921"
             ]
            ],
            "type": "histogram2d"
           }
          ],
          "histogram2dcontour": [
           {
            "colorbar": {
             "outlinewidth": 0,
             "ticks": ""
            },
            "colorscale": [
             [
              0,
              "#0d0887"
             ],
             [
              0.1111111111111111,
              "#46039f"
             ],
             [
              0.2222222222222222,
              "#7201a8"
             ],
             [
              0.3333333333333333,
              "#9c179e"
             ],
             [
              0.4444444444444444,
              "#bd3786"
             ],
             [
              0.5555555555555556,
              "#d8576b"
             ],
             [
              0.6666666666666666,
              "#ed7953"
             ],
             [
              0.7777777777777778,
              "#fb9f3a"
             ],
             [
              0.8888888888888888,
              "#fdca26"
             ],
             [
              1,
              "#f0f921"
             ]
            ],
            "type": "histogram2dcontour"
           }
          ],
          "mesh3d": [
           {
            "colorbar": {
             "outlinewidth": 0,
             "ticks": ""
            },
            "type": "mesh3d"
           }
          ],
          "parcoords": [
           {
            "line": {
             "colorbar": {
              "outlinewidth": 0,
              "ticks": ""
             }
            },
            "type": "parcoords"
           }
          ],
          "pie": [
           {
            "automargin": true,
            "type": "pie"
           }
          ],
          "scatter": [
           {
            "marker": {
             "colorbar": {
              "outlinewidth": 0,
              "ticks": ""
             }
            },
            "type": "scatter"
           }
          ],
          "scatter3d": [
           {
            "line": {
             "colorbar": {
              "outlinewidth": 0,
              "ticks": ""
             }
            },
            "marker": {
             "colorbar": {
              "outlinewidth": 0,
              "ticks": ""
             }
            },
            "type": "scatter3d"
           }
          ],
          "scattercarpet": [
           {
            "marker": {
             "colorbar": {
              "outlinewidth": 0,
              "ticks": ""
             }
            },
            "type": "scattercarpet"
           }
          ],
          "scattergeo": [
           {
            "marker": {
             "colorbar": {
              "outlinewidth": 0,
              "ticks": ""
             }
            },
            "type": "scattergeo"
           }
          ],
          "scattergl": [
           {
            "marker": {
             "colorbar": {
              "outlinewidth": 0,
              "ticks": ""
             }
            },
            "type": "scattergl"
           }
          ],
          "scattermapbox": [
           {
            "marker": {
             "colorbar": {
              "outlinewidth": 0,
              "ticks": ""
             }
            },
            "type": "scattermapbox"
           }
          ],
          "scatterpolar": [
           {
            "marker": {
             "colorbar": {
              "outlinewidth": 0,
              "ticks": ""
             }
            },
            "type": "scatterpolar"
           }
          ],
          "scatterpolargl": [
           {
            "marker": {
             "colorbar": {
              "outlinewidth": 0,
              "ticks": ""
             }
            },
            "type": "scatterpolargl"
           }
          ],
          "scatterternary": [
           {
            "marker": {
             "colorbar": {
              "outlinewidth": 0,
              "ticks": ""
             }
            },
            "type": "scatterternary"
           }
          ],
          "surface": [
           {
            "colorbar": {
             "outlinewidth": 0,
             "ticks": ""
            },
            "colorscale": [
             [
              0,
              "#0d0887"
             ],
             [
              0.1111111111111111,
              "#46039f"
             ],
             [
              0.2222222222222222,
              "#7201a8"
             ],
             [
              0.3333333333333333,
              "#9c179e"
             ],
             [
              0.4444444444444444,
              "#bd3786"
             ],
             [
              0.5555555555555556,
              "#d8576b"
             ],
             [
              0.6666666666666666,
              "#ed7953"
             ],
             [
              0.7777777777777778,
              "#fb9f3a"
             ],
             [
              0.8888888888888888,
              "#fdca26"
             ],
             [
              1,
              "#f0f921"
             ]
            ],
            "type": "surface"
           }
          ],
          "table": [
           {
            "cells": {
             "fill": {
              "color": "#EBF0F8"
             },
             "line": {
              "color": "white"
             }
            },
            "header": {
             "fill": {
              "color": "#C8D4E3"
             },
             "line": {
              "color": "white"
             }
            },
            "type": "table"
           }
          ]
         },
         "layout": {
          "annotationdefaults": {
           "arrowcolor": "#2a3f5f",
           "arrowhead": 0,
           "arrowwidth": 1
          },
          "coloraxis": {
           "colorbar": {
            "outlinewidth": 0,
            "ticks": ""
           }
          },
          "colorscale": {
           "diverging": [
            [
             0,
             "#8e0152"
            ],
            [
             0.1,
             "#c51b7d"
            ],
            [
             0.2,
             "#de77ae"
            ],
            [
             0.3,
             "#f1b6da"
            ],
            [
             0.4,
             "#fde0ef"
            ],
            [
             0.5,
             "#f7f7f7"
            ],
            [
             0.6,
             "#e6f5d0"
            ],
            [
             0.7,
             "#b8e186"
            ],
            [
             0.8,
             "#7fbc41"
            ],
            [
             0.9,
             "#4d9221"
            ],
            [
             1,
             "#276419"
            ]
           ],
           "sequential": [
            [
             0,
             "#0d0887"
            ],
            [
             0.1111111111111111,
             "#46039f"
            ],
            [
             0.2222222222222222,
             "#7201a8"
            ],
            [
             0.3333333333333333,
             "#9c179e"
            ],
            [
             0.4444444444444444,
             "#bd3786"
            ],
            [
             0.5555555555555556,
             "#d8576b"
            ],
            [
             0.6666666666666666,
             "#ed7953"
            ],
            [
             0.7777777777777778,
             "#fb9f3a"
            ],
            [
             0.8888888888888888,
             "#fdca26"
            ],
            [
             1,
             "#f0f921"
            ]
           ],
           "sequentialminus": [
            [
             0,
             "#0d0887"
            ],
            [
             0.1111111111111111,
             "#46039f"
            ],
            [
             0.2222222222222222,
             "#7201a8"
            ],
            [
             0.3333333333333333,
             "#9c179e"
            ],
            [
             0.4444444444444444,
             "#bd3786"
            ],
            [
             0.5555555555555556,
             "#d8576b"
            ],
            [
             0.6666666666666666,
             "#ed7953"
            ],
            [
             0.7777777777777778,
             "#fb9f3a"
            ],
            [
             0.8888888888888888,
             "#fdca26"
            ],
            [
             1,
             "#f0f921"
            ]
           ]
          },
          "colorway": [
           "#636efa",
           "#EF553B",
           "#00cc96",
           "#ab63fa",
           "#FFA15A",
           "#19d3f3",
           "#FF6692",
           "#B6E880",
           "#FF97FF",
           "#FECB52"
          ],
          "font": {
           "color": "#2a3f5f"
          },
          "geo": {
           "bgcolor": "white",
           "lakecolor": "white",
           "landcolor": "#E5ECF6",
           "showlakes": true,
           "showland": true,
           "subunitcolor": "white"
          },
          "hoverlabel": {
           "align": "left"
          },
          "hovermode": "closest",
          "mapbox": {
           "style": "light"
          },
          "paper_bgcolor": "white",
          "plot_bgcolor": "#E5ECF6",
          "polar": {
           "angularaxis": {
            "gridcolor": "white",
            "linecolor": "white",
            "ticks": ""
           },
           "bgcolor": "#E5ECF6",
           "radialaxis": {
            "gridcolor": "white",
            "linecolor": "white",
            "ticks": ""
           }
          },
          "scene": {
           "xaxis": {
            "backgroundcolor": "#E5ECF6",
            "gridcolor": "white",
            "gridwidth": 2,
            "linecolor": "white",
            "showbackground": true,
            "ticks": "",
            "zerolinecolor": "white"
           },
           "yaxis": {
            "backgroundcolor": "#E5ECF6",
            "gridcolor": "white",
            "gridwidth": 2,
            "linecolor": "white",
            "showbackground": true,
            "ticks": "",
            "zerolinecolor": "white"
           },
           "zaxis": {
            "backgroundcolor": "#E5ECF6",
            "gridcolor": "white",
            "gridwidth": 2,
            "linecolor": "white",
            "showbackground": true,
            "ticks": "",
            "zerolinecolor": "white"
           }
          },
          "shapedefaults": {
           "line": {
            "color": "#2a3f5f"
           }
          },
          "ternary": {
           "aaxis": {
            "gridcolor": "white",
            "linecolor": "white",
            "ticks": ""
           },
           "baxis": {
            "gridcolor": "white",
            "linecolor": "white",
            "ticks": ""
           },
           "bgcolor": "#E5ECF6",
           "caxis": {
            "gridcolor": "white",
            "linecolor": "white",
            "ticks": ""
           }
          },
          "title": {
           "x": 0.05
          },
          "xaxis": {
           "automargin": true,
           "gridcolor": "white",
           "linecolor": "white",
           "ticks": "",
           "title": {
            "standoff": 15
           },
           "zerolinecolor": "white",
           "zerolinewidth": 2
          },
          "yaxis": {
           "automargin": true,
           "gridcolor": "white",
           "linecolor": "white",
           "ticks": "",
           "title": {
            "standoff": 15
           },
           "zerolinecolor": "white",
           "zerolinewidth": 2
          }
         }
        },
        "title": {
         "text": "Score universitaire pour le revenu de l'industrie (transfert de connaissances) pour chaque Pays"
        }
       }
      },
      "text/html": [
       "<div>\n",
       "        \n",
       "        \n",
       "            <div id=\"850e9af9-cfaa-487e-91a0-9695ecb1f5dc\" class=\"plotly-graph-div\" style=\"height:525px; width:100%;\"></div>\n",
       "            <script type=\"text/javascript\">\n",
       "                require([\"plotly\"], function(Plotly) {\n",
       "                    window.PLOTLYENV=window.PLOTLYENV || {};\n",
       "                    \n",
       "                if (document.getElementById(\"850e9af9-cfaa-487e-91a0-9695ecb1f5dc\")) {\n",
       "                    Plotly.newPlot(\n",
       "                        '850e9af9-cfaa-487e-91a0-9695ecb1f5dc',\n",
       "                        [{\"domain\": {\"x\": [0, 0.5]}, \"hole\": 0.3, \"labels\": [\"South Korea\", \"China\", \"Japan\", \"Australia\", \"United States of America\", \"Hong Kong\", \"Sweden\", \"United Kingdom\", \"Canada\", \"Switzerland\", \"Singapore\", \"Germany\", \"Republic of Ireland\", \"France\"], \"name\": \"Pays\", \"type\": \"pie\", \"values\": [100.0, 75.56666666666666, 67.1, 62.074999999999996, 61.290909090909096, 60.3, 53.25, 44.978571428571435, 42.6, 42.53333333333333, 40.5, 37.06666666666666, 31.6, 28.4]}],\n",
       "                        {\"annotations\": [{\"font\": {\"size\": 17}, \"showarrow\": false, \"text\": \"Pays\", \"x\": 0.2, \"y\": 1.07}], \"template\": {\"data\": {\"bar\": [{\"error_x\": {\"color\": \"#2a3f5f\"}, \"error_y\": {\"color\": \"#2a3f5f\"}, \"marker\": {\"line\": {\"color\": \"#E5ECF6\", \"width\": 0.5}}, \"type\": \"bar\"}], \"barpolar\": [{\"marker\": {\"line\": {\"color\": \"#E5ECF6\", \"width\": 0.5}}, \"type\": \"barpolar\"}], \"carpet\": [{\"aaxis\": {\"endlinecolor\": \"#2a3f5f\", \"gridcolor\": \"white\", \"linecolor\": \"white\", \"minorgridcolor\": \"white\", \"startlinecolor\": \"#2a3f5f\"}, \"baxis\": {\"endlinecolor\": \"#2a3f5f\", \"gridcolor\": \"white\", \"linecolor\": \"white\", \"minorgridcolor\": \"white\", \"startlinecolor\": \"#2a3f5f\"}, \"type\": \"carpet\"}], \"choropleth\": [{\"colorbar\": {\"outlinewidth\": 0, \"ticks\": \"\"}, \"type\": \"choropleth\"}], \"contour\": [{\"colorbar\": {\"outlinewidth\": 0, \"ticks\": \"\"}, \"colorscale\": [[0.0, \"#0d0887\"], [0.1111111111111111, \"#46039f\"], [0.2222222222222222, \"#7201a8\"], [0.3333333333333333, \"#9c179e\"], [0.4444444444444444, \"#bd3786\"], [0.5555555555555556, \"#d8576b\"], [0.6666666666666666, \"#ed7953\"], [0.7777777777777778, \"#fb9f3a\"], [0.8888888888888888, \"#fdca26\"], [1.0, \"#f0f921\"]], \"type\": \"contour\"}], \"contourcarpet\": [{\"colorbar\": {\"outlinewidth\": 0, \"ticks\": \"\"}, \"type\": \"contourcarpet\"}], \"heatmap\": [{\"colorbar\": {\"outlinewidth\": 0, \"ticks\": \"\"}, \"colorscale\": [[0.0, \"#0d0887\"], [0.1111111111111111, \"#46039f\"], [0.2222222222222222, \"#7201a8\"], [0.3333333333333333, \"#9c179e\"], [0.4444444444444444, \"#bd3786\"], [0.5555555555555556, \"#d8576b\"], [0.6666666666666666, \"#ed7953\"], [0.7777777777777778, \"#fb9f3a\"], [0.8888888888888888, \"#fdca26\"], [1.0, \"#f0f921\"]], \"type\": \"heatmap\"}], \"heatmapgl\": [{\"colorbar\": {\"outlinewidth\": 0, \"ticks\": \"\"}, \"colorscale\": [[0.0, \"#0d0887\"], [0.1111111111111111, \"#46039f\"], [0.2222222222222222, \"#7201a8\"], [0.3333333333333333, \"#9c179e\"], [0.4444444444444444, \"#bd3786\"], [0.5555555555555556, \"#d8576b\"], [0.6666666666666666, \"#ed7953\"], [0.7777777777777778, \"#fb9f3a\"], [0.8888888888888888, \"#fdca26\"], [1.0, \"#f0f921\"]], \"type\": \"heatmapgl\"}], \"histogram\": [{\"marker\": {\"colorbar\": {\"outlinewidth\": 0, \"ticks\": \"\"}}, \"type\": \"histogram\"}], \"histogram2d\": [{\"colorbar\": {\"outlinewidth\": 0, \"ticks\": \"\"}, \"colorscale\": [[0.0, \"#0d0887\"], [0.1111111111111111, \"#46039f\"], [0.2222222222222222, \"#7201a8\"], [0.3333333333333333, \"#9c179e\"], [0.4444444444444444, \"#bd3786\"], [0.5555555555555556, \"#d8576b\"], [0.6666666666666666, \"#ed7953\"], [0.7777777777777778, \"#fb9f3a\"], [0.8888888888888888, \"#fdca26\"], [1.0, \"#f0f921\"]], \"type\": \"histogram2d\"}], \"histogram2dcontour\": [{\"colorbar\": {\"outlinewidth\": 0, \"ticks\": \"\"}, \"colorscale\": [[0.0, \"#0d0887\"], [0.1111111111111111, \"#46039f\"], [0.2222222222222222, \"#7201a8\"], [0.3333333333333333, \"#9c179e\"], [0.4444444444444444, \"#bd3786\"], [0.5555555555555556, \"#d8576b\"], [0.6666666666666666, \"#ed7953\"], [0.7777777777777778, \"#fb9f3a\"], [0.8888888888888888, \"#fdca26\"], [1.0, \"#f0f921\"]], \"type\": \"histogram2dcontour\"}], \"mesh3d\": [{\"colorbar\": {\"outlinewidth\": 0, \"ticks\": \"\"}, \"type\": \"mesh3d\"}], \"parcoords\": [{\"line\": {\"colorbar\": {\"outlinewidth\": 0, \"ticks\": \"\"}}, \"type\": \"parcoords\"}], \"pie\": [{\"automargin\": true, \"type\": \"pie\"}], \"scatter\": [{\"marker\": {\"colorbar\": {\"outlinewidth\": 0, \"ticks\": \"\"}}, \"type\": \"scatter\"}], \"scatter3d\": [{\"line\": {\"colorbar\": {\"outlinewidth\": 0, \"ticks\": \"\"}}, \"marker\": {\"colorbar\": {\"outlinewidth\": 0, \"ticks\": \"\"}}, \"type\": \"scatter3d\"}], \"scattercarpet\": [{\"marker\": {\"colorbar\": {\"outlinewidth\": 0, \"ticks\": \"\"}}, \"type\": \"scattercarpet\"}], \"scattergeo\": [{\"marker\": {\"colorbar\": {\"outlinewidth\": 0, \"ticks\": \"\"}}, \"type\": \"scattergeo\"}], \"scattergl\": [{\"marker\": {\"colorbar\": {\"outlinewidth\": 0, \"ticks\": \"\"}}, \"type\": \"scattergl\"}], \"scattermapbox\": [{\"marker\": {\"colorbar\": {\"outlinewidth\": 0, \"ticks\": \"\"}}, \"type\": \"scattermapbox\"}], \"scatterpolar\": [{\"marker\": {\"colorbar\": {\"outlinewidth\": 0, \"ticks\": \"\"}}, \"type\": \"scatterpolar\"}], \"scatterpolargl\": [{\"marker\": {\"colorbar\": {\"outlinewidth\": 0, \"ticks\": \"\"}}, \"type\": \"scatterpolargl\"}], \"scatterternary\": [{\"marker\": {\"colorbar\": {\"outlinewidth\": 0, \"ticks\": \"\"}}, \"type\": \"scatterternary\"}], \"surface\": [{\"colorbar\": {\"outlinewidth\": 0, \"ticks\": \"\"}, \"colorscale\": [[0.0, \"#0d0887\"], [0.1111111111111111, \"#46039f\"], [0.2222222222222222, \"#7201a8\"], [0.3333333333333333, \"#9c179e\"], [0.4444444444444444, \"#bd3786\"], [0.5555555555555556, \"#d8576b\"], [0.6666666666666666, \"#ed7953\"], [0.7777777777777778, \"#fb9f3a\"], [0.8888888888888888, \"#fdca26\"], [1.0, \"#f0f921\"]], \"type\": \"surface\"}], \"table\": [{\"cells\": {\"fill\": {\"color\": \"#EBF0F8\"}, \"line\": {\"color\": \"white\"}}, \"header\": {\"fill\": {\"color\": \"#C8D4E3\"}, \"line\": {\"color\": \"white\"}}, \"type\": \"table\"}]}, \"layout\": {\"annotationdefaults\": {\"arrowcolor\": \"#2a3f5f\", \"arrowhead\": 0, \"arrowwidth\": 1}, \"coloraxis\": {\"colorbar\": {\"outlinewidth\": 0, \"ticks\": \"\"}}, \"colorscale\": {\"diverging\": [[0, \"#8e0152\"], [0.1, \"#c51b7d\"], [0.2, \"#de77ae\"], [0.3, \"#f1b6da\"], [0.4, \"#fde0ef\"], [0.5, \"#f7f7f7\"], [0.6, \"#e6f5d0\"], [0.7, \"#b8e186\"], [0.8, \"#7fbc41\"], [0.9, \"#4d9221\"], [1, \"#276419\"]], \"sequential\": [[0.0, \"#0d0887\"], [0.1111111111111111, \"#46039f\"], [0.2222222222222222, \"#7201a8\"], [0.3333333333333333, \"#9c179e\"], [0.4444444444444444, \"#bd3786\"], [0.5555555555555556, \"#d8576b\"], [0.6666666666666666, \"#ed7953\"], [0.7777777777777778, \"#fb9f3a\"], [0.8888888888888888, \"#fdca26\"], [1.0, \"#f0f921\"]], \"sequentialminus\": [[0.0, \"#0d0887\"], [0.1111111111111111, \"#46039f\"], [0.2222222222222222, \"#7201a8\"], [0.3333333333333333, \"#9c179e\"], [0.4444444444444444, \"#bd3786\"], [0.5555555555555556, \"#d8576b\"], [0.6666666666666666, \"#ed7953\"], [0.7777777777777778, \"#fb9f3a\"], [0.8888888888888888, \"#fdca26\"], [1.0, \"#f0f921\"]]}, \"colorway\": [\"#636efa\", \"#EF553B\", \"#00cc96\", \"#ab63fa\", \"#FFA15A\", \"#19d3f3\", \"#FF6692\", \"#B6E880\", \"#FF97FF\", \"#FECB52\"], \"font\": {\"color\": \"#2a3f5f\"}, \"geo\": {\"bgcolor\": \"white\", \"lakecolor\": \"white\", \"landcolor\": \"#E5ECF6\", \"showlakes\": true, \"showland\": true, \"subunitcolor\": \"white\"}, \"hoverlabel\": {\"align\": \"left\"}, \"hovermode\": \"closest\", \"mapbox\": {\"style\": \"light\"}, \"paper_bgcolor\": \"white\", \"plot_bgcolor\": \"#E5ECF6\", \"polar\": {\"angularaxis\": {\"gridcolor\": \"white\", \"linecolor\": \"white\", \"ticks\": \"\"}, \"bgcolor\": \"#E5ECF6\", \"radialaxis\": {\"gridcolor\": \"white\", \"linecolor\": \"white\", \"ticks\": \"\"}}, \"scene\": {\"xaxis\": {\"backgroundcolor\": \"#E5ECF6\", \"gridcolor\": \"white\", \"gridwidth\": 2, \"linecolor\": \"white\", \"showbackground\": true, \"ticks\": \"\", \"zerolinecolor\": \"white\"}, \"yaxis\": {\"backgroundcolor\": \"#E5ECF6\", \"gridcolor\": \"white\", \"gridwidth\": 2, \"linecolor\": \"white\", \"showbackground\": true, \"ticks\": \"\", \"zerolinecolor\": \"white\"}, \"zaxis\": {\"backgroundcolor\": \"#E5ECF6\", \"gridcolor\": \"white\", \"gridwidth\": 2, \"linecolor\": \"white\", \"showbackground\": true, \"ticks\": \"\", \"zerolinecolor\": \"white\"}}, \"shapedefaults\": {\"line\": {\"color\": \"#2a3f5f\"}}, \"ternary\": {\"aaxis\": {\"gridcolor\": \"white\", \"linecolor\": \"white\", \"ticks\": \"\"}, \"baxis\": {\"gridcolor\": \"white\", \"linecolor\": \"white\", \"ticks\": \"\"}, \"bgcolor\": \"#E5ECF6\", \"caxis\": {\"gridcolor\": \"white\", \"linecolor\": \"white\", \"ticks\": \"\"}}, \"title\": {\"x\": 0.05}, \"xaxis\": {\"automargin\": true, \"gridcolor\": \"white\", \"linecolor\": \"white\", \"ticks\": \"\", \"title\": {\"standoff\": 15}, \"zerolinecolor\": \"white\", \"zerolinewidth\": 2}, \"yaxis\": {\"automargin\": true, \"gridcolor\": \"white\", \"linecolor\": \"white\", \"ticks\": \"\", \"title\": {\"standoff\": 15}, \"zerolinecolor\": \"white\", \"zerolinewidth\": 2}}}, \"title\": {\"text\": \"Score universitaire pour le revenu de l'industrie (transfert de connaissances) pour chaque Pays\"}},\n",
       "                        {\"responsive\": true}\n",
       "                    ).then(function(){\n",
       "                            \n",
       "var gd = document.getElementById('850e9af9-cfaa-487e-91a0-9695ecb1f5dc');\n",
       "var x = new MutationObserver(function (mutations, observer) {{\n",
       "        var display = window.getComputedStyle(gd).display;\n",
       "        if (!display || display === 'none') {{\n",
       "            console.log([gd, 'removed!']);\n",
       "            Plotly.purge(gd);\n",
       "            observer.disconnect();\n",
       "        }}\n",
       "}});\n",
       "\n",
       "// Listen for the removal of the full notebook cells\n",
       "var notebookContainer = gd.closest('#notebook-container');\n",
       "if (notebookContainer) {{\n",
       "    x.observe(notebookContainer, {childList: true});\n",
       "}}\n",
       "\n",
       "// Listen for the clearing of the current output cell\n",
       "var outputEl = gd.closest('.output');\n",
       "if (outputEl) {{\n",
       "    x.observe(outputEl, {childList: true});\n",
       "}}\n",
       "\n",
       "                        })\n",
       "                };\n",
       "                });\n",
       "            </script>\n",
       "        </div>"
      ]
     },
     "metadata": {},
     "output_type": "display_data"
    }
   ],
   "source": [
    "\"\"\"\n",
    "Quels sont les pays dans lesquels le score universitaire pour le transfert technologique (revenu de l'industrie) se démarque ? \n",
    "Utiliser un ou plusieurs graphique pour justifier votre réponse.\n",
    "\"\"\"\n",
    "# préparation des données\n",
    "\n",
    "# selectioner les 100 premières lignes des 2 colonnes\n",
    "df = timesData.loc[:100,[\"income\", \"country\"]]\n",
    "# changer le type de colonne de objet à float et changer les \"-\" en \"NaN\"\n",
    "df.income = [float(each.replace('-', 'NaN')) for each in df.income]\n",
    "# supprimer les lignes qui contiennent des \"NaN\"  \n",
    "df = df.dropna().head(100)\n",
    "# faire un group by car il y a plusieurs valeurs par pays(plusieurs universités), calculer la moyenne des income par pays\n",
    "df = df.groupby('country').mean()\n",
    "# trier le dataframe par rapport à la colonne income par ordre décroissant\n",
    "df = df.sort_values(by='income', ascending = False)\n",
    "\n",
    "df.index\n",
    "df.income\n",
    "print(df)\n",
    "\n",
    "fig = {\n",
    "  \"data\": [\n",
    "    {\n",
    "      \"values\": df.income,\n",
    "      \"labels\": df.index,\n",
    "      \"domain\": {\"x\": [0, .5]},\n",
    "      \"name\": \"Pays\",\n",
    "      #\"hoverinfo\":\"label\",#+percent+name\",\n",
    "      \"hole\": .3,\n",
    "      \"type\": \"pie\"\n",
    "    },],\n",
    "  \"layout\": {\n",
    "        \"title\":\"Score universitaire pour le revenu de l'industrie (transfert de connaissances) pour chaque Pays\",\n",
    "        \"annotations\": [\n",
    "            { \"font\": { \"size\": 17},\n",
    "              \"showarrow\": False,\n",
    "              \"text\": \"Pays\",\n",
    "                \"x\": 0.20,\n",
    "                \"y\": 1.07\n",
    "            },\n",
    "        ]\n",
    "    }\n",
    "}\n",
    "iplot(fig)\n",
    "\n"
   ]
  },
  {
   "cell_type": "code",
   "execution_count": 4,
   "metadata": {},
   "outputs": [
    {
     "data": {
      "application/vnd.plotly.v1+json": {
       "config": {
        "linkText": "Export to plot.ly",
        "plotlyServerURL": "https://plot.ly",
        "showLink": false
       },
       "data": [
        {
         "marker": {
          "color": "rgba(255, 174, 255, 0.5)",
          "line": {
           "color": "rgb(0,0,0)",
           "width": 1.5
          }
         },
         "name": "country",
         "text": [
          "South Korea",
          "China",
          "Japan",
          "Australia",
          "United States of America",
          "Hong Kong",
          "Sweden",
          "United Kingdom",
          "Canada",
          "Switzerland",
          "Singapore",
          "Germany",
          "Republic of Ireland",
          "France"
         ],
         "type": "bar",
         "x": [
          "South Korea",
          "China",
          "Japan",
          "Australia",
          "United States of America",
          "Hong Kong",
          "Sweden",
          "United Kingdom",
          "Canada",
          "Switzerland",
          "Singapore",
          "Germany",
          "Republic of Ireland",
          "France"
         ],
         "y": [
          100,
          75.56666666666666,
          67.1,
          62.074999999999996,
          61.290909090909096,
          60.3,
          53.25,
          44.978571428571435,
          42.6,
          42.53333333333333,
          40.5,
          37.06666666666666,
          31.6,
          28.4
         ]
        }
       ],
       "layout": {
        "barmode": "group",
        "template": {
         "data": {
          "bar": [
           {
            "error_x": {
             "color": "#2a3f5f"
            },
            "error_y": {
             "color": "#2a3f5f"
            },
            "marker": {
             "line": {
              "color": "#E5ECF6",
              "width": 0.5
             }
            },
            "type": "bar"
           }
          ],
          "barpolar": [
           {
            "marker": {
             "line": {
              "color": "#E5ECF6",
              "width": 0.5
             }
            },
            "type": "barpolar"
           }
          ],
          "carpet": [
           {
            "aaxis": {
             "endlinecolor": "#2a3f5f",
             "gridcolor": "white",
             "linecolor": "white",
             "minorgridcolor": "white",
             "startlinecolor": "#2a3f5f"
            },
            "baxis": {
             "endlinecolor": "#2a3f5f",
             "gridcolor": "white",
             "linecolor": "white",
             "minorgridcolor": "white",
             "startlinecolor": "#2a3f5f"
            },
            "type": "carpet"
           }
          ],
          "choropleth": [
           {
            "colorbar": {
             "outlinewidth": 0,
             "ticks": ""
            },
            "type": "choropleth"
           }
          ],
          "contour": [
           {
            "colorbar": {
             "outlinewidth": 0,
             "ticks": ""
            },
            "colorscale": [
             [
              0,
              "#0d0887"
             ],
             [
              0.1111111111111111,
              "#46039f"
             ],
             [
              0.2222222222222222,
              "#7201a8"
             ],
             [
              0.3333333333333333,
              "#9c179e"
             ],
             [
              0.4444444444444444,
              "#bd3786"
             ],
             [
              0.5555555555555556,
              "#d8576b"
             ],
             [
              0.6666666666666666,
              "#ed7953"
             ],
             [
              0.7777777777777778,
              "#fb9f3a"
             ],
             [
              0.8888888888888888,
              "#fdca26"
             ],
             [
              1,
              "#f0f921"
             ]
            ],
            "type": "contour"
           }
          ],
          "contourcarpet": [
           {
            "colorbar": {
             "outlinewidth": 0,
             "ticks": ""
            },
            "type": "contourcarpet"
           }
          ],
          "heatmap": [
           {
            "colorbar": {
             "outlinewidth": 0,
             "ticks": ""
            },
            "colorscale": [
             [
              0,
              "#0d0887"
             ],
             [
              0.1111111111111111,
              "#46039f"
             ],
             [
              0.2222222222222222,
              "#7201a8"
             ],
             [
              0.3333333333333333,
              "#9c179e"
             ],
             [
              0.4444444444444444,
              "#bd3786"
             ],
             [
              0.5555555555555556,
              "#d8576b"
             ],
             [
              0.6666666666666666,
              "#ed7953"
             ],
             [
              0.7777777777777778,
              "#fb9f3a"
             ],
             [
              0.8888888888888888,
              "#fdca26"
             ],
             [
              1,
              "#f0f921"
             ]
            ],
            "type": "heatmap"
           }
          ],
          "heatmapgl": [
           {
            "colorbar": {
             "outlinewidth": 0,
             "ticks": ""
            },
            "colorscale": [
             [
              0,
              "#0d0887"
             ],
             [
              0.1111111111111111,
              "#46039f"
             ],
             [
              0.2222222222222222,
              "#7201a8"
             ],
             [
              0.3333333333333333,
              "#9c179e"
             ],
             [
              0.4444444444444444,
              "#bd3786"
             ],
             [
              0.5555555555555556,
              "#d8576b"
             ],
             [
              0.6666666666666666,
              "#ed7953"
             ],
             [
              0.7777777777777778,
              "#fb9f3a"
             ],
             [
              0.8888888888888888,
              "#fdca26"
             ],
             [
              1,
              "#f0f921"
             ]
            ],
            "type": "heatmapgl"
           }
          ],
          "histogram": [
           {
            "marker": {
             "colorbar": {
              "outlinewidth": 0,
              "ticks": ""
             }
            },
            "type": "histogram"
           }
          ],
          "histogram2d": [
           {
            "colorbar": {
             "outlinewidth": 0,
             "ticks": ""
            },
            "colorscale": [
             [
              0,
              "#0d0887"
             ],
             [
              0.1111111111111111,
              "#46039f"
             ],
             [
              0.2222222222222222,
              "#7201a8"
             ],
             [
              0.3333333333333333,
              "#9c179e"
             ],
             [
              0.4444444444444444,
              "#bd3786"
             ],
             [
              0.5555555555555556,
              "#d8576b"
             ],
             [
              0.6666666666666666,
              "#ed7953"
             ],
             [
              0.7777777777777778,
              "#fb9f3a"
             ],
             [
              0.8888888888888888,
              "#fdca26"
             ],
             [
              1,
              "#f0f921"
             ]
            ],
            "type": "histogram2d"
           }
          ],
          "histogram2dcontour": [
           {
            "colorbar": {
             "outlinewidth": 0,
             "ticks": ""
            },
            "colorscale": [
             [
              0,
              "#0d0887"
             ],
             [
              0.1111111111111111,
              "#46039f"
             ],
             [
              0.2222222222222222,
              "#7201a8"
             ],
             [
              0.3333333333333333,
              "#9c179e"
             ],
             [
              0.4444444444444444,
              "#bd3786"
             ],
             [
              0.5555555555555556,
              "#d8576b"
             ],
             [
              0.6666666666666666,
              "#ed7953"
             ],
             [
              0.7777777777777778,
              "#fb9f3a"
             ],
             [
              0.8888888888888888,
              "#fdca26"
             ],
             [
              1,
              "#f0f921"
             ]
            ],
            "type": "histogram2dcontour"
           }
          ],
          "mesh3d": [
           {
            "colorbar": {
             "outlinewidth": 0,
             "ticks": ""
            },
            "type": "mesh3d"
           }
          ],
          "parcoords": [
           {
            "line": {
             "colorbar": {
              "outlinewidth": 0,
              "ticks": ""
             }
            },
            "type": "parcoords"
           }
          ],
          "pie": [
           {
            "automargin": true,
            "type": "pie"
           }
          ],
          "scatter": [
           {
            "marker": {
             "colorbar": {
              "outlinewidth": 0,
              "ticks": ""
             }
            },
            "type": "scatter"
           }
          ],
          "scatter3d": [
           {
            "line": {
             "colorbar": {
              "outlinewidth": 0,
              "ticks": ""
             }
            },
            "marker": {
             "colorbar": {
              "outlinewidth": 0,
              "ticks": ""
             }
            },
            "type": "scatter3d"
           }
          ],
          "scattercarpet": [
           {
            "marker": {
             "colorbar": {
              "outlinewidth": 0,
              "ticks": ""
             }
            },
            "type": "scattercarpet"
           }
          ],
          "scattergeo": [
           {
            "marker": {
             "colorbar": {
              "outlinewidth": 0,
              "ticks": ""
             }
            },
            "type": "scattergeo"
           }
          ],
          "scattergl": [
           {
            "marker": {
             "colorbar": {
              "outlinewidth": 0,
              "ticks": ""
             }
            },
            "type": "scattergl"
           }
          ],
          "scattermapbox": [
           {
            "marker": {
             "colorbar": {
              "outlinewidth": 0,
              "ticks": ""
             }
            },
            "type": "scattermapbox"
           }
          ],
          "scatterpolar": [
           {
            "marker": {
             "colorbar": {
              "outlinewidth": 0,
              "ticks": ""
             }
            },
            "type": "scatterpolar"
           }
          ],
          "scatterpolargl": [
           {
            "marker": {
             "colorbar": {
              "outlinewidth": 0,
              "ticks": ""
             }
            },
            "type": "scatterpolargl"
           }
          ],
          "scatterternary": [
           {
            "marker": {
             "colorbar": {
              "outlinewidth": 0,
              "ticks": ""
             }
            },
            "type": "scatterternary"
           }
          ],
          "surface": [
           {
            "colorbar": {
             "outlinewidth": 0,
             "ticks": ""
            },
            "colorscale": [
             [
              0,
              "#0d0887"
             ],
             [
              0.1111111111111111,
              "#46039f"
             ],
             [
              0.2222222222222222,
              "#7201a8"
             ],
             [
              0.3333333333333333,
              "#9c179e"
             ],
             [
              0.4444444444444444,
              "#bd3786"
             ],
             [
              0.5555555555555556,
              "#d8576b"
             ],
             [
              0.6666666666666666,
              "#ed7953"
             ],
             [
              0.7777777777777778,
              "#fb9f3a"
             ],
             [
              0.8888888888888888,
              "#fdca26"
             ],
             [
              1,
              "#f0f921"
             ]
            ],
            "type": "surface"
           }
          ],
          "table": [
           {
            "cells": {
             "fill": {
              "color": "#EBF0F8"
             },
             "line": {
              "color": "white"
             }
            },
            "header": {
             "fill": {
              "color": "#C8D4E3"
             },
             "line": {
              "color": "white"
             }
            },
            "type": "table"
           }
          ]
         },
         "layout": {
          "annotationdefaults": {
           "arrowcolor": "#2a3f5f",
           "arrowhead": 0,
           "arrowwidth": 1
          },
          "coloraxis": {
           "colorbar": {
            "outlinewidth": 0,
            "ticks": ""
           }
          },
          "colorscale": {
           "diverging": [
            [
             0,
             "#8e0152"
            ],
            [
             0.1,
             "#c51b7d"
            ],
            [
             0.2,
             "#de77ae"
            ],
            [
             0.3,
             "#f1b6da"
            ],
            [
             0.4,
             "#fde0ef"
            ],
            [
             0.5,
             "#f7f7f7"
            ],
            [
             0.6,
             "#e6f5d0"
            ],
            [
             0.7,
             "#b8e186"
            ],
            [
             0.8,
             "#7fbc41"
            ],
            [
             0.9,
             "#4d9221"
            ],
            [
             1,
             "#276419"
            ]
           ],
           "sequential": [
            [
             0,
             "#0d0887"
            ],
            [
             0.1111111111111111,
             "#46039f"
            ],
            [
             0.2222222222222222,
             "#7201a8"
            ],
            [
             0.3333333333333333,
             "#9c179e"
            ],
            [
             0.4444444444444444,
             "#bd3786"
            ],
            [
             0.5555555555555556,
             "#d8576b"
            ],
            [
             0.6666666666666666,
             "#ed7953"
            ],
            [
             0.7777777777777778,
             "#fb9f3a"
            ],
            [
             0.8888888888888888,
             "#fdca26"
            ],
            [
             1,
             "#f0f921"
            ]
           ],
           "sequentialminus": [
            [
             0,
             "#0d0887"
            ],
            [
             0.1111111111111111,
             "#46039f"
            ],
            [
             0.2222222222222222,
             "#7201a8"
            ],
            [
             0.3333333333333333,
             "#9c179e"
            ],
            [
             0.4444444444444444,
             "#bd3786"
            ],
            [
             0.5555555555555556,
             "#d8576b"
            ],
            [
             0.6666666666666666,
             "#ed7953"
            ],
            [
             0.7777777777777778,
             "#fb9f3a"
            ],
            [
             0.8888888888888888,
             "#fdca26"
            ],
            [
             1,
             "#f0f921"
            ]
           ]
          },
          "colorway": [
           "#636efa",
           "#EF553B",
           "#00cc96",
           "#ab63fa",
           "#FFA15A",
           "#19d3f3",
           "#FF6692",
           "#B6E880",
           "#FF97FF",
           "#FECB52"
          ],
          "font": {
           "color": "#2a3f5f"
          },
          "geo": {
           "bgcolor": "white",
           "lakecolor": "white",
           "landcolor": "#E5ECF6",
           "showlakes": true,
           "showland": true,
           "subunitcolor": "white"
          },
          "hoverlabel": {
           "align": "left"
          },
          "hovermode": "closest",
          "mapbox": {
           "style": "light"
          },
          "paper_bgcolor": "white",
          "plot_bgcolor": "#E5ECF6",
          "polar": {
           "angularaxis": {
            "gridcolor": "white",
            "linecolor": "white",
            "ticks": ""
           },
           "bgcolor": "#E5ECF6",
           "radialaxis": {
            "gridcolor": "white",
            "linecolor": "white",
            "ticks": ""
           }
          },
          "scene": {
           "xaxis": {
            "backgroundcolor": "#E5ECF6",
            "gridcolor": "white",
            "gridwidth": 2,
            "linecolor": "white",
            "showbackground": true,
            "ticks": "",
            "zerolinecolor": "white"
           },
           "yaxis": {
            "backgroundcolor": "#E5ECF6",
            "gridcolor": "white",
            "gridwidth": 2,
            "linecolor": "white",
            "showbackground": true,
            "ticks": "",
            "zerolinecolor": "white"
           },
           "zaxis": {
            "backgroundcolor": "#E5ECF6",
            "gridcolor": "white",
            "gridwidth": 2,
            "linecolor": "white",
            "showbackground": true,
            "ticks": "",
            "zerolinecolor": "white"
           }
          },
          "shapedefaults": {
           "line": {
            "color": "#2a3f5f"
           }
          },
          "ternary": {
           "aaxis": {
            "gridcolor": "white",
            "linecolor": "white",
            "ticks": ""
           },
           "baxis": {
            "gridcolor": "white",
            "linecolor": "white",
            "ticks": ""
           },
           "bgcolor": "#E5ECF6",
           "caxis": {
            "gridcolor": "white",
            "linecolor": "white",
            "ticks": ""
           }
          },
          "title": {
           "x": 0.05
          },
          "xaxis": {
           "automargin": true,
           "gridcolor": "white",
           "linecolor": "white",
           "ticks": "",
           "title": {
            "standoff": 15
           },
           "zerolinecolor": "white",
           "zerolinewidth": 2
          },
          "yaxis": {
           "automargin": true,
           "gridcolor": "white",
           "linecolor": "white",
           "ticks": "",
           "title": {
            "standoff": 15
           },
           "zerolinecolor": "white",
           "zerolinewidth": 2
          }
         }
        }
       }
      },
      "text/html": [
       "<div>\n",
       "        \n",
       "        \n",
       "            <div id=\"63de8e80-a614-4aeb-a570-079af314598e\" class=\"plotly-graph-div\" style=\"height:525px; width:100%;\"></div>\n",
       "            <script type=\"text/javascript\">\n",
       "                require([\"plotly\"], function(Plotly) {\n",
       "                    window.PLOTLYENV=window.PLOTLYENV || {};\n",
       "                    \n",
       "                if (document.getElementById(\"63de8e80-a614-4aeb-a570-079af314598e\")) {\n",
       "                    Plotly.newPlot(\n",
       "                        '63de8e80-a614-4aeb-a570-079af314598e',\n",
       "                        [{\"marker\": {\"color\": \"rgba(255, 174, 255, 0.5)\", \"line\": {\"color\": \"rgb(0,0,0)\", \"width\": 1.5}}, \"name\": \"country\", \"text\": [\"South Korea\", \"China\", \"Japan\", \"Australia\", \"United States of America\", \"Hong Kong\", \"Sweden\", \"United Kingdom\", \"Canada\", \"Switzerland\", \"Singapore\", \"Germany\", \"Republic of Ireland\", \"France\"], \"type\": \"bar\", \"x\": [\"South Korea\", \"China\", \"Japan\", \"Australia\", \"United States of America\", \"Hong Kong\", \"Sweden\", \"United Kingdom\", \"Canada\", \"Switzerland\", \"Singapore\", \"Germany\", \"Republic of Ireland\", \"France\"], \"y\": [100.0, 75.56666666666666, 67.1, 62.074999999999996, 61.290909090909096, 60.3, 53.25, 44.978571428571435, 42.6, 42.53333333333333, 40.5, 37.06666666666666, 31.6, 28.4]}],\n",
       "                        {\"barmode\": \"group\", \"template\": {\"data\": {\"bar\": [{\"error_x\": {\"color\": \"#2a3f5f\"}, \"error_y\": {\"color\": \"#2a3f5f\"}, \"marker\": {\"line\": {\"color\": \"#E5ECF6\", \"width\": 0.5}}, \"type\": \"bar\"}], \"barpolar\": [{\"marker\": {\"line\": {\"color\": \"#E5ECF6\", \"width\": 0.5}}, \"type\": \"barpolar\"}], \"carpet\": [{\"aaxis\": {\"endlinecolor\": \"#2a3f5f\", \"gridcolor\": \"white\", \"linecolor\": \"white\", \"minorgridcolor\": \"white\", \"startlinecolor\": \"#2a3f5f\"}, \"baxis\": {\"endlinecolor\": \"#2a3f5f\", \"gridcolor\": \"white\", \"linecolor\": \"white\", \"minorgridcolor\": \"white\", \"startlinecolor\": \"#2a3f5f\"}, \"type\": \"carpet\"}], \"choropleth\": [{\"colorbar\": {\"outlinewidth\": 0, \"ticks\": \"\"}, \"type\": \"choropleth\"}], \"contour\": [{\"colorbar\": {\"outlinewidth\": 0, \"ticks\": \"\"}, \"colorscale\": [[0.0, \"#0d0887\"], [0.1111111111111111, \"#46039f\"], [0.2222222222222222, \"#7201a8\"], [0.3333333333333333, \"#9c179e\"], [0.4444444444444444, \"#bd3786\"], [0.5555555555555556, \"#d8576b\"], [0.6666666666666666, \"#ed7953\"], [0.7777777777777778, \"#fb9f3a\"], [0.8888888888888888, \"#fdca26\"], [1.0, \"#f0f921\"]], \"type\": \"contour\"}], \"contourcarpet\": [{\"colorbar\": {\"outlinewidth\": 0, \"ticks\": \"\"}, \"type\": \"contourcarpet\"}], \"heatmap\": [{\"colorbar\": {\"outlinewidth\": 0, \"ticks\": \"\"}, \"colorscale\": [[0.0, \"#0d0887\"], [0.1111111111111111, \"#46039f\"], [0.2222222222222222, \"#7201a8\"], [0.3333333333333333, \"#9c179e\"], [0.4444444444444444, \"#bd3786\"], [0.5555555555555556, \"#d8576b\"], [0.6666666666666666, \"#ed7953\"], [0.7777777777777778, \"#fb9f3a\"], [0.8888888888888888, \"#fdca26\"], [1.0, \"#f0f921\"]], \"type\": \"heatmap\"}], \"heatmapgl\": [{\"colorbar\": {\"outlinewidth\": 0, \"ticks\": \"\"}, \"colorscale\": [[0.0, \"#0d0887\"], [0.1111111111111111, \"#46039f\"], [0.2222222222222222, \"#7201a8\"], [0.3333333333333333, \"#9c179e\"], [0.4444444444444444, \"#bd3786\"], [0.5555555555555556, \"#d8576b\"], [0.6666666666666666, \"#ed7953\"], [0.7777777777777778, \"#fb9f3a\"], [0.8888888888888888, \"#fdca26\"], [1.0, \"#f0f921\"]], \"type\": \"heatmapgl\"}], \"histogram\": [{\"marker\": {\"colorbar\": {\"outlinewidth\": 0, \"ticks\": \"\"}}, \"type\": \"histogram\"}], \"histogram2d\": [{\"colorbar\": {\"outlinewidth\": 0, \"ticks\": \"\"}, \"colorscale\": [[0.0, \"#0d0887\"], [0.1111111111111111, \"#46039f\"], [0.2222222222222222, \"#7201a8\"], [0.3333333333333333, \"#9c179e\"], [0.4444444444444444, \"#bd3786\"], [0.5555555555555556, \"#d8576b\"], [0.6666666666666666, \"#ed7953\"], [0.7777777777777778, \"#fb9f3a\"], [0.8888888888888888, \"#fdca26\"], [1.0, \"#f0f921\"]], \"type\": \"histogram2d\"}], \"histogram2dcontour\": [{\"colorbar\": {\"outlinewidth\": 0, \"ticks\": \"\"}, \"colorscale\": [[0.0, \"#0d0887\"], [0.1111111111111111, \"#46039f\"], [0.2222222222222222, \"#7201a8\"], [0.3333333333333333, \"#9c179e\"], [0.4444444444444444, \"#bd3786\"], [0.5555555555555556, \"#d8576b\"], [0.6666666666666666, \"#ed7953\"], [0.7777777777777778, \"#fb9f3a\"], [0.8888888888888888, \"#fdca26\"], [1.0, \"#f0f921\"]], \"type\": \"histogram2dcontour\"}], \"mesh3d\": [{\"colorbar\": {\"outlinewidth\": 0, \"ticks\": \"\"}, \"type\": \"mesh3d\"}], \"parcoords\": [{\"line\": {\"colorbar\": {\"outlinewidth\": 0, \"ticks\": \"\"}}, \"type\": \"parcoords\"}], \"pie\": [{\"automargin\": true, \"type\": \"pie\"}], \"scatter\": [{\"marker\": {\"colorbar\": {\"outlinewidth\": 0, \"ticks\": \"\"}}, \"type\": \"scatter\"}], \"scatter3d\": [{\"line\": {\"colorbar\": {\"outlinewidth\": 0, \"ticks\": \"\"}}, \"marker\": {\"colorbar\": {\"outlinewidth\": 0, \"ticks\": \"\"}}, \"type\": \"scatter3d\"}], \"scattercarpet\": [{\"marker\": {\"colorbar\": {\"outlinewidth\": 0, \"ticks\": \"\"}}, \"type\": \"scattercarpet\"}], \"scattergeo\": [{\"marker\": {\"colorbar\": {\"outlinewidth\": 0, \"ticks\": \"\"}}, \"type\": \"scattergeo\"}], \"scattergl\": [{\"marker\": {\"colorbar\": {\"outlinewidth\": 0, \"ticks\": \"\"}}, \"type\": \"scattergl\"}], \"scattermapbox\": [{\"marker\": {\"colorbar\": {\"outlinewidth\": 0, \"ticks\": \"\"}}, \"type\": \"scattermapbox\"}], \"scatterpolar\": [{\"marker\": {\"colorbar\": {\"outlinewidth\": 0, \"ticks\": \"\"}}, \"type\": \"scatterpolar\"}], \"scatterpolargl\": [{\"marker\": {\"colorbar\": {\"outlinewidth\": 0, \"ticks\": \"\"}}, \"type\": \"scatterpolargl\"}], \"scatterternary\": [{\"marker\": {\"colorbar\": {\"outlinewidth\": 0, \"ticks\": \"\"}}, \"type\": \"scatterternary\"}], \"surface\": [{\"colorbar\": {\"outlinewidth\": 0, \"ticks\": \"\"}, \"colorscale\": [[0.0, \"#0d0887\"], [0.1111111111111111, \"#46039f\"], [0.2222222222222222, \"#7201a8\"], [0.3333333333333333, \"#9c179e\"], [0.4444444444444444, \"#bd3786\"], [0.5555555555555556, \"#d8576b\"], [0.6666666666666666, \"#ed7953\"], [0.7777777777777778, \"#fb9f3a\"], [0.8888888888888888, \"#fdca26\"], [1.0, \"#f0f921\"]], \"type\": \"surface\"}], \"table\": [{\"cells\": {\"fill\": {\"color\": \"#EBF0F8\"}, \"line\": {\"color\": \"white\"}}, \"header\": {\"fill\": {\"color\": \"#C8D4E3\"}, \"line\": {\"color\": \"white\"}}, \"type\": \"table\"}]}, \"layout\": {\"annotationdefaults\": {\"arrowcolor\": \"#2a3f5f\", \"arrowhead\": 0, \"arrowwidth\": 1}, \"coloraxis\": {\"colorbar\": {\"outlinewidth\": 0, \"ticks\": \"\"}}, \"colorscale\": {\"diverging\": [[0, \"#8e0152\"], [0.1, \"#c51b7d\"], [0.2, \"#de77ae\"], [0.3, \"#f1b6da\"], [0.4, \"#fde0ef\"], [0.5, \"#f7f7f7\"], [0.6, \"#e6f5d0\"], [0.7, \"#b8e186\"], [0.8, \"#7fbc41\"], [0.9, \"#4d9221\"], [1, \"#276419\"]], \"sequential\": [[0.0, \"#0d0887\"], [0.1111111111111111, \"#46039f\"], [0.2222222222222222, \"#7201a8\"], [0.3333333333333333, \"#9c179e\"], [0.4444444444444444, \"#bd3786\"], [0.5555555555555556, \"#d8576b\"], [0.6666666666666666, \"#ed7953\"], [0.7777777777777778, \"#fb9f3a\"], [0.8888888888888888, \"#fdca26\"], [1.0, \"#f0f921\"]], \"sequentialminus\": [[0.0, \"#0d0887\"], [0.1111111111111111, \"#46039f\"], [0.2222222222222222, \"#7201a8\"], [0.3333333333333333, \"#9c179e\"], [0.4444444444444444, \"#bd3786\"], [0.5555555555555556, \"#d8576b\"], [0.6666666666666666, \"#ed7953\"], [0.7777777777777778, \"#fb9f3a\"], [0.8888888888888888, \"#fdca26\"], [1.0, \"#f0f921\"]]}, \"colorway\": [\"#636efa\", \"#EF553B\", \"#00cc96\", \"#ab63fa\", \"#FFA15A\", \"#19d3f3\", \"#FF6692\", \"#B6E880\", \"#FF97FF\", \"#FECB52\"], \"font\": {\"color\": \"#2a3f5f\"}, \"geo\": {\"bgcolor\": \"white\", \"lakecolor\": \"white\", \"landcolor\": \"#E5ECF6\", \"showlakes\": true, \"showland\": true, \"subunitcolor\": \"white\"}, \"hoverlabel\": {\"align\": \"left\"}, \"hovermode\": \"closest\", \"mapbox\": {\"style\": \"light\"}, \"paper_bgcolor\": \"white\", \"plot_bgcolor\": \"#E5ECF6\", \"polar\": {\"angularaxis\": {\"gridcolor\": \"white\", \"linecolor\": \"white\", \"ticks\": \"\"}, \"bgcolor\": \"#E5ECF6\", \"radialaxis\": {\"gridcolor\": \"white\", \"linecolor\": \"white\", \"ticks\": \"\"}}, \"scene\": {\"xaxis\": {\"backgroundcolor\": \"#E5ECF6\", \"gridcolor\": \"white\", \"gridwidth\": 2, \"linecolor\": \"white\", \"showbackground\": true, \"ticks\": \"\", \"zerolinecolor\": \"white\"}, \"yaxis\": {\"backgroundcolor\": \"#E5ECF6\", \"gridcolor\": \"white\", \"gridwidth\": 2, \"linecolor\": \"white\", \"showbackground\": true, \"ticks\": \"\", \"zerolinecolor\": \"white\"}, \"zaxis\": {\"backgroundcolor\": \"#E5ECF6\", \"gridcolor\": \"white\", \"gridwidth\": 2, \"linecolor\": \"white\", \"showbackground\": true, \"ticks\": \"\", \"zerolinecolor\": \"white\"}}, \"shapedefaults\": {\"line\": {\"color\": \"#2a3f5f\"}}, \"ternary\": {\"aaxis\": {\"gridcolor\": \"white\", \"linecolor\": \"white\", \"ticks\": \"\"}, \"baxis\": {\"gridcolor\": \"white\", \"linecolor\": \"white\", \"ticks\": \"\"}, \"bgcolor\": \"#E5ECF6\", \"caxis\": {\"gridcolor\": \"white\", \"linecolor\": \"white\", \"ticks\": \"\"}}, \"title\": {\"x\": 0.05}, \"xaxis\": {\"automargin\": true, \"gridcolor\": \"white\", \"linecolor\": \"white\", \"ticks\": \"\", \"title\": {\"standoff\": 15}, \"zerolinecolor\": \"white\", \"zerolinewidth\": 2}, \"yaxis\": {\"automargin\": true, \"gridcolor\": \"white\", \"linecolor\": \"white\", \"ticks\": \"\", \"title\": {\"standoff\": 15}, \"zerolinecolor\": \"white\", \"zerolinewidth\": 2}}}},\n",
       "                        {\"responsive\": true}\n",
       "                    ).then(function(){\n",
       "                            \n",
       "var gd = document.getElementById('63de8e80-a614-4aeb-a570-079af314598e');\n",
       "var x = new MutationObserver(function (mutations, observer) {{\n",
       "        var display = window.getComputedStyle(gd).display;\n",
       "        if (!display || display === 'none') {{\n",
       "            console.log([gd, 'removed!']);\n",
       "            Plotly.purge(gd);\n",
       "            observer.disconnect();\n",
       "        }}\n",
       "}});\n",
       "\n",
       "// Listen for the removal of the full notebook cells\n",
       "var notebookContainer = gd.closest('#notebook-container');\n",
       "if (notebookContainer) {{\n",
       "    x.observe(notebookContainer, {childList: true});\n",
       "}}\n",
       "\n",
       "// Listen for the clearing of the current output cell\n",
       "var outputEl = gd.closest('.output');\n",
       "if (outputEl) {{\n",
       "    x.observe(outputEl, {childList: true});\n",
       "}}\n",
       "\n",
       "                        })\n",
       "                };\n",
       "                });\n",
       "            </script>\n",
       "        </div>"
      ]
     },
     "metadata": {},
     "output_type": "display_data"
    }
   ],
   "source": [
    "# Création du premier trace \n",
    "trace1 = go.Bar(\n",
    "                x = df.index,\n",
    "                y = df.income,\n",
    "                name = \"country\",\n",
    "                marker = dict(color = 'rgba(255, 174, 255, 0.5)',\n",
    "                             line = dict(color ='rgb(0,0,0)',width =1.5)),\n",
    "                text = df.index)\n",
    "\n",
    "data = [trace1]\n",
    "layout = go.Layout(barmode = \"group\")\n",
    "fig = go.Figure(data = data, layout = layout)\n",
    "iplot(fig)"
   ]
  },
  {
   "cell_type": "code",
   "execution_count": 5,
   "metadata": {},
   "outputs": [
    {
     "data": {
      "application/vnd.plotly.v1+json": {
       "config": {
        "linkText": "Export to plot.ly",
        "plotlyServerURL": "https://plot.ly",
        "showLink": false
       },
       "data": [
        {
         "marker": {
          "color": "rgba(16, 112, 2, 0.8)"
         },
         "mode": "lines+markers",
         "name": "country",
         "text": [
          "South Korea",
          "China",
          "Japan",
          "Australia",
          "United States of America",
          "Hong Kong",
          "Sweden",
          "United Kingdom",
          "Canada",
          "Switzerland",
          "Singapore",
          "Germany",
          "Republic of Ireland",
          "France"
         ],
         "type": "scatter",
         "x": [
          "South Korea",
          "China",
          "Japan",
          "Australia",
          "United States of America",
          "Hong Kong",
          "Sweden",
          "United Kingdom",
          "Canada",
          "Switzerland",
          "Singapore",
          "Germany",
          "Republic of Ireland",
          "France"
         ],
         "y": [
          100,
          75.56666666666666,
          67.1,
          62.074999999999996,
          61.290909090909096,
          60.3,
          53.25,
          44.978571428571435,
          42.6,
          42.53333333333333,
          40.5,
          37.06666666666666,
          31.6,
          28.4
         ]
        }
       ],
       "layout": {
        "template": {
         "data": {
          "bar": [
           {
            "error_x": {
             "color": "#2a3f5f"
            },
            "error_y": {
             "color": "#2a3f5f"
            },
            "marker": {
             "line": {
              "color": "#E5ECF6",
              "width": 0.5
             }
            },
            "type": "bar"
           }
          ],
          "barpolar": [
           {
            "marker": {
             "line": {
              "color": "#E5ECF6",
              "width": 0.5
             }
            },
            "type": "barpolar"
           }
          ],
          "carpet": [
           {
            "aaxis": {
             "endlinecolor": "#2a3f5f",
             "gridcolor": "white",
             "linecolor": "white",
             "minorgridcolor": "white",
             "startlinecolor": "#2a3f5f"
            },
            "baxis": {
             "endlinecolor": "#2a3f5f",
             "gridcolor": "white",
             "linecolor": "white",
             "minorgridcolor": "white",
             "startlinecolor": "#2a3f5f"
            },
            "type": "carpet"
           }
          ],
          "choropleth": [
           {
            "colorbar": {
             "outlinewidth": 0,
             "ticks": ""
            },
            "type": "choropleth"
           }
          ],
          "contour": [
           {
            "colorbar": {
             "outlinewidth": 0,
             "ticks": ""
            },
            "colorscale": [
             [
              0,
              "#0d0887"
             ],
             [
              0.1111111111111111,
              "#46039f"
             ],
             [
              0.2222222222222222,
              "#7201a8"
             ],
             [
              0.3333333333333333,
              "#9c179e"
             ],
             [
              0.4444444444444444,
              "#bd3786"
             ],
             [
              0.5555555555555556,
              "#d8576b"
             ],
             [
              0.6666666666666666,
              "#ed7953"
             ],
             [
              0.7777777777777778,
              "#fb9f3a"
             ],
             [
              0.8888888888888888,
              "#fdca26"
             ],
             [
              1,
              "#f0f921"
             ]
            ],
            "type": "contour"
           }
          ],
          "contourcarpet": [
           {
            "colorbar": {
             "outlinewidth": 0,
             "ticks": ""
            },
            "type": "contourcarpet"
           }
          ],
          "heatmap": [
           {
            "colorbar": {
             "outlinewidth": 0,
             "ticks": ""
            },
            "colorscale": [
             [
              0,
              "#0d0887"
             ],
             [
              0.1111111111111111,
              "#46039f"
             ],
             [
              0.2222222222222222,
              "#7201a8"
             ],
             [
              0.3333333333333333,
              "#9c179e"
             ],
             [
              0.4444444444444444,
              "#bd3786"
             ],
             [
              0.5555555555555556,
              "#d8576b"
             ],
             [
              0.6666666666666666,
              "#ed7953"
             ],
             [
              0.7777777777777778,
              "#fb9f3a"
             ],
             [
              0.8888888888888888,
              "#fdca26"
             ],
             [
              1,
              "#f0f921"
             ]
            ],
            "type": "heatmap"
           }
          ],
          "heatmapgl": [
           {
            "colorbar": {
             "outlinewidth": 0,
             "ticks": ""
            },
            "colorscale": [
             [
              0,
              "#0d0887"
             ],
             [
              0.1111111111111111,
              "#46039f"
             ],
             [
              0.2222222222222222,
              "#7201a8"
             ],
             [
              0.3333333333333333,
              "#9c179e"
             ],
             [
              0.4444444444444444,
              "#bd3786"
             ],
             [
              0.5555555555555556,
              "#d8576b"
             ],
             [
              0.6666666666666666,
              "#ed7953"
             ],
             [
              0.7777777777777778,
              "#fb9f3a"
             ],
             [
              0.8888888888888888,
              "#fdca26"
             ],
             [
              1,
              "#f0f921"
             ]
            ],
            "type": "heatmapgl"
           }
          ],
          "histogram": [
           {
            "marker": {
             "colorbar": {
              "outlinewidth": 0,
              "ticks": ""
             }
            },
            "type": "histogram"
           }
          ],
          "histogram2d": [
           {
            "colorbar": {
             "outlinewidth": 0,
             "ticks": ""
            },
            "colorscale": [
             [
              0,
              "#0d0887"
             ],
             [
              0.1111111111111111,
              "#46039f"
             ],
             [
              0.2222222222222222,
              "#7201a8"
             ],
             [
              0.3333333333333333,
              "#9c179e"
             ],
             [
              0.4444444444444444,
              "#bd3786"
             ],
             [
              0.5555555555555556,
              "#d8576b"
             ],
             [
              0.6666666666666666,
              "#ed7953"
             ],
             [
              0.7777777777777778,
              "#fb9f3a"
             ],
             [
              0.8888888888888888,
              "#fdca26"
             ],
             [
              1,
              "#f0f921"
             ]
            ],
            "type": "histogram2d"
           }
          ],
          "histogram2dcontour": [
           {
            "colorbar": {
             "outlinewidth": 0,
             "ticks": ""
            },
            "colorscale": [
             [
              0,
              "#0d0887"
             ],
             [
              0.1111111111111111,
              "#46039f"
             ],
             [
              0.2222222222222222,
              "#7201a8"
             ],
             [
              0.3333333333333333,
              "#9c179e"
             ],
             [
              0.4444444444444444,
              "#bd3786"
             ],
             [
              0.5555555555555556,
              "#d8576b"
             ],
             [
              0.6666666666666666,
              "#ed7953"
             ],
             [
              0.7777777777777778,
              "#fb9f3a"
             ],
             [
              0.8888888888888888,
              "#fdca26"
             ],
             [
              1,
              "#f0f921"
             ]
            ],
            "type": "histogram2dcontour"
           }
          ],
          "mesh3d": [
           {
            "colorbar": {
             "outlinewidth": 0,
             "ticks": ""
            },
            "type": "mesh3d"
           }
          ],
          "parcoords": [
           {
            "line": {
             "colorbar": {
              "outlinewidth": 0,
              "ticks": ""
             }
            },
            "type": "parcoords"
           }
          ],
          "pie": [
           {
            "automargin": true,
            "type": "pie"
           }
          ],
          "scatter": [
           {
            "marker": {
             "colorbar": {
              "outlinewidth": 0,
              "ticks": ""
             }
            },
            "type": "scatter"
           }
          ],
          "scatter3d": [
           {
            "line": {
             "colorbar": {
              "outlinewidth": 0,
              "ticks": ""
             }
            },
            "marker": {
             "colorbar": {
              "outlinewidth": 0,
              "ticks": ""
             }
            },
            "type": "scatter3d"
           }
          ],
          "scattercarpet": [
           {
            "marker": {
             "colorbar": {
              "outlinewidth": 0,
              "ticks": ""
             }
            },
            "type": "scattercarpet"
           }
          ],
          "scattergeo": [
           {
            "marker": {
             "colorbar": {
              "outlinewidth": 0,
              "ticks": ""
             }
            },
            "type": "scattergeo"
           }
          ],
          "scattergl": [
           {
            "marker": {
             "colorbar": {
              "outlinewidth": 0,
              "ticks": ""
             }
            },
            "type": "scattergl"
           }
          ],
          "scattermapbox": [
           {
            "marker": {
             "colorbar": {
              "outlinewidth": 0,
              "ticks": ""
             }
            },
            "type": "scattermapbox"
           }
          ],
          "scatterpolar": [
           {
            "marker": {
             "colorbar": {
              "outlinewidth": 0,
              "ticks": ""
             }
            },
            "type": "scatterpolar"
           }
          ],
          "scatterpolargl": [
           {
            "marker": {
             "colorbar": {
              "outlinewidth": 0,
              "ticks": ""
             }
            },
            "type": "scatterpolargl"
           }
          ],
          "scatterternary": [
           {
            "marker": {
             "colorbar": {
              "outlinewidth": 0,
              "ticks": ""
             }
            },
            "type": "scatterternary"
           }
          ],
          "surface": [
           {
            "colorbar": {
             "outlinewidth": 0,
             "ticks": ""
            },
            "colorscale": [
             [
              0,
              "#0d0887"
             ],
             [
              0.1111111111111111,
              "#46039f"
             ],
             [
              0.2222222222222222,
              "#7201a8"
             ],
             [
              0.3333333333333333,
              "#9c179e"
             ],
             [
              0.4444444444444444,
              "#bd3786"
             ],
             [
              0.5555555555555556,
              "#d8576b"
             ],
             [
              0.6666666666666666,
              "#ed7953"
             ],
             [
              0.7777777777777778,
              "#fb9f3a"
             ],
             [
              0.8888888888888888,
              "#fdca26"
             ],
             [
              1,
              "#f0f921"
             ]
            ],
            "type": "surface"
           }
          ],
          "table": [
           {
            "cells": {
             "fill": {
              "color": "#EBF0F8"
             },
             "line": {
              "color": "white"
             }
            },
            "header": {
             "fill": {
              "color": "#C8D4E3"
             },
             "line": {
              "color": "white"
             }
            },
            "type": "table"
           }
          ]
         },
         "layout": {
          "annotationdefaults": {
           "arrowcolor": "#2a3f5f",
           "arrowhead": 0,
           "arrowwidth": 1
          },
          "coloraxis": {
           "colorbar": {
            "outlinewidth": 0,
            "ticks": ""
           }
          },
          "colorscale": {
           "diverging": [
            [
             0,
             "#8e0152"
            ],
            [
             0.1,
             "#c51b7d"
            ],
            [
             0.2,
             "#de77ae"
            ],
            [
             0.3,
             "#f1b6da"
            ],
            [
             0.4,
             "#fde0ef"
            ],
            [
             0.5,
             "#f7f7f7"
            ],
            [
             0.6,
             "#e6f5d0"
            ],
            [
             0.7,
             "#b8e186"
            ],
            [
             0.8,
             "#7fbc41"
            ],
            [
             0.9,
             "#4d9221"
            ],
            [
             1,
             "#276419"
            ]
           ],
           "sequential": [
            [
             0,
             "#0d0887"
            ],
            [
             0.1111111111111111,
             "#46039f"
            ],
            [
             0.2222222222222222,
             "#7201a8"
            ],
            [
             0.3333333333333333,
             "#9c179e"
            ],
            [
             0.4444444444444444,
             "#bd3786"
            ],
            [
             0.5555555555555556,
             "#d8576b"
            ],
            [
             0.6666666666666666,
             "#ed7953"
            ],
            [
             0.7777777777777778,
             "#fb9f3a"
            ],
            [
             0.8888888888888888,
             "#fdca26"
            ],
            [
             1,
             "#f0f921"
            ]
           ],
           "sequentialminus": [
            [
             0,
             "#0d0887"
            ],
            [
             0.1111111111111111,
             "#46039f"
            ],
            [
             0.2222222222222222,
             "#7201a8"
            ],
            [
             0.3333333333333333,
             "#9c179e"
            ],
            [
             0.4444444444444444,
             "#bd3786"
            ],
            [
             0.5555555555555556,
             "#d8576b"
            ],
            [
             0.6666666666666666,
             "#ed7953"
            ],
            [
             0.7777777777777778,
             "#fb9f3a"
            ],
            [
             0.8888888888888888,
             "#fdca26"
            ],
            [
             1,
             "#f0f921"
            ]
           ]
          },
          "colorway": [
           "#636efa",
           "#EF553B",
           "#00cc96",
           "#ab63fa",
           "#FFA15A",
           "#19d3f3",
           "#FF6692",
           "#B6E880",
           "#FF97FF",
           "#FECB52"
          ],
          "font": {
           "color": "#2a3f5f"
          },
          "geo": {
           "bgcolor": "white",
           "lakecolor": "white",
           "landcolor": "#E5ECF6",
           "showlakes": true,
           "showland": true,
           "subunitcolor": "white"
          },
          "hoverlabel": {
           "align": "left"
          },
          "hovermode": "closest",
          "mapbox": {
           "style": "light"
          },
          "paper_bgcolor": "white",
          "plot_bgcolor": "#E5ECF6",
          "polar": {
           "angularaxis": {
            "gridcolor": "white",
            "linecolor": "white",
            "ticks": ""
           },
           "bgcolor": "#E5ECF6",
           "radialaxis": {
            "gridcolor": "white",
            "linecolor": "white",
            "ticks": ""
           }
          },
          "scene": {
           "xaxis": {
            "backgroundcolor": "#E5ECF6",
            "gridcolor": "white",
            "gridwidth": 2,
            "linecolor": "white",
            "showbackground": true,
            "ticks": "",
            "zerolinecolor": "white"
           },
           "yaxis": {
            "backgroundcolor": "#E5ECF6",
            "gridcolor": "white",
            "gridwidth": 2,
            "linecolor": "white",
            "showbackground": true,
            "ticks": "",
            "zerolinecolor": "white"
           },
           "zaxis": {
            "backgroundcolor": "#E5ECF6",
            "gridcolor": "white",
            "gridwidth": 2,
            "linecolor": "white",
            "showbackground": true,
            "ticks": "",
            "zerolinecolor": "white"
           }
          },
          "shapedefaults": {
           "line": {
            "color": "#2a3f5f"
           }
          },
          "ternary": {
           "aaxis": {
            "gridcolor": "white",
            "linecolor": "white",
            "ticks": ""
           },
           "baxis": {
            "gridcolor": "white",
            "linecolor": "white",
            "ticks": ""
           },
           "bgcolor": "#E5ECF6",
           "caxis": {
            "gridcolor": "white",
            "linecolor": "white",
            "ticks": ""
           }
          },
          "title": {
           "x": 0.05
          },
          "xaxis": {
           "automargin": true,
           "gridcolor": "white",
           "linecolor": "white",
           "ticks": "",
           "title": {
            "standoff": 15
           },
           "zerolinecolor": "white",
           "zerolinewidth": 2
          },
          "yaxis": {
           "automargin": true,
           "gridcolor": "white",
           "linecolor": "white",
           "ticks": "",
           "title": {
            "standoff": 15
           },
           "zerolinecolor": "white",
           "zerolinewidth": 2
          }
         }
        },
        "title": {
         "text": "Score universitaire pour le revenu de l'industrie (transfert de connaissances) par Pays"
        },
        "xaxis": {
         "ticklen": 5,
         "title": {
          "text": "Rang Mondial"
         },
         "zeroline": false
        }
       }
      },
      "text/html": [
       "<div>\n",
       "        \n",
       "        \n",
       "            <div id=\"35c3c69e-8e2a-42a6-b7b0-1243a989e894\" class=\"plotly-graph-div\" style=\"height:525px; width:100%;\"></div>\n",
       "            <script type=\"text/javascript\">\n",
       "                require([\"plotly\"], function(Plotly) {\n",
       "                    window.PLOTLYENV=window.PLOTLYENV || {};\n",
       "                    \n",
       "                if (document.getElementById(\"35c3c69e-8e2a-42a6-b7b0-1243a989e894\")) {\n",
       "                    Plotly.newPlot(\n",
       "                        '35c3c69e-8e2a-42a6-b7b0-1243a989e894',\n",
       "                        [{\"marker\": {\"color\": \"rgba(16, 112, 2, 0.8)\"}, \"mode\": \"lines+markers\", \"name\": \"country\", \"text\": [\"South Korea\", \"China\", \"Japan\", \"Australia\", \"United States of America\", \"Hong Kong\", \"Sweden\", \"United Kingdom\", \"Canada\", \"Switzerland\", \"Singapore\", \"Germany\", \"Republic of Ireland\", \"France\"], \"type\": \"scatter\", \"x\": [\"South Korea\", \"China\", \"Japan\", \"Australia\", \"United States of America\", \"Hong Kong\", \"Sweden\", \"United Kingdom\", \"Canada\", \"Switzerland\", \"Singapore\", \"Germany\", \"Republic of Ireland\", \"France\"], \"y\": [100.0, 75.56666666666666, 67.1, 62.074999999999996, 61.290909090909096, 60.3, 53.25, 44.978571428571435, 42.6, 42.53333333333333, 40.5, 37.06666666666666, 31.6, 28.4]}],\n",
       "                        {\"template\": {\"data\": {\"bar\": [{\"error_x\": {\"color\": \"#2a3f5f\"}, \"error_y\": {\"color\": \"#2a3f5f\"}, \"marker\": {\"line\": {\"color\": \"#E5ECF6\", \"width\": 0.5}}, \"type\": \"bar\"}], \"barpolar\": [{\"marker\": {\"line\": {\"color\": \"#E5ECF6\", \"width\": 0.5}}, \"type\": \"barpolar\"}], \"carpet\": [{\"aaxis\": {\"endlinecolor\": \"#2a3f5f\", \"gridcolor\": \"white\", \"linecolor\": \"white\", \"minorgridcolor\": \"white\", \"startlinecolor\": \"#2a3f5f\"}, \"baxis\": {\"endlinecolor\": \"#2a3f5f\", \"gridcolor\": \"white\", \"linecolor\": \"white\", \"minorgridcolor\": \"white\", \"startlinecolor\": \"#2a3f5f\"}, \"type\": \"carpet\"}], \"choropleth\": [{\"colorbar\": {\"outlinewidth\": 0, \"ticks\": \"\"}, \"type\": \"choropleth\"}], \"contour\": [{\"colorbar\": {\"outlinewidth\": 0, \"ticks\": \"\"}, \"colorscale\": [[0.0, \"#0d0887\"], [0.1111111111111111, \"#46039f\"], [0.2222222222222222, \"#7201a8\"], [0.3333333333333333, \"#9c179e\"], [0.4444444444444444, \"#bd3786\"], [0.5555555555555556, \"#d8576b\"], [0.6666666666666666, \"#ed7953\"], [0.7777777777777778, \"#fb9f3a\"], [0.8888888888888888, \"#fdca26\"], [1.0, \"#f0f921\"]], \"type\": \"contour\"}], \"contourcarpet\": [{\"colorbar\": {\"outlinewidth\": 0, \"ticks\": \"\"}, \"type\": \"contourcarpet\"}], \"heatmap\": [{\"colorbar\": {\"outlinewidth\": 0, \"ticks\": \"\"}, \"colorscale\": [[0.0, \"#0d0887\"], [0.1111111111111111, \"#46039f\"], [0.2222222222222222, \"#7201a8\"], [0.3333333333333333, \"#9c179e\"], [0.4444444444444444, \"#bd3786\"], [0.5555555555555556, \"#d8576b\"], [0.6666666666666666, \"#ed7953\"], [0.7777777777777778, \"#fb9f3a\"], [0.8888888888888888, \"#fdca26\"], [1.0, \"#f0f921\"]], \"type\": \"heatmap\"}], \"heatmapgl\": [{\"colorbar\": {\"outlinewidth\": 0, \"ticks\": \"\"}, \"colorscale\": [[0.0, \"#0d0887\"], [0.1111111111111111, \"#46039f\"], [0.2222222222222222, \"#7201a8\"], [0.3333333333333333, \"#9c179e\"], [0.4444444444444444, \"#bd3786\"], [0.5555555555555556, \"#d8576b\"], [0.6666666666666666, \"#ed7953\"], [0.7777777777777778, \"#fb9f3a\"], [0.8888888888888888, \"#fdca26\"], [1.0, \"#f0f921\"]], \"type\": \"heatmapgl\"}], \"histogram\": [{\"marker\": {\"colorbar\": {\"outlinewidth\": 0, \"ticks\": \"\"}}, \"type\": \"histogram\"}], \"histogram2d\": [{\"colorbar\": {\"outlinewidth\": 0, \"ticks\": \"\"}, \"colorscale\": [[0.0, \"#0d0887\"], [0.1111111111111111, \"#46039f\"], [0.2222222222222222, \"#7201a8\"], [0.3333333333333333, \"#9c179e\"], [0.4444444444444444, \"#bd3786\"], [0.5555555555555556, \"#d8576b\"], [0.6666666666666666, \"#ed7953\"], [0.7777777777777778, \"#fb9f3a\"], [0.8888888888888888, \"#fdca26\"], [1.0, \"#f0f921\"]], \"type\": \"histogram2d\"}], \"histogram2dcontour\": [{\"colorbar\": {\"outlinewidth\": 0, \"ticks\": \"\"}, \"colorscale\": [[0.0, \"#0d0887\"], [0.1111111111111111, \"#46039f\"], [0.2222222222222222, \"#7201a8\"], [0.3333333333333333, \"#9c179e\"], [0.4444444444444444, \"#bd3786\"], [0.5555555555555556, \"#d8576b\"], [0.6666666666666666, \"#ed7953\"], [0.7777777777777778, \"#fb9f3a\"], [0.8888888888888888, \"#fdca26\"], [1.0, \"#f0f921\"]], \"type\": \"histogram2dcontour\"}], \"mesh3d\": [{\"colorbar\": {\"outlinewidth\": 0, \"ticks\": \"\"}, \"type\": \"mesh3d\"}], \"parcoords\": [{\"line\": {\"colorbar\": {\"outlinewidth\": 0, \"ticks\": \"\"}}, \"type\": \"parcoords\"}], \"pie\": [{\"automargin\": true, \"type\": \"pie\"}], \"scatter\": [{\"marker\": {\"colorbar\": {\"outlinewidth\": 0, \"ticks\": \"\"}}, \"type\": \"scatter\"}], \"scatter3d\": [{\"line\": {\"colorbar\": {\"outlinewidth\": 0, \"ticks\": \"\"}}, \"marker\": {\"colorbar\": {\"outlinewidth\": 0, \"ticks\": \"\"}}, \"type\": \"scatter3d\"}], \"scattercarpet\": [{\"marker\": {\"colorbar\": {\"outlinewidth\": 0, \"ticks\": \"\"}}, \"type\": \"scattercarpet\"}], \"scattergeo\": [{\"marker\": {\"colorbar\": {\"outlinewidth\": 0, \"ticks\": \"\"}}, \"type\": \"scattergeo\"}], \"scattergl\": [{\"marker\": {\"colorbar\": {\"outlinewidth\": 0, \"ticks\": \"\"}}, \"type\": \"scattergl\"}], \"scattermapbox\": [{\"marker\": {\"colorbar\": {\"outlinewidth\": 0, \"ticks\": \"\"}}, \"type\": \"scattermapbox\"}], \"scatterpolar\": [{\"marker\": {\"colorbar\": {\"outlinewidth\": 0, \"ticks\": \"\"}}, \"type\": \"scatterpolar\"}], \"scatterpolargl\": [{\"marker\": {\"colorbar\": {\"outlinewidth\": 0, \"ticks\": \"\"}}, \"type\": \"scatterpolargl\"}], \"scatterternary\": [{\"marker\": {\"colorbar\": {\"outlinewidth\": 0, \"ticks\": \"\"}}, \"type\": \"scatterternary\"}], \"surface\": [{\"colorbar\": {\"outlinewidth\": 0, \"ticks\": \"\"}, \"colorscale\": [[0.0, \"#0d0887\"], [0.1111111111111111, \"#46039f\"], [0.2222222222222222, \"#7201a8\"], [0.3333333333333333, \"#9c179e\"], [0.4444444444444444, \"#bd3786\"], [0.5555555555555556, \"#d8576b\"], [0.6666666666666666, \"#ed7953\"], [0.7777777777777778, \"#fb9f3a\"], [0.8888888888888888, \"#fdca26\"], [1.0, \"#f0f921\"]], \"type\": \"surface\"}], \"table\": [{\"cells\": {\"fill\": {\"color\": \"#EBF0F8\"}, \"line\": {\"color\": \"white\"}}, \"header\": {\"fill\": {\"color\": \"#C8D4E3\"}, \"line\": {\"color\": \"white\"}}, \"type\": \"table\"}]}, \"layout\": {\"annotationdefaults\": {\"arrowcolor\": \"#2a3f5f\", \"arrowhead\": 0, \"arrowwidth\": 1}, \"coloraxis\": {\"colorbar\": {\"outlinewidth\": 0, \"ticks\": \"\"}}, \"colorscale\": {\"diverging\": [[0, \"#8e0152\"], [0.1, \"#c51b7d\"], [0.2, \"#de77ae\"], [0.3, \"#f1b6da\"], [0.4, \"#fde0ef\"], [0.5, \"#f7f7f7\"], [0.6, \"#e6f5d0\"], [0.7, \"#b8e186\"], [0.8, \"#7fbc41\"], [0.9, \"#4d9221\"], [1, \"#276419\"]], \"sequential\": [[0.0, \"#0d0887\"], [0.1111111111111111, \"#46039f\"], [0.2222222222222222, \"#7201a8\"], [0.3333333333333333, \"#9c179e\"], [0.4444444444444444, \"#bd3786\"], [0.5555555555555556, \"#d8576b\"], [0.6666666666666666, \"#ed7953\"], [0.7777777777777778, \"#fb9f3a\"], [0.8888888888888888, \"#fdca26\"], [1.0, \"#f0f921\"]], \"sequentialminus\": [[0.0, \"#0d0887\"], [0.1111111111111111, \"#46039f\"], [0.2222222222222222, \"#7201a8\"], [0.3333333333333333, \"#9c179e\"], [0.4444444444444444, \"#bd3786\"], [0.5555555555555556, \"#d8576b\"], [0.6666666666666666, \"#ed7953\"], [0.7777777777777778, \"#fb9f3a\"], [0.8888888888888888, \"#fdca26\"], [1.0, \"#f0f921\"]]}, \"colorway\": [\"#636efa\", \"#EF553B\", \"#00cc96\", \"#ab63fa\", \"#FFA15A\", \"#19d3f3\", \"#FF6692\", \"#B6E880\", \"#FF97FF\", \"#FECB52\"], \"font\": {\"color\": \"#2a3f5f\"}, \"geo\": {\"bgcolor\": \"white\", \"lakecolor\": \"white\", \"landcolor\": \"#E5ECF6\", \"showlakes\": true, \"showland\": true, \"subunitcolor\": \"white\"}, \"hoverlabel\": {\"align\": \"left\"}, \"hovermode\": \"closest\", \"mapbox\": {\"style\": \"light\"}, \"paper_bgcolor\": \"white\", \"plot_bgcolor\": \"#E5ECF6\", \"polar\": {\"angularaxis\": {\"gridcolor\": \"white\", \"linecolor\": \"white\", \"ticks\": \"\"}, \"bgcolor\": \"#E5ECF6\", \"radialaxis\": {\"gridcolor\": \"white\", \"linecolor\": \"white\", \"ticks\": \"\"}}, \"scene\": {\"xaxis\": {\"backgroundcolor\": \"#E5ECF6\", \"gridcolor\": \"white\", \"gridwidth\": 2, \"linecolor\": \"white\", \"showbackground\": true, \"ticks\": \"\", \"zerolinecolor\": \"white\"}, \"yaxis\": {\"backgroundcolor\": \"#E5ECF6\", \"gridcolor\": \"white\", \"gridwidth\": 2, \"linecolor\": \"white\", \"showbackground\": true, \"ticks\": \"\", \"zerolinecolor\": \"white\"}, \"zaxis\": {\"backgroundcolor\": \"#E5ECF6\", \"gridcolor\": \"white\", \"gridwidth\": 2, \"linecolor\": \"white\", \"showbackground\": true, \"ticks\": \"\", \"zerolinecolor\": \"white\"}}, \"shapedefaults\": {\"line\": {\"color\": \"#2a3f5f\"}}, \"ternary\": {\"aaxis\": {\"gridcolor\": \"white\", \"linecolor\": \"white\", \"ticks\": \"\"}, \"baxis\": {\"gridcolor\": \"white\", \"linecolor\": \"white\", \"ticks\": \"\"}, \"bgcolor\": \"#E5ECF6\", \"caxis\": {\"gridcolor\": \"white\", \"linecolor\": \"white\", \"ticks\": \"\"}}, \"title\": {\"x\": 0.05}, \"xaxis\": {\"automargin\": true, \"gridcolor\": \"white\", \"linecolor\": \"white\", \"ticks\": \"\", \"title\": {\"standoff\": 15}, \"zerolinecolor\": \"white\", \"zerolinewidth\": 2}, \"yaxis\": {\"automargin\": true, \"gridcolor\": \"white\", \"linecolor\": \"white\", \"ticks\": \"\", \"title\": {\"standoff\": 15}, \"zerolinecolor\": \"white\", \"zerolinewidth\": 2}}}, \"title\": {\"text\": \"Score universitaire pour le revenu de l'industrie (transfert de connaissances) par Pays\"}, \"xaxis\": {\"ticklen\": 5, \"title\": {\"text\": \"Rang Mondial\"}, \"zeroline\": false}},\n",
       "                        {\"responsive\": true}\n",
       "                    ).then(function(){\n",
       "                            \n",
       "var gd = document.getElementById('35c3c69e-8e2a-42a6-b7b0-1243a989e894');\n",
       "var x = new MutationObserver(function (mutations, observer) {{\n",
       "        var display = window.getComputedStyle(gd).display;\n",
       "        if (!display || display === 'none') {{\n",
       "            console.log([gd, 'removed!']);\n",
       "            Plotly.purge(gd);\n",
       "            observer.disconnect();\n",
       "        }}\n",
       "}});\n",
       "\n",
       "// Listen for the removal of the full notebook cells\n",
       "var notebookContainer = gd.closest('#notebook-container');\n",
       "if (notebookContainer) {{\n",
       "    x.observe(notebookContainer, {childList: true});\n",
       "}}\n",
       "\n",
       "// Listen for the clearing of the current output cell\n",
       "var outputEl = gd.closest('.output');\n",
       "if (outputEl) {{\n",
       "    x.observe(outputEl, {childList: true});\n",
       "}}\n",
       "\n",
       "                        })\n",
       "                };\n",
       "                });\n",
       "            </script>\n",
       "        </div>"
      ]
     },
     "metadata": {},
     "output_type": "display_data"
    }
   ],
   "source": [
    "# Création de la trame 1\n",
    "trace1 = go.Scatter(\n",
    "                    x = df.index,\n",
    "                    y = df.income,\n",
    "                    mode = \"lines+markers\",\n",
    "                    name = \"country\",\n",
    "                    marker = dict(color = 'rgba(16, 112, 2, 0.8)'),\n",
    "                    text = df.index)\n",
    "\n",
    "data = [trace1]\n",
    "layout = dict(title = \"Score universitaire pour le revenu de l'industrie (transfert de connaissances) par Pays\",\n",
    "              xaxis = dict(title = 'Rang Mondial',ticklen = 5,zeroline= False)\n",
    "             )\n",
    "fig = dict(data = data, layout = layout)\n",
    "iplot(fig)"
   ]
  },
  {
   "cell_type": "code",
   "execution_count": 9,
   "metadata": {},
   "outputs": [
    {
     "data": {
      "application/vnd.plotly.v1+json": {
       "config": {
        "linkText": "Export to plot.ly",
        "plotlyServerURL": "https://plot.ly",
        "showLink": false
       },
       "data": [
        {
         "marker": {
          "color": "rgb(12, 51, 131)"
         },
         "showlegend": false,
         "type": "box",
         "xaxis": "x",
         "y": [
          2011,
          2011,
          2011,
          2011,
          2011,
          2011,
          2011,
          2011,
          2011,
          2011,
          2011,
          2011,
          2011,
          2011,
          2011,
          2011,
          2011,
          2011,
          2011,
          2011,
          2011,
          2011,
          2011,
          2011,
          2011,
          2012,
          2012,
          2012,
          2012,
          2012,
          2012,
          2012,
          2012,
          2012,
          2012,
          2012,
          2012,
          2012,
          2012,
          2012,
          2012,
          2012,
          2012,
          2012,
          2012,
          2012,
          2012,
          2012,
          2012,
          2012,
          2012,
          2012,
          2012,
          2012,
          2012,
          2012,
          2012,
          2012,
          2012,
          2012,
          2012,
          2012,
          2012,
          2012,
          2012,
          2013,
          2013,
          2013,
          2013,
          2013,
          2013,
          2013,
          2013,
          2013,
          2013,
          2013,
          2013,
          2013,
          2013,
          2013,
          2013,
          2013,
          2013,
          2013,
          2013,
          2013,
          2013,
          2013,
          2013,
          2013,
          2013,
          2013,
          2013,
          2013,
          2013,
          2013,
          2013,
          2013,
          2013,
          2013,
          2013,
          2013,
          2013,
          2013,
          2013,
          2013,
          2014,
          2014,
          2014,
          2014,
          2014,
          2014,
          2014,
          2014,
          2014,
          2014,
          2014,
          2014,
          2014,
          2014,
          2014,
          2014,
          2014,
          2014,
          2014,
          2014,
          2014,
          2014,
          2014,
          2014,
          2014,
          2014,
          2014,
          2014,
          2014,
          2014,
          2014,
          2014,
          2014,
          2014,
          2014,
          2014,
          2014,
          2014,
          2014,
          2014,
          2015,
          2015,
          2015,
          2015,
          2015,
          2015,
          2015,
          2015,
          2015,
          2015,
          2015,
          2015,
          2015,
          2015,
          2015,
          2015,
          2015,
          2015,
          2015,
          2015,
          2015,
          2015,
          2015,
          2015,
          2015,
          2015,
          2015,
          2015,
          2015,
          2015,
          2015,
          2015,
          2015,
          2015,
          2015,
          2015,
          2015,
          2015,
          2015,
          2015,
          2015,
          2016,
          2016,
          2016,
          2016,
          2016,
          2016,
          2016,
          2016,
          2016,
          2016,
          2016,
          2016,
          2016,
          2016,
          2016,
          2016,
          2016,
          2016,
          2016,
          2016,
          2016,
          2016,
          2016,
          2016,
          2016,
          2016,
          2016,
          2016,
          2016,
          2016,
          2016,
          2016,
          2016,
          2016,
          2016,
          2016,
          2016,
          2016,
          2016,
          2016,
          2016,
          2016,
          2016,
          2016,
          2016,
          2016,
          2016,
          2016,
          2016,
          2016,
          2016,
          2016,
          2016,
          2016,
          2016,
          2016,
          2016,
          2016,
          2016,
          2016,
          2016,
          2016,
          2016,
          2016,
          2016,
          2016,
          2016,
          2016,
          2016
         ],
         "yaxis": "y"
        },
        {
         "marker": {
          "color": [
           1,
           2,
           3,
           4,
           5,
           6,
           7,
           8,
           9,
           10,
           11,
           12,
           13,
           14,
           15,
           16,
           17,
           18,
           19,
           20,
           21,
           22,
           23,
           24,
           25,
           26,
           27,
           28,
           29,
           30,
           31,
           32,
           33,
           34,
           35,
           36,
           37,
           38,
           39,
           40,
           41,
           42,
           43,
           44,
           45,
           46,
           47,
           48,
           49,
           50,
           51,
           52,
           53,
           54,
           55,
           56,
           57,
           58,
           59,
           60,
           61,
           62,
           63,
           64,
           65,
           66,
           67,
           68,
           69,
           70,
           71,
           72,
           73,
           74,
           75,
           76,
           77,
           78,
           79,
           80,
           81,
           82,
           83,
           84,
           85,
           86,
           87,
           88,
           89,
           90,
           91,
           92,
           93,
           94,
           95,
           96,
           97,
           98,
           99,
           100,
           101,
           102,
           103,
           104,
           105,
           106,
           107,
           108,
           109,
           110,
           111,
           112,
           113,
           114,
           115,
           116,
           117,
           118,
           119,
           120,
           121,
           122,
           123,
           124,
           125,
           126,
           127,
           128,
           129,
           130,
           131,
           132,
           133,
           134,
           135,
           136,
           137,
           138,
           139,
           140,
           141,
           142,
           143,
           144,
           145,
           146,
           147,
           148,
           149,
           150,
           151,
           152,
           153,
           154,
           155,
           156,
           157,
           158,
           159,
           160,
           161,
           162,
           163,
           164,
           165,
           166,
           167,
           168,
           169,
           170,
           171,
           172,
           173,
           174,
           175,
           176,
           177,
           178,
           179,
           180,
           181,
           182,
           183,
           184,
           185,
           186,
           187,
           188,
           189,
           190,
           191,
           192,
           193,
           194,
           195,
           196,
           197,
           198,
           199,
           200,
           201,
           202,
           203,
           204,
           205,
           206,
           207,
           208,
           209,
           210,
           211,
           212,
           213,
           214,
           215,
           216,
           217,
           218,
           219,
           220,
           221,
           222,
           223,
           224,
           225,
           226,
           227,
           228,
           229,
           230,
           231,
           232,
           233,
           234,
           235,
           236,
           237,
           238,
           239,
           240,
           241,
           242,
           243,
           244,
           245,
           246,
           247,
           248,
           249,
           250,
           251,
           252,
           253,
           254,
           255,
           256
          ],
          "colorscale": [
           [
            0,
            "rgb(12, 51, 131)"
           ],
           [
            1,
            "rgb(217, 30, 30)"
           ]
          ],
          "showscale": true,
          "size": 6
         },
         "mode": "markers",
         "showlegend": false,
         "type": "scatter",
         "x": [
          58.18333333333333,
          31,
          97.4,
          41.666666666666664,
          70.26,
          61.03333333333333,
          36,
          30.2,
          27.73333333333333,
          41.87,
          51.125,
          70.825,
          69.8375,
          61.1,
          41.5,
          31.6,
          40.25,
          70.85,
          35,
          57.56666666666666,
          40.56,
          55.525000000000006,
          38.15,
          41.38275862068965,
          56.96,
          49.13809523809523,
          38.46,
          66.92857142857143,
          38.25,
          50.576470588235296,
          29.7,
          68.84,
          24.5,
          60.8,
          34.5,
          26.3,
          41.67999999999999,
          34.31428571428571,
          42.34761904761905,
          33.2,
          51.28333333333333,
          75.4,
          24.2,
          93.1,
          30.525,
          41.971428571428575,
          49.84375,
          63.699999999999996,
          36.26,
          38.4,
          25.8,
          34.025,
          31.72,
          53,
          52.55,
          99.03333333333335,
          74.21428571428571,
          36.599999999999994,
          55.64,
          41.666666666666664,
          55.949999999999996,
          29,
          51.599999999999994,
          36.8,
          46.724137931034484,
          53.44210526315789,
          39.1,
          68.34285714285714,
          42.45,
          52.422222222222224,
          66.2,
          28.4,
          28.1,
          64.52000000000001,
          30.1,
          52.4,
          44.16,
          46.71363636363637,
          34.1,
          48,
          74.4,
          65.16666666666667,
          93,
          41.2,
          42.05,
          52.638461538461534,
          36,
          73.73846153846155,
          50.13333333333333,
          36.7,
          28.7,
          36.1,
          35.760000000000005,
          64.85,
          40.2,
          88.45,
          77.69999999999999,
          81.43333333333334,
          35.07142857142858,
          56.63000000000001,
          45.416666666666664,
          66.05714285714285,
          60.2,
          52.96,
          40.808333333333344,
          47.43333333333334,
          54.25789473684211,
          40.2,
          76.28333333333333,
          44.55,
          52.21666666666666,
          68.39,
          30.6,
          29,
          63.980000000000004,
          30.3,
          37.275,
          43.17272727272728,
          49.29090909090908,
          35,
          48,
          78.5,
          45.199999999999996,
          98.3,
          38.06666666666667,
          42.226666666666674,
          61.154545454545456,
          74.38461538461537,
          51.42,
          38.150000000000006,
          28.3,
          37.05,
          38.52,
          72.2,
          66.80000000000001,
          82.15,
          93.5,
          82.89999999999999,
          40.73333333333333,
          57.75555555555555,
          54.050000000000004,
          65.95,
          62.2,
          51.760000000000005,
          38.71632653061225,
          47.29767441860465,
          52.245000000000005,
          39.879999999999995,
          71.02857142857142,
          42.3,
          50.305555555555564,
          28.1,
          72.25454545454545,
          36.5,
          29.4,
          63.85999999999999,
          46.20000000000001,
          42.400000000000006,
          52.640740740740746,
          36,
          46.31666666666666,
          64,
          46.225,
          85.15,
          36.86666666666667,
          41.42941176470589,
          58.34166666666667,
          33.6,
          28.6,
          74.96153846153847,
          51.06,
          38.650000000000006,
          28.5,
          39.2,
          36.36,
          55.95,
          76.7,
          92.5,
          81.34444444444445,
          42.449999999999996,
          57.111111111111114,
          60.56249999999999,
          70.06666666666666,
          56.5,
          48.98333333333334,
          38.117777777777775,
          48.37032967032967,
          28.6,
          48.80645161290323,
          47.771428571428565,
          28,
          73.52857142857144,
          46.054545454545455,
          47.268,
          35.9,
          69.04999999999998,
          35.8,
          30,
          30.966666666666672,
          45.050000000000004,
          30,
          38.15,
          45.62222222222222,
          33.75416666666667,
          68.37714285714286,
          42.68333333333334,
          47.21666666666667,
          32.260000000000005,
          28,
          40.40588235294119,
          40,
          62.65714285714285,
          31.916666666666668,
          40.15294117647059,
          47.39487179487178,
          30.1,
          28,
          28.3,
          41,
          38.1,
          34.9,
          31.28,
          69.75,
          29.2,
          73.02307692307693,
          43.17142857142857,
          29.2,
          40.775,
          37.6,
          31.3,
          32.916666666666664,
          40.1,
          55.2,
          37.2,
          28.766666666666666,
          47.615384615384606,
          70.56666666666668,
          45.6,
          74.85,
          30.6,
          35.5,
          68.63333333333333,
          60.99583333333336,
          35.56,
          55.23636363636364,
          67.02222222222221,
          53.11666666666665,
          45.34285714285715,
          59.33636363636364,
          28,
          28.4,
          44.7,
          31.7,
          34.31447368421054,
          44.50220588235294,
          34.6
         ],
         "xaxis": "x2",
         "y": [
          2011,
          2011,
          2011,
          2011,
          2011,
          2011,
          2011,
          2011,
          2011,
          2011,
          2011,
          2011,
          2011,
          2011,
          2011,
          2011,
          2011,
          2011,
          2011,
          2011,
          2011,
          2011,
          2011,
          2011,
          2011,
          2012,
          2012,
          2012,
          2012,
          2012,
          2012,
          2012,
          2012,
          2012,
          2012,
          2012,
          2012,
          2012,
          2012,
          2012,
          2012,
          2012,
          2012,
          2012,
          2012,
          2012,
          2012,
          2012,
          2012,
          2012,
          2012,
          2012,
          2012,
          2012,
          2012,
          2012,
          2012,
          2012,
          2012,
          2012,
          2012,
          2012,
          2012,
          2012,
          2012,
          2013,
          2013,
          2013,
          2013,
          2013,
          2013,
          2013,
          2013,
          2013,
          2013,
          2013,
          2013,
          2013,
          2013,
          2013,
          2013,
          2013,
          2013,
          2013,
          2013,
          2013,
          2013,
          2013,
          2013,
          2013,
          2013,
          2013,
          2013,
          2013,
          2013,
          2013,
          2013,
          2013,
          2013,
          2013,
          2013,
          2013,
          2013,
          2013,
          2013,
          2013,
          2014,
          2014,
          2014,
          2014,
          2014,
          2014,
          2014,
          2014,
          2014,
          2014,
          2014,
          2014,
          2014,
          2014,
          2014,
          2014,
          2014,
          2014,
          2014,
          2014,
          2014,
          2014,
          2014,
          2014,
          2014,
          2014,
          2014,
          2014,
          2014,
          2014,
          2014,
          2014,
          2014,
          2014,
          2014,
          2014,
          2014,
          2014,
          2014,
          2014,
          2015,
          2015,
          2015,
          2015,
          2015,
          2015,
          2015,
          2015,
          2015,
          2015,
          2015,
          2015,
          2015,
          2015,
          2015,
          2015,
          2015,
          2015,
          2015,
          2015,
          2015,
          2015,
          2015,
          2015,
          2015,
          2015,
          2015,
          2015,
          2015,
          2015,
          2015,
          2015,
          2015,
          2015,
          2015,
          2015,
          2015,
          2015,
          2015,
          2015,
          2015,
          2016,
          2016,
          2016,
          2016,
          2016,
          2016,
          2016,
          2016,
          2016,
          2016,
          2016,
          2016,
          2016,
          2016,
          2016,
          2016,
          2016,
          2016,
          2016,
          2016,
          2016,
          2016,
          2016,
          2016,
          2016,
          2016,
          2016,
          2016,
          2016,
          2016,
          2016,
          2016,
          2016,
          2016,
          2016,
          2016,
          2016,
          2016,
          2016,
          2016,
          2016,
          2016,
          2016,
          2016,
          2016,
          2016,
          2016,
          2016,
          2016,
          2016,
          2016,
          2016,
          2016,
          2016,
          2016,
          2016,
          2016,
          2016,
          2016,
          2016,
          2016,
          2016,
          2016,
          2016,
          2016,
          2016,
          2016,
          2016,
          2016
         ],
         "yaxis": "y2"
        },
        {
         "marker": {
          "color": [
           1,
           2,
           3,
           4,
           5,
           6,
           7,
           8,
           9,
           10,
           11,
           12,
           13,
           14,
           15,
           16,
           17,
           18,
           19,
           20,
           21,
           22,
           23,
           24,
           25,
           26,
           27,
           28,
           29,
           30,
           31,
           32,
           33,
           34,
           35,
           36,
           37,
           38,
           39,
           40,
           41,
           42,
           43,
           44,
           45,
           46,
           47,
           48,
           49,
           50,
           51,
           52,
           53,
           54,
           55,
           56,
           57,
           58,
           59,
           60,
           61,
           62,
           63,
           64,
           65,
           66,
           67,
           68,
           69,
           70,
           71,
           72,
           73,
           74,
           75,
           76,
           77,
           78,
           79,
           80,
           81,
           82,
           83,
           84,
           85,
           86,
           87,
           88,
           89,
           90,
           91,
           92,
           93,
           94,
           95,
           96,
           97,
           98,
           99,
           100,
           101,
           102,
           103,
           104,
           105,
           106,
           107,
           108,
           109,
           110,
           111,
           112,
           113,
           114,
           115,
           116,
           117,
           118,
           119,
           120,
           121,
           122,
           123,
           124,
           125,
           126,
           127,
           128,
           129,
           130,
           131,
           132,
           133,
           134,
           135,
           136,
           137,
           138,
           139,
           140,
           141,
           142,
           143,
           144,
           145,
           146,
           147,
           148,
           149,
           150,
           151,
           152,
           153,
           154,
           155,
           156,
           157,
           158,
           159,
           160,
           161,
           162,
           163,
           164,
           165,
           166,
           167,
           168,
           169,
           170,
           171,
           172,
           173,
           174,
           175,
           176,
           177,
           178,
           179,
           180,
           181,
           182,
           183,
           184,
           185,
           186,
           187,
           188,
           189,
           190,
           191,
           192,
           193,
           194,
           195,
           196,
           197,
           198,
           199,
           200,
           201,
           202,
           203,
           204,
           205,
           206,
           207,
           208,
           209,
           210,
           211,
           212,
           213,
           214,
           215,
           216,
           217,
           218,
           219,
           220,
           221,
           222,
           223,
           224,
           225,
           226,
           227,
           228,
           229,
           230,
           231,
           232,
           233,
           234,
           235,
           236,
           237,
           238,
           239,
           240,
           241,
           242,
           243,
           244,
           245,
           246,
           247,
           248,
           249,
           250,
           251,
           252,
           253,
           254,
           255,
           256
          ],
          "colorscale": [
           [
            0,
            "rgb(12, 51, 131)"
           ],
           [
            1,
            "rgb(217, 30, 30)"
           ]
          ],
          "showscale": false,
          "size": 6
         },
         "mode": "markers",
         "showlegend": false,
         "type": "scatter",
         "x": [
          82.85000000000001,
          81.35,
          27.15,
          72.26666666666667,
          44.14,
          47.73333333333333,
          19.3,
          24.2,
          37.733333333333334,
          51.510000000000005,
          85.875,
          20.85,
          43.949999999999996,
          94.3,
          66.6,
          84.2,
          97.05,
          35.550000000000004,
          33.2,
          66.3,
          91.8,
          35.625,
          37.45,
          74.60344827586206,
          41.00666666666667,
          77.80952380952381,
          76.03999999999999,
          63.671428571428564,
          21,
          62.405882352941184,
          45.5,
          25.880000000000003,
          51.4,
          71.66,
          31.6,
          42,
          41.800000000000004,
          65.85714285714286,
          55.42857142857144,
          42.6,
          69.38333333333334,
          56.9,
          14.3,
          12.7,
          44.75,
          33.949999999999996,
          21.156250000000004,
          60.10833333333334,
          86.8,
          64.65,
          39.5,
          48.625,
          79.4,
          45.7,
          91.4,
          63.333333333333336,
          25.042857142857144,
          39.35,
          59.169999999999995,
          90.08333333333333,
          17.9375,
          45,
          31.775000000000002,
          76.92499999999998,
          35.02988505747127,
          75.78421052631579,
          74.46000000000001,
          60.41428571428571,
          22.7,
          60.1888888888889,
          34.56666666666667,
          53,
          50.3,
          70.28,
          42.4,
          44.9,
          63.84000000000001,
          53.3909090909091,
          44.4,
          68.96666666666665,
          59.9,
          17.2,
          16.7,
          48.56666666666666,
          36.971428571428575,
          26.015384615384615,
          33.2,
          60.93846153846154,
          84.18333333333332,
          62.325,
          40.75,
          45.333333333333336,
          74.2,
          34.55,
          71,
          91.4,
          61.05,
          29.750000000000004,
          40.35714285714285,
          58.410000000000004,
          88,
          23.628571428571433,
          23.8,
          36.06,
          76.48958333333333,
          39.333333333333336,
          79.13684210526317,
          73.38333333333334,
          59.01666666666667,
          21.95,
          62.68888888888888,
          35.43,
          55.7,
          53.2,
          71.56,
          43.7,
          47.300000000000004,
          63.709090909090925,
          53.88636363636365,
          47.1,
          68.7,
          59.9,
          20.733333333333334,
          20.7,
          51.96666666666666,
          39.89333333333333,
          27.927272727272733,
          63.600000000000016,
          85.22,
          61.74999999999999,
          42.8,
          45.4,
          74.48,
          55.7,
          73.25,
          92.65,
          64.03333333333335,
          34.94285714285714,
          40.48888888888889,
          60.21111111111111,
          89.4625,
          25.162499999999998,
          24.4,
          43.64,
          77.11836734693878,
          42.52674418604651,
          78.74499999999999,
          79.64,
          62.15714285714286,
          23,
          65.8888888888889,
          48.7,
          35.77272727272728,
          54.6,
          53.9,
          70.14,
          50.699999999999996,
          66.34545454545456,
          54.777777777777786,
          47,
          71.2,
          59.1,
          20.875,
          19.7,
          53.333333333333336,
          42.670588235294126,
          31.733333333333338,
          73.3,
          45.1,
          65.54615384615386,
          84.3,
          60.075,
          41.6,
          48.25,
          77.67999999999999,
          52.099999999999994,
          93.7,
          63.6,
          36.36666666666667,
          49.349999999999994,
          59.400000000000006,
          90.0625,
          26.766666666666666,
          22.5,
          44.85,
          79.21111111111112,
          44.856043956043955,
          28.1,
          78.17096774193547,
          77.71428571428571,
          48.2,
          68.64285714285714,
          21.2,
          66.52,
          45.559999999999995,
          23.82777777777778,
          46.85,
          74.7,
          36.266666666666666,
          79.41666666666667,
          32.35,
          42,
          53.599999999999994,
          61.166666666666664,
          53.534285714285716,
          36.93333333333333,
          82.78333333333335,
          50.559999999999995,
          61,
          15.235294117647056,
          37.2,
          12.57142857142857,
          50.333333333333336,
          37.16470588235293,
          22.66153846153846,
          57.95,
          45.5,
          31.5,
          40.8,
          99.8,
          98.4,
          38.1,
          47.75,
          42.7,
          70.39999999999999,
          89.04285714285716,
          26.1,
          66.05,
          71.5,
          31.3,
          26.016666666666666,
          45.12857142857143,
          99.9,
          79.80000000000001,
          34.53333333333333,
          31.053846153846152,
          84.33333333333333,
          30.5,
          95.4,
          38.75,
          34.05,
          55.28333333333334,
          30.600000000000005,
          40.908,
          60.80909090909092,
          93.11111111111111,
          22.908333333333335,
          32.67142857142857,
          28.872727272727275,
          58,
          38.3,
          63.4,
          95.3,
          78.49605263157896,
          42.717647058823545,
          92.5
         ],
         "xaxis": "x3",
         "y": [
          2011,
          2011,
          2011,
          2011,
          2011,
          2011,
          2011,
          2011,
          2011,
          2011,
          2011,
          2011,
          2011,
          2011,
          2011,
          2011,
          2011,
          2011,
          2011,
          2011,
          2011,
          2011,
          2011,
          2011,
          2011,
          2012,
          2012,
          2012,
          2012,
          2012,
          2012,
          2012,
          2012,
          2012,
          2012,
          2012,
          2012,
          2012,
          2012,
          2012,
          2012,
          2012,
          2012,
          2012,
          2012,
          2012,
          2012,
          2012,
          2012,
          2012,
          2012,
          2012,
          2012,
          2012,
          2012,
          2012,
          2012,
          2012,
          2012,
          2012,
          2012,
          2012,
          2012,
          2012,
          2012,
          2013,
          2013,
          2013,
          2013,
          2013,
          2013,
          2013,
          2013,
          2013,
          2013,
          2013,
          2013,
          2013,
          2013,
          2013,
          2013,
          2013,
          2013,
          2013,
          2013,
          2013,
          2013,
          2013,
          2013,
          2013,
          2013,
          2013,
          2013,
          2013,
          2013,
          2013,
          2013,
          2013,
          2013,
          2013,
          2013,
          2013,
          2013,
          2013,
          2013,
          2013,
          2014,
          2014,
          2014,
          2014,
          2014,
          2014,
          2014,
          2014,
          2014,
          2014,
          2014,
          2014,
          2014,
          2014,
          2014,
          2014,
          2014,
          2014,
          2014,
          2014,
          2014,
          2014,
          2014,
          2014,
          2014,
          2014,
          2014,
          2014,
          2014,
          2014,
          2014,
          2014,
          2014,
          2014,
          2014,
          2014,
          2014,
          2014,
          2014,
          2014,
          2015,
          2015,
          2015,
          2015,
          2015,
          2015,
          2015,
          2015,
          2015,
          2015,
          2015,
          2015,
          2015,
          2015,
          2015,
          2015,
          2015,
          2015,
          2015,
          2015,
          2015,
          2015,
          2015,
          2015,
          2015,
          2015,
          2015,
          2015,
          2015,
          2015,
          2015,
          2015,
          2015,
          2015,
          2015,
          2015,
          2015,
          2015,
          2015,
          2015,
          2015,
          2016,
          2016,
          2016,
          2016,
          2016,
          2016,
          2016,
          2016,
          2016,
          2016,
          2016,
          2016,
          2016,
          2016,
          2016,
          2016,
          2016,
          2016,
          2016,
          2016,
          2016,
          2016,
          2016,
          2016,
          2016,
          2016,
          2016,
          2016,
          2016,
          2016,
          2016,
          2016,
          2016,
          2016,
          2016,
          2016,
          2016,
          2016,
          2016,
          2016,
          2016,
          2016,
          2016,
          2016,
          2016,
          2016,
          2016,
          2016,
          2016,
          2016,
          2016,
          2016,
          2016,
          2016,
          2016,
          2016,
          2016,
          2016,
          2016,
          2016,
          2016,
          2016,
          2016,
          2016,
          2016,
          2016,
          2016,
          2016,
          2016
         ],
         "yaxis": "y3"
        },
        {
         "marker": {
          "color": [
           1,
           2,
           3,
           4,
           5,
           6,
           7,
           8,
           9,
           10,
           11,
           12,
           13,
           14,
           15,
           16,
           17,
           18,
           19,
           20,
           21,
           22,
           23,
           24,
           25,
           26,
           27,
           28,
           29,
           30,
           31,
           32,
           33,
           34,
           35,
           36,
           37,
           38,
           39,
           40,
           41,
           42,
           43,
           44,
           45,
           46,
           47,
           48,
           49,
           50,
           51,
           52,
           53,
           54,
           55,
           56,
           57,
           58,
           59,
           60,
           61,
           62,
           63,
           64,
           65,
           66,
           67,
           68,
           69,
           70,
           71,
           72,
           73,
           74,
           75,
           76,
           77,
           78,
           79,
           80,
           81,
           82,
           83,
           84,
           85,
           86,
           87,
           88,
           89,
           90,
           91,
           92,
           93,
           94,
           95,
           96,
           97,
           98,
           99,
           100,
           101,
           102,
           103,
           104,
           105,
           106,
           107,
           108,
           109,
           110,
           111,
           112,
           113,
           114,
           115,
           116,
           117,
           118,
           119,
           120,
           121,
           122,
           123,
           124,
           125,
           126,
           127,
           128,
           129,
           130,
           131,
           132,
           133,
           134,
           135,
           136,
           137,
           138,
           139,
           140,
           141,
           142,
           143,
           144,
           145,
           146,
           147,
           148,
           149,
           150,
           151,
           152,
           153,
           154,
           155,
           156,
           157,
           158,
           159,
           160,
           161,
           162,
           163,
           164,
           165,
           166,
           167,
           168,
           169,
           170,
           171,
           172,
           173,
           174,
           175,
           176,
           177,
           178,
           179,
           180,
           181,
           182,
           183,
           184,
           185,
           186,
           187,
           188,
           189,
           190,
           191,
           192,
           193,
           194,
           195,
           196,
           197,
           198,
           199,
           200,
           201,
           202,
           203,
           204,
           205,
           206,
           207,
           208,
           209,
           210,
           211,
           212,
           213,
           214,
           215,
           216,
           217,
           218,
           219,
           220,
           221,
           222,
           223,
           224,
           225,
           226,
           227,
           228,
           229,
           230,
           231,
           232,
           233,
           234,
           235,
           236,
           237,
           238,
           239,
           240,
           241,
           242,
           243,
           244,
           245,
           246,
           247,
           248,
           249,
           250,
           251,
           252,
           253,
           254,
           255,
           256
          ],
          "colorscale": [
           [
            0,
            "rgb(12, 51, 131)"
           ],
           [
            1,
            "rgb(217, 30, 30)"
           ]
          ],
          "showscale": false,
          "size": 6
         },
         "mode": "markers",
         "showlegend": false,
         "type": "scatter",
         "x": [
          2011,
          2011,
          2011,
          2011,
          2011,
          2011,
          2011,
          2011,
          2011,
          2011,
          2011,
          2011,
          2011,
          2011,
          2011,
          2011,
          2011,
          2011,
          2011,
          2011,
          2011,
          2011,
          2011,
          2011,
          2011,
          2012,
          2012,
          2012,
          2012,
          2012,
          2012,
          2012,
          2012,
          2012,
          2012,
          2012,
          2012,
          2012,
          2012,
          2012,
          2012,
          2012,
          2012,
          2012,
          2012,
          2012,
          2012,
          2012,
          2012,
          2012,
          2012,
          2012,
          2012,
          2012,
          2012,
          2012,
          2012,
          2012,
          2012,
          2012,
          2012,
          2012,
          2012,
          2012,
          2012,
          2013,
          2013,
          2013,
          2013,
          2013,
          2013,
          2013,
          2013,
          2013,
          2013,
          2013,
          2013,
          2013,
          2013,
          2013,
          2013,
          2013,
          2013,
          2013,
          2013,
          2013,
          2013,
          2013,
          2013,
          2013,
          2013,
          2013,
          2013,
          2013,
          2013,
          2013,
          2013,
          2013,
          2013,
          2013,
          2013,
          2013,
          2013,
          2013,
          2013,
          2013,
          2014,
          2014,
          2014,
          2014,
          2014,
          2014,
          2014,
          2014,
          2014,
          2014,
          2014,
          2014,
          2014,
          2014,
          2014,
          2014,
          2014,
          2014,
          2014,
          2014,
          2014,
          2014,
          2014,
          2014,
          2014,
          2014,
          2014,
          2014,
          2014,
          2014,
          2014,
          2014,
          2014,
          2014,
          2014,
          2014,
          2014,
          2014,
          2014,
          2014,
          2015,
          2015,
          2015,
          2015,
          2015,
          2015,
          2015,
          2015,
          2015,
          2015,
          2015,
          2015,
          2015,
          2015,
          2015,
          2015,
          2015,
          2015,
          2015,
          2015,
          2015,
          2015,
          2015,
          2015,
          2015,
          2015,
          2015,
          2015,
          2015,
          2015,
          2015,
          2015,
          2015,
          2015,
          2015,
          2015,
          2015,
          2015,
          2015,
          2015,
          2015,
          2016,
          2016,
          2016,
          2016,
          2016,
          2016,
          2016,
          2016,
          2016,
          2016,
          2016,
          2016,
          2016,
          2016,
          2016,
          2016,
          2016,
          2016,
          2016,
          2016,
          2016,
          2016,
          2016,
          2016,
          2016,
          2016,
          2016,
          2016,
          2016,
          2016,
          2016,
          2016,
          2016,
          2016,
          2016,
          2016,
          2016,
          2016,
          2016,
          2016,
          2016,
          2016,
          2016,
          2016,
          2016,
          2016,
          2016,
          2016,
          2016,
          2016,
          2016,
          2016,
          2016,
          2016,
          2016,
          2016,
          2016,
          2016,
          2016,
          2016,
          2016,
          2016,
          2016,
          2016,
          2016,
          2016,
          2016,
          2016,
          2016
         ],
         "xaxis": "x4",
         "y": [
          58.18333333333333,
          31,
          97.4,
          41.666666666666664,
          70.26,
          61.03333333333333,
          36,
          30.2,
          27.73333333333333,
          41.87,
          51.125,
          70.825,
          69.8375,
          61.1,
          41.5,
          31.6,
          40.25,
          70.85,
          35,
          57.56666666666666,
          40.56,
          55.525000000000006,
          38.15,
          41.38275862068965,
          56.96,
          49.13809523809523,
          38.46,
          66.92857142857143,
          38.25,
          50.576470588235296,
          29.7,
          68.84,
          24.5,
          60.8,
          34.5,
          26.3,
          41.67999999999999,
          34.31428571428571,
          42.34761904761905,
          33.2,
          51.28333333333333,
          75.4,
          24.2,
          93.1,
          30.525,
          41.971428571428575,
          49.84375,
          63.699999999999996,
          36.26,
          38.4,
          25.8,
          34.025,
          31.72,
          53,
          52.55,
          99.03333333333335,
          74.21428571428571,
          36.599999999999994,
          55.64,
          41.666666666666664,
          55.949999999999996,
          29,
          51.599999999999994,
          36.8,
          46.724137931034484,
          53.44210526315789,
          39.1,
          68.34285714285714,
          42.45,
          52.422222222222224,
          66.2,
          28.4,
          28.1,
          64.52000000000001,
          30.1,
          52.4,
          44.16,
          46.71363636363637,
          34.1,
          48,
          74.4,
          65.16666666666667,
          93,
          41.2,
          42.05,
          52.638461538461534,
          36,
          73.73846153846155,
          50.13333333333333,
          36.7,
          28.7,
          36.1,
          35.760000000000005,
          64.85,
          40.2,
          88.45,
          77.69999999999999,
          81.43333333333334,
          35.07142857142858,
          56.63000000000001,
          45.416666666666664,
          66.05714285714285,
          60.2,
          52.96,
          40.808333333333344,
          47.43333333333334,
          54.25789473684211,
          40.2,
          76.28333333333333,
          44.55,
          52.21666666666666,
          68.39,
          30.6,
          29,
          63.980000000000004,
          30.3,
          37.275,
          43.17272727272728,
          49.29090909090908,
          35,
          48,
          78.5,
          45.199999999999996,
          98.3,
          38.06666666666667,
          42.226666666666674,
          61.154545454545456,
          74.38461538461537,
          51.42,
          38.150000000000006,
          28.3,
          37.05,
          38.52,
          72.2,
          66.80000000000001,
          82.15,
          93.5,
          82.89999999999999,
          40.73333333333333,
          57.75555555555555,
          54.050000000000004,
          65.95,
          62.2,
          51.760000000000005,
          38.71632653061225,
          47.29767441860465,
          52.245000000000005,
          39.879999999999995,
          71.02857142857142,
          42.3,
          50.305555555555564,
          28.1,
          72.25454545454545,
          36.5,
          29.4,
          63.85999999999999,
          46.20000000000001,
          42.400000000000006,
          52.640740740740746,
          36,
          46.31666666666666,
          64,
          46.225,
          85.15,
          36.86666666666667,
          41.42941176470589,
          58.34166666666667,
          33.6,
          28.6,
          74.96153846153847,
          51.06,
          38.650000000000006,
          28.5,
          39.2,
          36.36,
          55.95,
          76.7,
          92.5,
          81.34444444444445,
          42.449999999999996,
          57.111111111111114,
          60.56249999999999,
          70.06666666666666,
          56.5,
          48.98333333333334,
          38.117777777777775,
          48.37032967032967,
          28.6,
          48.80645161290323,
          47.771428571428565,
          28,
          73.52857142857144,
          46.054545454545455,
          47.268,
          35.9,
          69.04999999999998,
          35.8,
          30,
          30.966666666666672,
          45.050000000000004,
          30,
          38.15,
          45.62222222222222,
          33.75416666666667,
          68.37714285714286,
          42.68333333333334,
          47.21666666666667,
          32.260000000000005,
          28,
          40.40588235294119,
          40,
          62.65714285714285,
          31.916666666666668,
          40.15294117647059,
          47.39487179487178,
          30.1,
          28,
          28.3,
          41,
          38.1,
          34.9,
          31.28,
          69.75,
          29.2,
          73.02307692307693,
          43.17142857142857,
          29.2,
          40.775,
          37.6,
          31.3,
          32.916666666666664,
          40.1,
          55.2,
          37.2,
          28.766666666666666,
          47.615384615384606,
          70.56666666666668,
          45.6,
          74.85,
          30.6,
          35.5,
          68.63333333333333,
          60.99583333333336,
          35.56,
          55.23636363636364,
          67.02222222222221,
          53.11666666666665,
          45.34285714285715,
          59.33636363636364,
          28,
          28.4,
          44.7,
          31.7,
          34.31447368421054,
          44.50220588235294,
          34.6
         ],
         "yaxis": "y4"
        },
        {
         "marker": {
          "color": "rgb(12, 51, 131)"
         },
         "showlegend": false,
         "type": "box",
         "xaxis": "x5",
         "y": [
          58.18333333333333,
          31,
          97.4,
          41.666666666666664,
          70.26,
          61.03333333333333,
          36,
          30.2,
          27.73333333333333,
          41.87,
          51.125,
          70.825,
          69.8375,
          61.1,
          41.5,
          31.6,
          40.25,
          70.85,
          35,
          57.56666666666666,
          40.56,
          55.525000000000006,
          38.15,
          41.38275862068965,
          56.96,
          49.13809523809523,
          38.46,
          66.92857142857143,
          38.25,
          50.576470588235296,
          29.7,
          68.84,
          24.5,
          60.8,
          34.5,
          26.3,
          41.67999999999999,
          34.31428571428571,
          42.34761904761905,
          33.2,
          51.28333333333333,
          75.4,
          24.2,
          93.1,
          30.525,
          41.971428571428575,
          49.84375,
          63.699999999999996,
          36.26,
          38.4,
          25.8,
          34.025,
          31.72,
          53,
          52.55,
          99.03333333333335,
          74.21428571428571,
          36.599999999999994,
          55.64,
          41.666666666666664,
          55.949999999999996,
          29,
          51.599999999999994,
          36.8,
          46.724137931034484,
          53.44210526315789,
          39.1,
          68.34285714285714,
          42.45,
          52.422222222222224,
          66.2,
          28.4,
          28.1,
          64.52000000000001,
          30.1,
          52.4,
          44.16,
          46.71363636363637,
          34.1,
          48,
          74.4,
          65.16666666666667,
          93,
          41.2,
          42.05,
          52.638461538461534,
          36,
          73.73846153846155,
          50.13333333333333,
          36.7,
          28.7,
          36.1,
          35.760000000000005,
          64.85,
          40.2,
          88.45,
          77.69999999999999,
          81.43333333333334,
          35.07142857142858,
          56.63000000000001,
          45.416666666666664,
          66.05714285714285,
          60.2,
          52.96,
          40.808333333333344,
          47.43333333333334,
          54.25789473684211,
          40.2,
          76.28333333333333,
          44.55,
          52.21666666666666,
          68.39,
          30.6,
          29,
          63.980000000000004,
          30.3,
          37.275,
          43.17272727272728,
          49.29090909090908,
          35,
          48,
          78.5,
          45.199999999999996,
          98.3,
          38.06666666666667,
          42.226666666666674,
          61.154545454545456,
          74.38461538461537,
          51.42,
          38.150000000000006,
          28.3,
          37.05,
          38.52,
          72.2,
          66.80000000000001,
          82.15,
          93.5,
          82.89999999999999,
          40.73333333333333,
          57.75555555555555,
          54.050000000000004,
          65.95,
          62.2,
          51.760000000000005,
          38.71632653061225,
          47.29767441860465,
          52.245000000000005,
          39.879999999999995,
          71.02857142857142,
          42.3,
          50.305555555555564,
          28.1,
          72.25454545454545,
          36.5,
          29.4,
          63.85999999999999,
          46.20000000000001,
          42.400000000000006,
          52.640740740740746,
          36,
          46.31666666666666,
          64,
          46.225,
          85.15,
          36.86666666666667,
          41.42941176470589,
          58.34166666666667,
          33.6,
          28.6,
          74.96153846153847,
          51.06,
          38.650000000000006,
          28.5,
          39.2,
          36.36,
          55.95,
          76.7,
          92.5,
          81.34444444444445,
          42.449999999999996,
          57.111111111111114,
          60.56249999999999,
          70.06666666666666,
          56.5,
          48.98333333333334,
          38.117777777777775,
          48.37032967032967,
          28.6,
          48.80645161290323,
          47.771428571428565,
          28,
          73.52857142857144,
          46.054545454545455,
          47.268,
          35.9,
          69.04999999999998,
          35.8,
          30,
          30.966666666666672,
          45.050000000000004,
          30,
          38.15,
          45.62222222222222,
          33.75416666666667,
          68.37714285714286,
          42.68333333333334,
          47.21666666666667,
          32.260000000000005,
          28,
          40.40588235294119,
          40,
          62.65714285714285,
          31.916666666666668,
          40.15294117647059,
          47.39487179487178,
          30.1,
          28,
          28.3,
          41,
          38.1,
          34.9,
          31.28,
          69.75,
          29.2,
          73.02307692307693,
          43.17142857142857,
          29.2,
          40.775,
          37.6,
          31.3,
          32.916666666666664,
          40.1,
          55.2,
          37.2,
          28.766666666666666,
          47.615384615384606,
          70.56666666666668,
          45.6,
          74.85,
          30.6,
          35.5,
          68.63333333333333,
          60.99583333333336,
          35.56,
          55.23636363636364,
          67.02222222222221,
          53.11666666666665,
          45.34285714285715,
          59.33636363636364,
          28,
          28.4,
          44.7,
          31.7,
          34.31447368421054,
          44.50220588235294,
          34.6
         ],
         "yaxis": "y5"
        },
        {
         "marker": {
          "color": [
           1,
           2,
           3,
           4,
           5,
           6,
           7,
           8,
           9,
           10,
           11,
           12,
           13,
           14,
           15,
           16,
           17,
           18,
           19,
           20,
           21,
           22,
           23,
           24,
           25,
           26,
           27,
           28,
           29,
           30,
           31,
           32,
           33,
           34,
           35,
           36,
           37,
           38,
           39,
           40,
           41,
           42,
           43,
           44,
           45,
           46,
           47,
           48,
           49,
           50,
           51,
           52,
           53,
           54,
           55,
           56,
           57,
           58,
           59,
           60,
           61,
           62,
           63,
           64,
           65,
           66,
           67,
           68,
           69,
           70,
           71,
           72,
           73,
           74,
           75,
           76,
           77,
           78,
           79,
           80,
           81,
           82,
           83,
           84,
           85,
           86,
           87,
           88,
           89,
           90,
           91,
           92,
           93,
           94,
           95,
           96,
           97,
           98,
           99,
           100,
           101,
           102,
           103,
           104,
           105,
           106,
           107,
           108,
           109,
           110,
           111,
           112,
           113,
           114,
           115,
           116,
           117,
           118,
           119,
           120,
           121,
           122,
           123,
           124,
           125,
           126,
           127,
           128,
           129,
           130,
           131,
           132,
           133,
           134,
           135,
           136,
           137,
           138,
           139,
           140,
           141,
           142,
           143,
           144,
           145,
           146,
           147,
           148,
           149,
           150,
           151,
           152,
           153,
           154,
           155,
           156,
           157,
           158,
           159,
           160,
           161,
           162,
           163,
           164,
           165,
           166,
           167,
           168,
           169,
           170,
           171,
           172,
           173,
           174,
           175,
           176,
           177,
           178,
           179,
           180,
           181,
           182,
           183,
           184,
           185,
           186,
           187,
           188,
           189,
           190,
           191,
           192,
           193,
           194,
           195,
           196,
           197,
           198,
           199,
           200,
           201,
           202,
           203,
           204,
           205,
           206,
           207,
           208,
           209,
           210,
           211,
           212,
           213,
           214,
           215,
           216,
           217,
           218,
           219,
           220,
           221,
           222,
           223,
           224,
           225,
           226,
           227,
           228,
           229,
           230,
           231,
           232,
           233,
           234,
           235,
           236,
           237,
           238,
           239,
           240,
           241,
           242,
           243,
           244,
           245,
           246,
           247,
           248,
           249,
           250,
           251,
           252,
           253,
           254,
           255,
           256
          ],
          "colorscale": [
           [
            0,
            "rgb(12, 51, 131)"
           ],
           [
            1,
            "rgb(217, 30, 30)"
           ]
          ],
          "showscale": false,
          "size": 6
         },
         "mode": "markers",
         "showlegend": false,
         "type": "scatter",
         "x": [
          82.85000000000001,
          81.35,
          27.15,
          72.26666666666667,
          44.14,
          47.73333333333333,
          19.3,
          24.2,
          37.733333333333334,
          51.510000000000005,
          85.875,
          20.85,
          43.949999999999996,
          94.3,
          66.6,
          84.2,
          97.05,
          35.550000000000004,
          33.2,
          66.3,
          91.8,
          35.625,
          37.45,
          74.60344827586206,
          41.00666666666667,
          77.80952380952381,
          76.03999999999999,
          63.671428571428564,
          21,
          62.405882352941184,
          45.5,
          25.880000000000003,
          51.4,
          71.66,
          31.6,
          42,
          41.800000000000004,
          65.85714285714286,
          55.42857142857144,
          42.6,
          69.38333333333334,
          56.9,
          14.3,
          12.7,
          44.75,
          33.949999999999996,
          21.156250000000004,
          60.10833333333334,
          86.8,
          64.65,
          39.5,
          48.625,
          79.4,
          45.7,
          91.4,
          63.333333333333336,
          25.042857142857144,
          39.35,
          59.169999999999995,
          90.08333333333333,
          17.9375,
          45,
          31.775000000000002,
          76.92499999999998,
          35.02988505747127,
          75.78421052631579,
          74.46000000000001,
          60.41428571428571,
          22.7,
          60.1888888888889,
          34.56666666666667,
          53,
          50.3,
          70.28,
          42.4,
          44.9,
          63.84000000000001,
          53.3909090909091,
          44.4,
          68.96666666666665,
          59.9,
          17.2,
          16.7,
          48.56666666666666,
          36.971428571428575,
          26.015384615384615,
          33.2,
          60.93846153846154,
          84.18333333333332,
          62.325,
          40.75,
          45.333333333333336,
          74.2,
          34.55,
          71,
          91.4,
          61.05,
          29.750000000000004,
          40.35714285714285,
          58.410000000000004,
          88,
          23.628571428571433,
          23.8,
          36.06,
          76.48958333333333,
          39.333333333333336,
          79.13684210526317,
          73.38333333333334,
          59.01666666666667,
          21.95,
          62.68888888888888,
          35.43,
          55.7,
          53.2,
          71.56,
          43.7,
          47.300000000000004,
          63.709090909090925,
          53.88636363636365,
          47.1,
          68.7,
          59.9,
          20.733333333333334,
          20.7,
          51.96666666666666,
          39.89333333333333,
          27.927272727272733,
          63.600000000000016,
          85.22,
          61.74999999999999,
          42.8,
          45.4,
          74.48,
          55.7,
          73.25,
          92.65,
          64.03333333333335,
          34.94285714285714,
          40.48888888888889,
          60.21111111111111,
          89.4625,
          25.162499999999998,
          24.4,
          43.64,
          77.11836734693878,
          42.52674418604651,
          78.74499999999999,
          79.64,
          62.15714285714286,
          23,
          65.8888888888889,
          48.7,
          35.77272727272728,
          54.6,
          53.9,
          70.14,
          50.699999999999996,
          66.34545454545456,
          54.777777777777786,
          47,
          71.2,
          59.1,
          20.875,
          19.7,
          53.333333333333336,
          42.670588235294126,
          31.733333333333338,
          73.3,
          45.1,
          65.54615384615386,
          84.3,
          60.075,
          41.6,
          48.25,
          77.67999999999999,
          52.099999999999994,
          93.7,
          63.6,
          36.36666666666667,
          49.349999999999994,
          59.400000000000006,
          90.0625,
          26.766666666666666,
          22.5,
          44.85,
          79.21111111111112,
          44.856043956043955,
          28.1,
          78.17096774193547,
          77.71428571428571,
          48.2,
          68.64285714285714,
          21.2,
          66.52,
          45.559999999999995,
          23.82777777777778,
          46.85,
          74.7,
          36.266666666666666,
          79.41666666666667,
          32.35,
          42,
          53.599999999999994,
          61.166666666666664,
          53.534285714285716,
          36.93333333333333,
          82.78333333333335,
          50.559999999999995,
          61,
          15.235294117647056,
          37.2,
          12.57142857142857,
          50.333333333333336,
          37.16470588235293,
          22.66153846153846,
          57.95,
          45.5,
          31.5,
          40.8,
          99.8,
          98.4,
          38.1,
          47.75,
          42.7,
          70.39999999999999,
          89.04285714285716,
          26.1,
          66.05,
          71.5,
          31.3,
          26.016666666666666,
          45.12857142857143,
          99.9,
          79.80000000000001,
          34.53333333333333,
          31.053846153846152,
          84.33333333333333,
          30.5,
          95.4,
          38.75,
          34.05,
          55.28333333333334,
          30.600000000000005,
          40.908,
          60.80909090909092,
          93.11111111111111,
          22.908333333333335,
          32.67142857142857,
          28.872727272727275,
          58,
          38.3,
          63.4,
          95.3,
          78.49605263157896,
          42.717647058823545,
          92.5
         ],
         "xaxis": "x6",
         "y": [
          58.18333333333333,
          31,
          97.4,
          41.666666666666664,
          70.26,
          61.03333333333333,
          36,
          30.2,
          27.73333333333333,
          41.87,
          51.125,
          70.825,
          69.8375,
          61.1,
          41.5,
          31.6,
          40.25,
          70.85,
          35,
          57.56666666666666,
          40.56,
          55.525000000000006,
          38.15,
          41.38275862068965,
          56.96,
          49.13809523809523,
          38.46,
          66.92857142857143,
          38.25,
          50.576470588235296,
          29.7,
          68.84,
          24.5,
          60.8,
          34.5,
          26.3,
          41.67999999999999,
          34.31428571428571,
          42.34761904761905,
          33.2,
          51.28333333333333,
          75.4,
          24.2,
          93.1,
          30.525,
          41.971428571428575,
          49.84375,
          63.699999999999996,
          36.26,
          38.4,
          25.8,
          34.025,
          31.72,
          53,
          52.55,
          99.03333333333335,
          74.21428571428571,
          36.599999999999994,
          55.64,
          41.666666666666664,
          55.949999999999996,
          29,
          51.599999999999994,
          36.8,
          46.724137931034484,
          53.44210526315789,
          39.1,
          68.34285714285714,
          42.45,
          52.422222222222224,
          66.2,
          28.4,
          28.1,
          64.52000000000001,
          30.1,
          52.4,
          44.16,
          46.71363636363637,
          34.1,
          48,
          74.4,
          65.16666666666667,
          93,
          41.2,
          42.05,
          52.638461538461534,
          36,
          73.73846153846155,
          50.13333333333333,
          36.7,
          28.7,
          36.1,
          35.760000000000005,
          64.85,
          40.2,
          88.45,
          77.69999999999999,
          81.43333333333334,
          35.07142857142858,
          56.63000000000001,
          45.416666666666664,
          66.05714285714285,
          60.2,
          52.96,
          40.808333333333344,
          47.43333333333334,
          54.25789473684211,
          40.2,
          76.28333333333333,
          44.55,
          52.21666666666666,
          68.39,
          30.6,
          29,
          63.980000000000004,
          30.3,
          37.275,
          43.17272727272728,
          49.29090909090908,
          35,
          48,
          78.5,
          45.199999999999996,
          98.3,
          38.06666666666667,
          42.226666666666674,
          61.154545454545456,
          74.38461538461537,
          51.42,
          38.150000000000006,
          28.3,
          37.05,
          38.52,
          72.2,
          66.80000000000001,
          82.15,
          93.5,
          82.89999999999999,
          40.73333333333333,
          57.75555555555555,
          54.050000000000004,
          65.95,
          62.2,
          51.760000000000005,
          38.71632653061225,
          47.29767441860465,
          52.245000000000005,
          39.879999999999995,
          71.02857142857142,
          42.3,
          50.305555555555564,
          28.1,
          72.25454545454545,
          36.5,
          29.4,
          63.85999999999999,
          46.20000000000001,
          42.400000000000006,
          52.640740740740746,
          36,
          46.31666666666666,
          64,
          46.225,
          85.15,
          36.86666666666667,
          41.42941176470589,
          58.34166666666667,
          33.6,
          28.6,
          74.96153846153847,
          51.06,
          38.650000000000006,
          28.5,
          39.2,
          36.36,
          55.95,
          76.7,
          92.5,
          81.34444444444445,
          42.449999999999996,
          57.111111111111114,
          60.56249999999999,
          70.06666666666666,
          56.5,
          48.98333333333334,
          38.117777777777775,
          48.37032967032967,
          28.6,
          48.80645161290323,
          47.771428571428565,
          28,
          73.52857142857144,
          46.054545454545455,
          47.268,
          35.9,
          69.04999999999998,
          35.8,
          30,
          30.966666666666672,
          45.050000000000004,
          30,
          38.15,
          45.62222222222222,
          33.75416666666667,
          68.37714285714286,
          42.68333333333334,
          47.21666666666667,
          32.260000000000005,
          28,
          40.40588235294119,
          40,
          62.65714285714285,
          31.916666666666668,
          40.15294117647059,
          47.39487179487178,
          30.1,
          28,
          28.3,
          41,
          38.1,
          34.9,
          31.28,
          69.75,
          29.2,
          73.02307692307693,
          43.17142857142857,
          29.2,
          40.775,
          37.6,
          31.3,
          32.916666666666664,
          40.1,
          55.2,
          37.2,
          28.766666666666666,
          47.615384615384606,
          70.56666666666668,
          45.6,
          74.85,
          30.6,
          35.5,
          68.63333333333333,
          60.99583333333336,
          35.56,
          55.23636363636364,
          67.02222222222221,
          53.11666666666665,
          45.34285714285715,
          59.33636363636364,
          28,
          28.4,
          44.7,
          31.7,
          34.31447368421054,
          44.50220588235294,
          34.6
         ],
         "yaxis": "y6"
        },
        {
         "marker": {
          "color": [
           1,
           2,
           3,
           4,
           5,
           6,
           7,
           8,
           9,
           10,
           11,
           12,
           13,
           14,
           15,
           16,
           17,
           18,
           19,
           20,
           21,
           22,
           23,
           24,
           25,
           26,
           27,
           28,
           29,
           30,
           31,
           32,
           33,
           34,
           35,
           36,
           37,
           38,
           39,
           40,
           41,
           42,
           43,
           44,
           45,
           46,
           47,
           48,
           49,
           50,
           51,
           52,
           53,
           54,
           55,
           56,
           57,
           58,
           59,
           60,
           61,
           62,
           63,
           64,
           65,
           66,
           67,
           68,
           69,
           70,
           71,
           72,
           73,
           74,
           75,
           76,
           77,
           78,
           79,
           80,
           81,
           82,
           83,
           84,
           85,
           86,
           87,
           88,
           89,
           90,
           91,
           92,
           93,
           94,
           95,
           96,
           97,
           98,
           99,
           100,
           101,
           102,
           103,
           104,
           105,
           106,
           107,
           108,
           109,
           110,
           111,
           112,
           113,
           114,
           115,
           116,
           117,
           118,
           119,
           120,
           121,
           122,
           123,
           124,
           125,
           126,
           127,
           128,
           129,
           130,
           131,
           132,
           133,
           134,
           135,
           136,
           137,
           138,
           139,
           140,
           141,
           142,
           143,
           144,
           145,
           146,
           147,
           148,
           149,
           150,
           151,
           152,
           153,
           154,
           155,
           156,
           157,
           158,
           159,
           160,
           161,
           162,
           163,
           164,
           165,
           166,
           167,
           168,
           169,
           170,
           171,
           172,
           173,
           174,
           175,
           176,
           177,
           178,
           179,
           180,
           181,
           182,
           183,
           184,
           185,
           186,
           187,
           188,
           189,
           190,
           191,
           192,
           193,
           194,
           195,
           196,
           197,
           198,
           199,
           200,
           201,
           202,
           203,
           204,
           205,
           206,
           207,
           208,
           209,
           210,
           211,
           212,
           213,
           214,
           215,
           216,
           217,
           218,
           219,
           220,
           221,
           222,
           223,
           224,
           225,
           226,
           227,
           228,
           229,
           230,
           231,
           232,
           233,
           234,
           235,
           236,
           237,
           238,
           239,
           240,
           241,
           242,
           243,
           244,
           245,
           246,
           247,
           248,
           249,
           250,
           251,
           252,
           253,
           254,
           255,
           256
          ],
          "colorscale": [
           [
            0,
            "rgb(12, 51, 131)"
           ],
           [
            1,
            "rgb(217, 30, 30)"
           ]
          ],
          "showscale": false,
          "size": 6
         },
         "mode": "markers",
         "showlegend": false,
         "type": "scatter",
         "x": [
          2011,
          2011,
          2011,
          2011,
          2011,
          2011,
          2011,
          2011,
          2011,
          2011,
          2011,
          2011,
          2011,
          2011,
          2011,
          2011,
          2011,
          2011,
          2011,
          2011,
          2011,
          2011,
          2011,
          2011,
          2011,
          2012,
          2012,
          2012,
          2012,
          2012,
          2012,
          2012,
          2012,
          2012,
          2012,
          2012,
          2012,
          2012,
          2012,
          2012,
          2012,
          2012,
          2012,
          2012,
          2012,
          2012,
          2012,
          2012,
          2012,
          2012,
          2012,
          2012,
          2012,
          2012,
          2012,
          2012,
          2012,
          2012,
          2012,
          2012,
          2012,
          2012,
          2012,
          2012,
          2012,
          2013,
          2013,
          2013,
          2013,
          2013,
          2013,
          2013,
          2013,
          2013,
          2013,
          2013,
          2013,
          2013,
          2013,
          2013,
          2013,
          2013,
          2013,
          2013,
          2013,
          2013,
          2013,
          2013,
          2013,
          2013,
          2013,
          2013,
          2013,
          2013,
          2013,
          2013,
          2013,
          2013,
          2013,
          2013,
          2013,
          2013,
          2013,
          2013,
          2013,
          2013,
          2014,
          2014,
          2014,
          2014,
          2014,
          2014,
          2014,
          2014,
          2014,
          2014,
          2014,
          2014,
          2014,
          2014,
          2014,
          2014,
          2014,
          2014,
          2014,
          2014,
          2014,
          2014,
          2014,
          2014,
          2014,
          2014,
          2014,
          2014,
          2014,
          2014,
          2014,
          2014,
          2014,
          2014,
          2014,
          2014,
          2014,
          2014,
          2014,
          2014,
          2015,
          2015,
          2015,
          2015,
          2015,
          2015,
          2015,
          2015,
          2015,
          2015,
          2015,
          2015,
          2015,
          2015,
          2015,
          2015,
          2015,
          2015,
          2015,
          2015,
          2015,
          2015,
          2015,
          2015,
          2015,
          2015,
          2015,
          2015,
          2015,
          2015,
          2015,
          2015,
          2015,
          2015,
          2015,
          2015,
          2015,
          2015,
          2015,
          2015,
          2015,
          2016,
          2016,
          2016,
          2016,
          2016,
          2016,
          2016,
          2016,
          2016,
          2016,
          2016,
          2016,
          2016,
          2016,
          2016,
          2016,
          2016,
          2016,
          2016,
          2016,
          2016,
          2016,
          2016,
          2016,
          2016,
          2016,
          2016,
          2016,
          2016,
          2016,
          2016,
          2016,
          2016,
          2016,
          2016,
          2016,
          2016,
          2016,
          2016,
          2016,
          2016,
          2016,
          2016,
          2016,
          2016,
          2016,
          2016,
          2016,
          2016,
          2016,
          2016,
          2016,
          2016,
          2016,
          2016,
          2016,
          2016,
          2016,
          2016,
          2016,
          2016,
          2016,
          2016,
          2016,
          2016,
          2016,
          2016,
          2016,
          2016
         ],
         "xaxis": "x7",
         "y": [
          82.85000000000001,
          81.35,
          27.15,
          72.26666666666667,
          44.14,
          47.73333333333333,
          19.3,
          24.2,
          37.733333333333334,
          51.510000000000005,
          85.875,
          20.85,
          43.949999999999996,
          94.3,
          66.6,
          84.2,
          97.05,
          35.550000000000004,
          33.2,
          66.3,
          91.8,
          35.625,
          37.45,
          74.60344827586206,
          41.00666666666667,
          77.80952380952381,
          76.03999999999999,
          63.671428571428564,
          21,
          62.405882352941184,
          45.5,
          25.880000000000003,
          51.4,
          71.66,
          31.6,
          42,
          41.800000000000004,
          65.85714285714286,
          55.42857142857144,
          42.6,
          69.38333333333334,
          56.9,
          14.3,
          12.7,
          44.75,
          33.949999999999996,
          21.156250000000004,
          60.10833333333334,
          86.8,
          64.65,
          39.5,
          48.625,
          79.4,
          45.7,
          91.4,
          63.333333333333336,
          25.042857142857144,
          39.35,
          59.169999999999995,
          90.08333333333333,
          17.9375,
          45,
          31.775000000000002,
          76.92499999999998,
          35.02988505747127,
          75.78421052631579,
          74.46000000000001,
          60.41428571428571,
          22.7,
          60.1888888888889,
          34.56666666666667,
          53,
          50.3,
          70.28,
          42.4,
          44.9,
          63.84000000000001,
          53.3909090909091,
          44.4,
          68.96666666666665,
          59.9,
          17.2,
          16.7,
          48.56666666666666,
          36.971428571428575,
          26.015384615384615,
          33.2,
          60.93846153846154,
          84.18333333333332,
          62.325,
          40.75,
          45.333333333333336,
          74.2,
          34.55,
          71,
          91.4,
          61.05,
          29.750000000000004,
          40.35714285714285,
          58.410000000000004,
          88,
          23.628571428571433,
          23.8,
          36.06,
          76.48958333333333,
          39.333333333333336,
          79.13684210526317,
          73.38333333333334,
          59.01666666666667,
          21.95,
          62.68888888888888,
          35.43,
          55.7,
          53.2,
          71.56,
          43.7,
          47.300000000000004,
          63.709090909090925,
          53.88636363636365,
          47.1,
          68.7,
          59.9,
          20.733333333333334,
          20.7,
          51.96666666666666,
          39.89333333333333,
          27.927272727272733,
          63.600000000000016,
          85.22,
          61.74999999999999,
          42.8,
          45.4,
          74.48,
          55.7,
          73.25,
          92.65,
          64.03333333333335,
          34.94285714285714,
          40.48888888888889,
          60.21111111111111,
          89.4625,
          25.162499999999998,
          24.4,
          43.64,
          77.11836734693878,
          42.52674418604651,
          78.74499999999999,
          79.64,
          62.15714285714286,
          23,
          65.8888888888889,
          48.7,
          35.77272727272728,
          54.6,
          53.9,
          70.14,
          50.699999999999996,
          66.34545454545456,
          54.777777777777786,
          47,
          71.2,
          59.1,
          20.875,
          19.7,
          53.333333333333336,
          42.670588235294126,
          31.733333333333338,
          73.3,
          45.1,
          65.54615384615386,
          84.3,
          60.075,
          41.6,
          48.25,
          77.67999999999999,
          52.099999999999994,
          93.7,
          63.6,
          36.36666666666667,
          49.349999999999994,
          59.400000000000006,
          90.0625,
          26.766666666666666,
          22.5,
          44.85,
          79.21111111111112,
          44.856043956043955,
          28.1,
          78.17096774193547,
          77.71428571428571,
          48.2,
          68.64285714285714,
          21.2,
          66.52,
          45.559999999999995,
          23.82777777777778,
          46.85,
          74.7,
          36.266666666666666,
          79.41666666666667,
          32.35,
          42,
          53.599999999999994,
          61.166666666666664,
          53.534285714285716,
          36.93333333333333,
          82.78333333333335,
          50.559999999999995,
          61,
          15.235294117647056,
          37.2,
          12.57142857142857,
          50.333333333333336,
          37.16470588235293,
          22.66153846153846,
          57.95,
          45.5,
          31.5,
          40.8,
          99.8,
          98.4,
          38.1,
          47.75,
          42.7,
          70.39999999999999,
          89.04285714285716,
          26.1,
          66.05,
          71.5,
          31.3,
          26.016666666666666,
          45.12857142857143,
          99.9,
          79.80000000000001,
          34.53333333333333,
          31.053846153846152,
          84.33333333333333,
          30.5,
          95.4,
          38.75,
          34.05,
          55.28333333333334,
          30.600000000000005,
          40.908,
          60.80909090909092,
          93.11111111111111,
          22.908333333333335,
          32.67142857142857,
          28.872727272727275,
          58,
          38.3,
          63.4,
          95.3,
          78.49605263157896,
          42.717647058823545,
          92.5
         ],
         "yaxis": "y7"
        },
        {
         "marker": {
          "color": [
           1,
           2,
           3,
           4,
           5,
           6,
           7,
           8,
           9,
           10,
           11,
           12,
           13,
           14,
           15,
           16,
           17,
           18,
           19,
           20,
           21,
           22,
           23,
           24,
           25,
           26,
           27,
           28,
           29,
           30,
           31,
           32,
           33,
           34,
           35,
           36,
           37,
           38,
           39,
           40,
           41,
           42,
           43,
           44,
           45,
           46,
           47,
           48,
           49,
           50,
           51,
           52,
           53,
           54,
           55,
           56,
           57,
           58,
           59,
           60,
           61,
           62,
           63,
           64,
           65,
           66,
           67,
           68,
           69,
           70,
           71,
           72,
           73,
           74,
           75,
           76,
           77,
           78,
           79,
           80,
           81,
           82,
           83,
           84,
           85,
           86,
           87,
           88,
           89,
           90,
           91,
           92,
           93,
           94,
           95,
           96,
           97,
           98,
           99,
           100,
           101,
           102,
           103,
           104,
           105,
           106,
           107,
           108,
           109,
           110,
           111,
           112,
           113,
           114,
           115,
           116,
           117,
           118,
           119,
           120,
           121,
           122,
           123,
           124,
           125,
           126,
           127,
           128,
           129,
           130,
           131,
           132,
           133,
           134,
           135,
           136,
           137,
           138,
           139,
           140,
           141,
           142,
           143,
           144,
           145,
           146,
           147,
           148,
           149,
           150,
           151,
           152,
           153,
           154,
           155,
           156,
           157,
           158,
           159,
           160,
           161,
           162,
           163,
           164,
           165,
           166,
           167,
           168,
           169,
           170,
           171,
           172,
           173,
           174,
           175,
           176,
           177,
           178,
           179,
           180,
           181,
           182,
           183,
           184,
           185,
           186,
           187,
           188,
           189,
           190,
           191,
           192,
           193,
           194,
           195,
           196,
           197,
           198,
           199,
           200,
           201,
           202,
           203,
           204,
           205,
           206,
           207,
           208,
           209,
           210,
           211,
           212,
           213,
           214,
           215,
           216,
           217,
           218,
           219,
           220,
           221,
           222,
           223,
           224,
           225,
           226,
           227,
           228,
           229,
           230,
           231,
           232,
           233,
           234,
           235,
           236,
           237,
           238,
           239,
           240,
           241,
           242,
           243,
           244,
           245,
           246,
           247,
           248,
           249,
           250,
           251,
           252,
           253,
           254,
           255,
           256
          ],
          "colorscale": [
           [
            0,
            "rgb(12, 51, 131)"
           ],
           [
            1,
            "rgb(217, 30, 30)"
           ]
          ],
          "showscale": false,
          "size": 6
         },
         "mode": "markers",
         "showlegend": false,
         "type": "scatter",
         "x": [
          58.18333333333333,
          31,
          97.4,
          41.666666666666664,
          70.26,
          61.03333333333333,
          36,
          30.2,
          27.73333333333333,
          41.87,
          51.125,
          70.825,
          69.8375,
          61.1,
          41.5,
          31.6,
          40.25,
          70.85,
          35,
          57.56666666666666,
          40.56,
          55.525000000000006,
          38.15,
          41.38275862068965,
          56.96,
          49.13809523809523,
          38.46,
          66.92857142857143,
          38.25,
          50.576470588235296,
          29.7,
          68.84,
          24.5,
          60.8,
          34.5,
          26.3,
          41.67999999999999,
          34.31428571428571,
          42.34761904761905,
          33.2,
          51.28333333333333,
          75.4,
          24.2,
          93.1,
          30.525,
          41.971428571428575,
          49.84375,
          63.699999999999996,
          36.26,
          38.4,
          25.8,
          34.025,
          31.72,
          53,
          52.55,
          99.03333333333335,
          74.21428571428571,
          36.599999999999994,
          55.64,
          41.666666666666664,
          55.949999999999996,
          29,
          51.599999999999994,
          36.8,
          46.724137931034484,
          53.44210526315789,
          39.1,
          68.34285714285714,
          42.45,
          52.422222222222224,
          66.2,
          28.4,
          28.1,
          64.52000000000001,
          30.1,
          52.4,
          44.16,
          46.71363636363637,
          34.1,
          48,
          74.4,
          65.16666666666667,
          93,
          41.2,
          42.05,
          52.638461538461534,
          36,
          73.73846153846155,
          50.13333333333333,
          36.7,
          28.7,
          36.1,
          35.760000000000005,
          64.85,
          40.2,
          88.45,
          77.69999999999999,
          81.43333333333334,
          35.07142857142858,
          56.63000000000001,
          45.416666666666664,
          66.05714285714285,
          60.2,
          52.96,
          40.808333333333344,
          47.43333333333334,
          54.25789473684211,
          40.2,
          76.28333333333333,
          44.55,
          52.21666666666666,
          68.39,
          30.6,
          29,
          63.980000000000004,
          30.3,
          37.275,
          43.17272727272728,
          49.29090909090908,
          35,
          48,
          78.5,
          45.199999999999996,
          98.3,
          38.06666666666667,
          42.226666666666674,
          61.154545454545456,
          74.38461538461537,
          51.42,
          38.150000000000006,
          28.3,
          37.05,
          38.52,
          72.2,
          66.80000000000001,
          82.15,
          93.5,
          82.89999999999999,
          40.73333333333333,
          57.75555555555555,
          54.050000000000004,
          65.95,
          62.2,
          51.760000000000005,
          38.71632653061225,
          47.29767441860465,
          52.245000000000005,
          39.879999999999995,
          71.02857142857142,
          42.3,
          50.305555555555564,
          28.1,
          72.25454545454545,
          36.5,
          29.4,
          63.85999999999999,
          46.20000000000001,
          42.400000000000006,
          52.640740740740746,
          36,
          46.31666666666666,
          64,
          46.225,
          85.15,
          36.86666666666667,
          41.42941176470589,
          58.34166666666667,
          33.6,
          28.6,
          74.96153846153847,
          51.06,
          38.650000000000006,
          28.5,
          39.2,
          36.36,
          55.95,
          76.7,
          92.5,
          81.34444444444445,
          42.449999999999996,
          57.111111111111114,
          60.56249999999999,
          70.06666666666666,
          56.5,
          48.98333333333334,
          38.117777777777775,
          48.37032967032967,
          28.6,
          48.80645161290323,
          47.771428571428565,
          28,
          73.52857142857144,
          46.054545454545455,
          47.268,
          35.9,
          69.04999999999998,
          35.8,
          30,
          30.966666666666672,
          45.050000000000004,
          30,
          38.15,
          45.62222222222222,
          33.75416666666667,
          68.37714285714286,
          42.68333333333334,
          47.21666666666667,
          32.260000000000005,
          28,
          40.40588235294119,
          40,
          62.65714285714285,
          31.916666666666668,
          40.15294117647059,
          47.39487179487178,
          30.1,
          28,
          28.3,
          41,
          38.1,
          34.9,
          31.28,
          69.75,
          29.2,
          73.02307692307693,
          43.17142857142857,
          29.2,
          40.775,
          37.6,
          31.3,
          32.916666666666664,
          40.1,
          55.2,
          37.2,
          28.766666666666666,
          47.615384615384606,
          70.56666666666668,
          45.6,
          74.85,
          30.6,
          35.5,
          68.63333333333333,
          60.99583333333336,
          35.56,
          55.23636363636364,
          67.02222222222221,
          53.11666666666665,
          45.34285714285715,
          59.33636363636364,
          28,
          28.4,
          44.7,
          31.7,
          34.31447368421054,
          44.50220588235294,
          34.6
         ],
         "xaxis": "x8",
         "y": [
          82.85000000000001,
          81.35,
          27.15,
          72.26666666666667,
          44.14,
          47.73333333333333,
          19.3,
          24.2,
          37.733333333333334,
          51.510000000000005,
          85.875,
          20.85,
          43.949999999999996,
          94.3,
          66.6,
          84.2,
          97.05,
          35.550000000000004,
          33.2,
          66.3,
          91.8,
          35.625,
          37.45,
          74.60344827586206,
          41.00666666666667,
          77.80952380952381,
          76.03999999999999,
          63.671428571428564,
          21,
          62.405882352941184,
          45.5,
          25.880000000000003,
          51.4,
          71.66,
          31.6,
          42,
          41.800000000000004,
          65.85714285714286,
          55.42857142857144,
          42.6,
          69.38333333333334,
          56.9,
          14.3,
          12.7,
          44.75,
          33.949999999999996,
          21.156250000000004,
          60.10833333333334,
          86.8,
          64.65,
          39.5,
          48.625,
          79.4,
          45.7,
          91.4,
          63.333333333333336,
          25.042857142857144,
          39.35,
          59.169999999999995,
          90.08333333333333,
          17.9375,
          45,
          31.775000000000002,
          76.92499999999998,
          35.02988505747127,
          75.78421052631579,
          74.46000000000001,
          60.41428571428571,
          22.7,
          60.1888888888889,
          34.56666666666667,
          53,
          50.3,
          70.28,
          42.4,
          44.9,
          63.84000000000001,
          53.3909090909091,
          44.4,
          68.96666666666665,
          59.9,
          17.2,
          16.7,
          48.56666666666666,
          36.971428571428575,
          26.015384615384615,
          33.2,
          60.93846153846154,
          84.18333333333332,
          62.325,
          40.75,
          45.333333333333336,
          74.2,
          34.55,
          71,
          91.4,
          61.05,
          29.750000000000004,
          40.35714285714285,
          58.410000000000004,
          88,
          23.628571428571433,
          23.8,
          36.06,
          76.48958333333333,
          39.333333333333336,
          79.13684210526317,
          73.38333333333334,
          59.01666666666667,
          21.95,
          62.68888888888888,
          35.43,
          55.7,
          53.2,
          71.56,
          43.7,
          47.300000000000004,
          63.709090909090925,
          53.88636363636365,
          47.1,
          68.7,
          59.9,
          20.733333333333334,
          20.7,
          51.96666666666666,
          39.89333333333333,
          27.927272727272733,
          63.600000000000016,
          85.22,
          61.74999999999999,
          42.8,
          45.4,
          74.48,
          55.7,
          73.25,
          92.65,
          64.03333333333335,
          34.94285714285714,
          40.48888888888889,
          60.21111111111111,
          89.4625,
          25.162499999999998,
          24.4,
          43.64,
          77.11836734693878,
          42.52674418604651,
          78.74499999999999,
          79.64,
          62.15714285714286,
          23,
          65.8888888888889,
          48.7,
          35.77272727272728,
          54.6,
          53.9,
          70.14,
          50.699999999999996,
          66.34545454545456,
          54.777777777777786,
          47,
          71.2,
          59.1,
          20.875,
          19.7,
          53.333333333333336,
          42.670588235294126,
          31.733333333333338,
          73.3,
          45.1,
          65.54615384615386,
          84.3,
          60.075,
          41.6,
          48.25,
          77.67999999999999,
          52.099999999999994,
          93.7,
          63.6,
          36.36666666666667,
          49.349999999999994,
          59.400000000000006,
          90.0625,
          26.766666666666666,
          22.5,
          44.85,
          79.21111111111112,
          44.856043956043955,
          28.1,
          78.17096774193547,
          77.71428571428571,
          48.2,
          68.64285714285714,
          21.2,
          66.52,
          45.559999999999995,
          23.82777777777778,
          46.85,
          74.7,
          36.266666666666666,
          79.41666666666667,
          32.35,
          42,
          53.599999999999994,
          61.166666666666664,
          53.534285714285716,
          36.93333333333333,
          82.78333333333335,
          50.559999999999995,
          61,
          15.235294117647056,
          37.2,
          12.57142857142857,
          50.333333333333336,
          37.16470588235293,
          22.66153846153846,
          57.95,
          45.5,
          31.5,
          40.8,
          99.8,
          98.4,
          38.1,
          47.75,
          42.7,
          70.39999999999999,
          89.04285714285716,
          26.1,
          66.05,
          71.5,
          31.3,
          26.016666666666666,
          45.12857142857143,
          99.9,
          79.80000000000001,
          34.53333333333333,
          31.053846153846152,
          84.33333333333333,
          30.5,
          95.4,
          38.75,
          34.05,
          55.28333333333334,
          30.600000000000005,
          40.908,
          60.80909090909092,
          93.11111111111111,
          22.908333333333335,
          32.67142857142857,
          28.872727272727275,
          58,
          38.3,
          63.4,
          95.3,
          78.49605263157896,
          42.717647058823545,
          92.5
         ],
         "yaxis": "y8"
        },
        {
         "marker": {
          "color": "rgb(12, 51, 131)"
         },
         "showlegend": false,
         "type": "box",
         "xaxis": "x9",
         "y": [
          82.85000000000001,
          81.35,
          27.15,
          72.26666666666667,
          44.14,
          47.73333333333333,
          19.3,
          24.2,
          37.733333333333334,
          51.510000000000005,
          85.875,
          20.85,
          43.949999999999996,
          94.3,
          66.6,
          84.2,
          97.05,
          35.550000000000004,
          33.2,
          66.3,
          91.8,
          35.625,
          37.45,
          74.60344827586206,
          41.00666666666667,
          77.80952380952381,
          76.03999999999999,
          63.671428571428564,
          21,
          62.405882352941184,
          45.5,
          25.880000000000003,
          51.4,
          71.66,
          31.6,
          42,
          41.800000000000004,
          65.85714285714286,
          55.42857142857144,
          42.6,
          69.38333333333334,
          56.9,
          14.3,
          12.7,
          44.75,
          33.949999999999996,
          21.156250000000004,
          60.10833333333334,
          86.8,
          64.65,
          39.5,
          48.625,
          79.4,
          45.7,
          91.4,
          63.333333333333336,
          25.042857142857144,
          39.35,
          59.169999999999995,
          90.08333333333333,
          17.9375,
          45,
          31.775000000000002,
          76.92499999999998,
          35.02988505747127,
          75.78421052631579,
          74.46000000000001,
          60.41428571428571,
          22.7,
          60.1888888888889,
          34.56666666666667,
          53,
          50.3,
          70.28,
          42.4,
          44.9,
          63.84000000000001,
          53.3909090909091,
          44.4,
          68.96666666666665,
          59.9,
          17.2,
          16.7,
          48.56666666666666,
          36.971428571428575,
          26.015384615384615,
          33.2,
          60.93846153846154,
          84.18333333333332,
          62.325,
          40.75,
          45.333333333333336,
          74.2,
          34.55,
          71,
          91.4,
          61.05,
          29.750000000000004,
          40.35714285714285,
          58.410000000000004,
          88,
          23.628571428571433,
          23.8,
          36.06,
          76.48958333333333,
          39.333333333333336,
          79.13684210526317,
          73.38333333333334,
          59.01666666666667,
          21.95,
          62.68888888888888,
          35.43,
          55.7,
          53.2,
          71.56,
          43.7,
          47.300000000000004,
          63.709090909090925,
          53.88636363636365,
          47.1,
          68.7,
          59.9,
          20.733333333333334,
          20.7,
          51.96666666666666,
          39.89333333333333,
          27.927272727272733,
          63.600000000000016,
          85.22,
          61.74999999999999,
          42.8,
          45.4,
          74.48,
          55.7,
          73.25,
          92.65,
          64.03333333333335,
          34.94285714285714,
          40.48888888888889,
          60.21111111111111,
          89.4625,
          25.162499999999998,
          24.4,
          43.64,
          77.11836734693878,
          42.52674418604651,
          78.74499999999999,
          79.64,
          62.15714285714286,
          23,
          65.8888888888889,
          48.7,
          35.77272727272728,
          54.6,
          53.9,
          70.14,
          50.699999999999996,
          66.34545454545456,
          54.777777777777786,
          47,
          71.2,
          59.1,
          20.875,
          19.7,
          53.333333333333336,
          42.670588235294126,
          31.733333333333338,
          73.3,
          45.1,
          65.54615384615386,
          84.3,
          60.075,
          41.6,
          48.25,
          77.67999999999999,
          52.099999999999994,
          93.7,
          63.6,
          36.36666666666667,
          49.349999999999994,
          59.400000000000006,
          90.0625,
          26.766666666666666,
          22.5,
          44.85,
          79.21111111111112,
          44.856043956043955,
          28.1,
          78.17096774193547,
          77.71428571428571,
          48.2,
          68.64285714285714,
          21.2,
          66.52,
          45.559999999999995,
          23.82777777777778,
          46.85,
          74.7,
          36.266666666666666,
          79.41666666666667,
          32.35,
          42,
          53.599999999999994,
          61.166666666666664,
          53.534285714285716,
          36.93333333333333,
          82.78333333333335,
          50.559999999999995,
          61,
          15.235294117647056,
          37.2,
          12.57142857142857,
          50.333333333333336,
          37.16470588235293,
          22.66153846153846,
          57.95,
          45.5,
          31.5,
          40.8,
          99.8,
          98.4,
          38.1,
          47.75,
          42.7,
          70.39999999999999,
          89.04285714285716,
          26.1,
          66.05,
          71.5,
          31.3,
          26.016666666666666,
          45.12857142857143,
          99.9,
          79.80000000000001,
          34.53333333333333,
          31.053846153846152,
          84.33333333333333,
          30.5,
          95.4,
          38.75,
          34.05,
          55.28333333333334,
          30.600000000000005,
          40.908,
          60.80909090909092,
          93.11111111111111,
          22.908333333333335,
          32.67142857142857,
          28.872727272727275,
          58,
          38.3,
          63.4,
          95.3,
          78.49605263157896,
          42.717647058823545,
          92.5
         ],
         "yaxis": "y9"
        }
       ],
       "layout": {
        "height": 700,
        "showlegend": true,
        "template": {
         "data": {
          "bar": [
           {
            "error_x": {
             "color": "#2a3f5f"
            },
            "error_y": {
             "color": "#2a3f5f"
            },
            "marker": {
             "line": {
              "color": "#E5ECF6",
              "width": 0.5
             }
            },
            "type": "bar"
           }
          ],
          "barpolar": [
           {
            "marker": {
             "line": {
              "color": "#E5ECF6",
              "width": 0.5
             }
            },
            "type": "barpolar"
           }
          ],
          "carpet": [
           {
            "aaxis": {
             "endlinecolor": "#2a3f5f",
             "gridcolor": "white",
             "linecolor": "white",
             "minorgridcolor": "white",
             "startlinecolor": "#2a3f5f"
            },
            "baxis": {
             "endlinecolor": "#2a3f5f",
             "gridcolor": "white",
             "linecolor": "white",
             "minorgridcolor": "white",
             "startlinecolor": "#2a3f5f"
            },
            "type": "carpet"
           }
          ],
          "choropleth": [
           {
            "colorbar": {
             "outlinewidth": 0,
             "ticks": ""
            },
            "type": "choropleth"
           }
          ],
          "contour": [
           {
            "colorbar": {
             "outlinewidth": 0,
             "ticks": ""
            },
            "colorscale": [
             [
              0,
              "#0d0887"
             ],
             [
              0.1111111111111111,
              "#46039f"
             ],
             [
              0.2222222222222222,
              "#7201a8"
             ],
             [
              0.3333333333333333,
              "#9c179e"
             ],
             [
              0.4444444444444444,
              "#bd3786"
             ],
             [
              0.5555555555555556,
              "#d8576b"
             ],
             [
              0.6666666666666666,
              "#ed7953"
             ],
             [
              0.7777777777777778,
              "#fb9f3a"
             ],
             [
              0.8888888888888888,
              "#fdca26"
             ],
             [
              1,
              "#f0f921"
             ]
            ],
            "type": "contour"
           }
          ],
          "contourcarpet": [
           {
            "colorbar": {
             "outlinewidth": 0,
             "ticks": ""
            },
            "type": "contourcarpet"
           }
          ],
          "heatmap": [
           {
            "colorbar": {
             "outlinewidth": 0,
             "ticks": ""
            },
            "colorscale": [
             [
              0,
              "#0d0887"
             ],
             [
              0.1111111111111111,
              "#46039f"
             ],
             [
              0.2222222222222222,
              "#7201a8"
             ],
             [
              0.3333333333333333,
              "#9c179e"
             ],
             [
              0.4444444444444444,
              "#bd3786"
             ],
             [
              0.5555555555555556,
              "#d8576b"
             ],
             [
              0.6666666666666666,
              "#ed7953"
             ],
             [
              0.7777777777777778,
              "#fb9f3a"
             ],
             [
              0.8888888888888888,
              "#fdca26"
             ],
             [
              1,
              "#f0f921"
             ]
            ],
            "type": "heatmap"
           }
          ],
          "heatmapgl": [
           {
            "colorbar": {
             "outlinewidth": 0,
             "ticks": ""
            },
            "colorscale": [
             [
              0,
              "#0d0887"
             ],
             [
              0.1111111111111111,
              "#46039f"
             ],
             [
              0.2222222222222222,
              "#7201a8"
             ],
             [
              0.3333333333333333,
              "#9c179e"
             ],
             [
              0.4444444444444444,
              "#bd3786"
             ],
             [
              0.5555555555555556,
              "#d8576b"
             ],
             [
              0.6666666666666666,
              "#ed7953"
             ],
             [
              0.7777777777777778,
              "#fb9f3a"
             ],
             [
              0.8888888888888888,
              "#fdca26"
             ],
             [
              1,
              "#f0f921"
             ]
            ],
            "type": "heatmapgl"
           }
          ],
          "histogram": [
           {
            "marker": {
             "colorbar": {
              "outlinewidth": 0,
              "ticks": ""
             }
            },
            "type": "histogram"
           }
          ],
          "histogram2d": [
           {
            "colorbar": {
             "outlinewidth": 0,
             "ticks": ""
            },
            "colorscale": [
             [
              0,
              "#0d0887"
             ],
             [
              0.1111111111111111,
              "#46039f"
             ],
             [
              0.2222222222222222,
              "#7201a8"
             ],
             [
              0.3333333333333333,
              "#9c179e"
             ],
             [
              0.4444444444444444,
              "#bd3786"
             ],
             [
              0.5555555555555556,
              "#d8576b"
             ],
             [
              0.6666666666666666,
              "#ed7953"
             ],
             [
              0.7777777777777778,
              "#fb9f3a"
             ],
             [
              0.8888888888888888,
              "#fdca26"
             ],
             [
              1,
              "#f0f921"
             ]
            ],
            "type": "histogram2d"
           }
          ],
          "histogram2dcontour": [
           {
            "colorbar": {
             "outlinewidth": 0,
             "ticks": ""
            },
            "colorscale": [
             [
              0,
              "#0d0887"
             ],
             [
              0.1111111111111111,
              "#46039f"
             ],
             [
              0.2222222222222222,
              "#7201a8"
             ],
             [
              0.3333333333333333,
              "#9c179e"
             ],
             [
              0.4444444444444444,
              "#bd3786"
             ],
             [
              0.5555555555555556,
              "#d8576b"
             ],
             [
              0.6666666666666666,
              "#ed7953"
             ],
             [
              0.7777777777777778,
              "#fb9f3a"
             ],
             [
              0.8888888888888888,
              "#fdca26"
             ],
             [
              1,
              "#f0f921"
             ]
            ],
            "type": "histogram2dcontour"
           }
          ],
          "mesh3d": [
           {
            "colorbar": {
             "outlinewidth": 0,
             "ticks": ""
            },
            "type": "mesh3d"
           }
          ],
          "parcoords": [
           {
            "line": {
             "colorbar": {
              "outlinewidth": 0,
              "ticks": ""
             }
            },
            "type": "parcoords"
           }
          ],
          "pie": [
           {
            "automargin": true,
            "type": "pie"
           }
          ],
          "scatter": [
           {
            "marker": {
             "colorbar": {
              "outlinewidth": 0,
              "ticks": ""
             }
            },
            "type": "scatter"
           }
          ],
          "scatter3d": [
           {
            "line": {
             "colorbar": {
              "outlinewidth": 0,
              "ticks": ""
             }
            },
            "marker": {
             "colorbar": {
              "outlinewidth": 0,
              "ticks": ""
             }
            },
            "type": "scatter3d"
           }
          ],
          "scattercarpet": [
           {
            "marker": {
             "colorbar": {
              "outlinewidth": 0,
              "ticks": ""
             }
            },
            "type": "scattercarpet"
           }
          ],
          "scattergeo": [
           {
            "marker": {
             "colorbar": {
              "outlinewidth": 0,
              "ticks": ""
             }
            },
            "type": "scattergeo"
           }
          ],
          "scattergl": [
           {
            "marker": {
             "colorbar": {
              "outlinewidth": 0,
              "ticks": ""
             }
            },
            "type": "scattergl"
           }
          ],
          "scattermapbox": [
           {
            "marker": {
             "colorbar": {
              "outlinewidth": 0,
              "ticks": ""
             }
            },
            "type": "scattermapbox"
           }
          ],
          "scatterpolar": [
           {
            "marker": {
             "colorbar": {
              "outlinewidth": 0,
              "ticks": ""
             }
            },
            "type": "scatterpolar"
           }
          ],
          "scatterpolargl": [
           {
            "marker": {
             "colorbar": {
              "outlinewidth": 0,
              "ticks": ""
             }
            },
            "type": "scatterpolargl"
           }
          ],
          "scatterternary": [
           {
            "marker": {
             "colorbar": {
              "outlinewidth": 0,
              "ticks": ""
             }
            },
            "type": "scatterternary"
           }
          ],
          "surface": [
           {
            "colorbar": {
             "outlinewidth": 0,
             "ticks": ""
            },
            "colorscale": [
             [
              0,
              "#0d0887"
             ],
             [
              0.1111111111111111,
              "#46039f"
             ],
             [
              0.2222222222222222,
              "#7201a8"
             ],
             [
              0.3333333333333333,
              "#9c179e"
             ],
             [
              0.4444444444444444,
              "#bd3786"
             ],
             [
              0.5555555555555556,
              "#d8576b"
             ],
             [
              0.6666666666666666,
              "#ed7953"
             ],
             [
              0.7777777777777778,
              "#fb9f3a"
             ],
             [
              0.8888888888888888,
              "#fdca26"
             ],
             [
              1,
              "#f0f921"
             ]
            ],
            "type": "surface"
           }
          ],
          "table": [
           {
            "cells": {
             "fill": {
              "color": "#EBF0F8"
             },
             "line": {
              "color": "white"
             }
            },
            "header": {
             "fill": {
              "color": "#C8D4E3"
             },
             "line": {
              "color": "white"
             }
            },
            "type": "table"
           }
          ]
         },
         "layout": {
          "annotationdefaults": {
           "arrowcolor": "#2a3f5f",
           "arrowhead": 0,
           "arrowwidth": 1
          },
          "coloraxis": {
           "colorbar": {
            "outlinewidth": 0,
            "ticks": ""
           }
          },
          "colorscale": {
           "diverging": [
            [
             0,
             "#8e0152"
            ],
            [
             0.1,
             "#c51b7d"
            ],
            [
             0.2,
             "#de77ae"
            ],
            [
             0.3,
             "#f1b6da"
            ],
            [
             0.4,
             "#fde0ef"
            ],
            [
             0.5,
             "#f7f7f7"
            ],
            [
             0.6,
             "#e6f5d0"
            ],
            [
             0.7,
             "#b8e186"
            ],
            [
             0.8,
             "#7fbc41"
            ],
            [
             0.9,
             "#4d9221"
            ],
            [
             1,
             "#276419"
            ]
           ],
           "sequential": [
            [
             0,
             "#0d0887"
            ],
            [
             0.1111111111111111,
             "#46039f"
            ],
            [
             0.2222222222222222,
             "#7201a8"
            ],
            [
             0.3333333333333333,
             "#9c179e"
            ],
            [
             0.4444444444444444,
             "#bd3786"
            ],
            [
             0.5555555555555556,
             "#d8576b"
            ],
            [
             0.6666666666666666,
             "#ed7953"
            ],
            [
             0.7777777777777778,
             "#fb9f3a"
            ],
            [
             0.8888888888888888,
             "#fdca26"
            ],
            [
             1,
             "#f0f921"
            ]
           ],
           "sequentialminus": [
            [
             0,
             "#0d0887"
            ],
            [
             0.1111111111111111,
             "#46039f"
            ],
            [
             0.2222222222222222,
             "#7201a8"
            ],
            [
             0.3333333333333333,
             "#9c179e"
            ],
            [
             0.4444444444444444,
             "#bd3786"
            ],
            [
             0.5555555555555556,
             "#d8576b"
            ],
            [
             0.6666666666666666,
             "#ed7953"
            ],
            [
             0.7777777777777778,
             "#fb9f3a"
            ],
            [
             0.8888888888888888,
             "#fdca26"
            ],
            [
             1,
             "#f0f921"
            ]
           ]
          },
          "colorway": [
           "#636efa",
           "#EF553B",
           "#00cc96",
           "#ab63fa",
           "#FFA15A",
           "#19d3f3",
           "#FF6692",
           "#B6E880",
           "#FF97FF",
           "#FECB52"
          ],
          "font": {
           "color": "#2a3f5f"
          },
          "geo": {
           "bgcolor": "white",
           "lakecolor": "white",
           "landcolor": "#E5ECF6",
           "showlakes": true,
           "showland": true,
           "subunitcolor": "white"
          },
          "hoverlabel": {
           "align": "left"
          },
          "hovermode": "closest",
          "mapbox": {
           "style": "light"
          },
          "paper_bgcolor": "white",
          "plot_bgcolor": "#E5ECF6",
          "polar": {
           "angularaxis": {
            "gridcolor": "white",
            "linecolor": "white",
            "ticks": ""
           },
           "bgcolor": "#E5ECF6",
           "radialaxis": {
            "gridcolor": "white",
            "linecolor": "white",
            "ticks": ""
           }
          },
          "scene": {
           "xaxis": {
            "backgroundcolor": "#E5ECF6",
            "gridcolor": "white",
            "gridwidth": 2,
            "linecolor": "white",
            "showbackground": true,
            "ticks": "",
            "zerolinecolor": "white"
           },
           "yaxis": {
            "backgroundcolor": "#E5ECF6",
            "gridcolor": "white",
            "gridwidth": 2,
            "linecolor": "white",
            "showbackground": true,
            "ticks": "",
            "zerolinecolor": "white"
           },
           "zaxis": {
            "backgroundcolor": "#E5ECF6",
            "gridcolor": "white",
            "gridwidth": 2,
            "linecolor": "white",
            "showbackground": true,
            "ticks": "",
            "zerolinecolor": "white"
           }
          },
          "shapedefaults": {
           "line": {
            "color": "#2a3f5f"
           }
          },
          "ternary": {
           "aaxis": {
            "gridcolor": "white",
            "linecolor": "white",
            "ticks": ""
           },
           "baxis": {
            "gridcolor": "white",
            "linecolor": "white",
            "ticks": ""
           },
           "bgcolor": "#E5ECF6",
           "caxis": {
            "gridcolor": "white",
            "linecolor": "white",
            "ticks": ""
           }
          },
          "title": {
           "x": 0.05
          },
          "xaxis": {
           "automargin": true,
           "gridcolor": "white",
           "linecolor": "white",
           "ticks": "",
           "title": {
            "standoff": 15
           },
           "zerolinecolor": "white",
           "zerolinewidth": 2
          },
          "yaxis": {
           "automargin": true,
           "gridcolor": "white",
           "linecolor": "white",
           "ticks": "",
           "title": {
            "standoff": 15
           },
           "zerolinecolor": "white",
           "zerolinewidth": 2
          }
         }
        },
        "title": {
         "text": "Scatterplot Matrix"
        },
        "width": 700,
        "xaxis": {
         "anchor": "y",
         "domain": [
          0,
          0.2888888888888889
         ],
         "showticklabels": false
        },
        "xaxis2": {
         "anchor": "y2",
         "domain": [
          0.35555555555555557,
          0.6444444444444445
         ]
        },
        "xaxis3": {
         "anchor": "y3",
         "domain": [
          0.7111111111111111,
          1
         ]
        },
        "xaxis4": {
         "anchor": "y4",
         "domain": [
          0,
          0.2888888888888889
         ]
        },
        "xaxis5": {
         "anchor": "y5",
         "domain": [
          0.35555555555555557,
          0.6444444444444445
         ],
         "showticklabels": false
        },
        "xaxis6": {
         "anchor": "y6",
         "domain": [
          0.7111111111111111,
          1
         ]
        },
        "xaxis7": {
         "anchor": "y7",
         "domain": [
          0,
          0.2888888888888889
         ],
         "title": {
          "text": "year"
         }
        },
        "xaxis8": {
         "anchor": "y8",
         "domain": [
          0.35555555555555557,
          0.6444444444444445
         ],
         "title": {
          "text": "income"
         }
        },
        "xaxis9": {
         "anchor": "y9",
         "domain": [
          0.7111111111111111,
          1
         ],
         "showticklabels": false,
         "title": {
          "text": "international"
         }
        },
        "yaxis": {
         "anchor": "x",
         "domain": [
          0.7333333333333333,
          1
         ],
         "title": {
          "text": "year"
         }
        },
        "yaxis2": {
         "anchor": "x2",
         "domain": [
          0.7333333333333333,
          1
         ]
        },
        "yaxis3": {
         "anchor": "x3",
         "domain": [
          0.7333333333333333,
          1
         ]
        },
        "yaxis4": {
         "anchor": "x4",
         "domain": [
          0.36666666666666664,
          0.6333333333333333
         ],
         "title": {
          "text": "income"
         }
        },
        "yaxis5": {
         "anchor": "x5",
         "domain": [
          0.36666666666666664,
          0.6333333333333333
         ]
        },
        "yaxis6": {
         "anchor": "x6",
         "domain": [
          0.36666666666666664,
          0.6333333333333333
         ]
        },
        "yaxis7": {
         "anchor": "x7",
         "domain": [
          0,
          0.26666666666666666
         ],
         "title": {
          "text": "international"
         }
        },
        "yaxis8": {
         "anchor": "x8",
         "domain": [
          0,
          0.26666666666666666
         ]
        },
        "yaxis9": {
         "anchor": "x9",
         "domain": [
          0,
          0.26666666666666666
         ]
        }
       }
      },
      "text/html": [
       "<div>\n",
       "        \n",
       "        \n",
       "            <div id=\"06acc0cd-a334-4dcf-a058-916bf0ad8768\" class=\"plotly-graph-div\" style=\"height:700px; width:700px;\"></div>\n",
       "            <script type=\"text/javascript\">\n",
       "                require([\"plotly\"], function(Plotly) {\n",
       "                    window.PLOTLYENV=window.PLOTLYENV || {};\n",
       "                    \n",
       "                if (document.getElementById(\"06acc0cd-a334-4dcf-a058-916bf0ad8768\")) {\n",
       "                    Plotly.newPlot(\n",
       "                        '06acc0cd-a334-4dcf-a058-916bf0ad8768',\n",
       "                        [{\"marker\": {\"color\": \"rgb(12, 51, 131)\"}, \"showlegend\": false, \"type\": \"box\", \"xaxis\": \"x\", \"y\": [2011, 2011, 2011, 2011, 2011, 2011, 2011, 2011, 2011, 2011, 2011, 2011, 2011, 2011, 2011, 2011, 2011, 2011, 2011, 2011, 2011, 2011, 2011, 2011, 2011, 2012, 2012, 2012, 2012, 2012, 2012, 2012, 2012, 2012, 2012, 2012, 2012, 2012, 2012, 2012, 2012, 2012, 2012, 2012, 2012, 2012, 2012, 2012, 2012, 2012, 2012, 2012, 2012, 2012, 2012, 2012, 2012, 2012, 2012, 2012, 2012, 2012, 2012, 2012, 2012, 2013, 2013, 2013, 2013, 2013, 2013, 2013, 2013, 2013, 2013, 2013, 2013, 2013, 2013, 2013, 2013, 2013, 2013, 2013, 2013, 2013, 2013, 2013, 2013, 2013, 2013, 2013, 2013, 2013, 2013, 2013, 2013, 2013, 2013, 2013, 2013, 2013, 2013, 2013, 2013, 2013, 2014, 2014, 2014, 2014, 2014, 2014, 2014, 2014, 2014, 2014, 2014, 2014, 2014, 2014, 2014, 2014, 2014, 2014, 2014, 2014, 2014, 2014, 2014, 2014, 2014, 2014, 2014, 2014, 2014, 2014, 2014, 2014, 2014, 2014, 2014, 2014, 2014, 2014, 2014, 2014, 2015, 2015, 2015, 2015, 2015, 2015, 2015, 2015, 2015, 2015, 2015, 2015, 2015, 2015, 2015, 2015, 2015, 2015, 2015, 2015, 2015, 2015, 2015, 2015, 2015, 2015, 2015, 2015, 2015, 2015, 2015, 2015, 2015, 2015, 2015, 2015, 2015, 2015, 2015, 2015, 2015, 2016, 2016, 2016, 2016, 2016, 2016, 2016, 2016, 2016, 2016, 2016, 2016, 2016, 2016, 2016, 2016, 2016, 2016, 2016, 2016, 2016, 2016, 2016, 2016, 2016, 2016, 2016, 2016, 2016, 2016, 2016, 2016, 2016, 2016, 2016, 2016, 2016, 2016, 2016, 2016, 2016, 2016, 2016, 2016, 2016, 2016, 2016, 2016, 2016, 2016, 2016, 2016, 2016, 2016, 2016, 2016, 2016, 2016, 2016, 2016, 2016, 2016, 2016, 2016, 2016, 2016, 2016, 2016, 2016], \"yaxis\": \"y\"}, {\"marker\": {\"color\": [1, 2, 3, 4, 5, 6, 7, 8, 9, 10, 11, 12, 13, 14, 15, 16, 17, 18, 19, 20, 21, 22, 23, 24, 25, 26, 27, 28, 29, 30, 31, 32, 33, 34, 35, 36, 37, 38, 39, 40, 41, 42, 43, 44, 45, 46, 47, 48, 49, 50, 51, 52, 53, 54, 55, 56, 57, 58, 59, 60, 61, 62, 63, 64, 65, 66, 67, 68, 69, 70, 71, 72, 73, 74, 75, 76, 77, 78, 79, 80, 81, 82, 83, 84, 85, 86, 87, 88, 89, 90, 91, 92, 93, 94, 95, 96, 97, 98, 99, 100, 101, 102, 103, 104, 105, 106, 107, 108, 109, 110, 111, 112, 113, 114, 115, 116, 117, 118, 119, 120, 121, 122, 123, 124, 125, 126, 127, 128, 129, 130, 131, 132, 133, 134, 135, 136, 137, 138, 139, 140, 141, 142, 143, 144, 145, 146, 147, 148, 149, 150, 151, 152, 153, 154, 155, 156, 157, 158, 159, 160, 161, 162, 163, 164, 165, 166, 167, 168, 169, 170, 171, 172, 173, 174, 175, 176, 177, 178, 179, 180, 181, 182, 183, 184, 185, 186, 187, 188, 189, 190, 191, 192, 193, 194, 195, 196, 197, 198, 199, 200, 201, 202, 203, 204, 205, 206, 207, 208, 209, 210, 211, 212, 213, 214, 215, 216, 217, 218, 219, 220, 221, 222, 223, 224, 225, 226, 227, 228, 229, 230, 231, 232, 233, 234, 235, 236, 237, 238, 239, 240, 241, 242, 243, 244, 245, 246, 247, 248, 249, 250, 251, 252, 253, 254, 255, 256], \"colorscale\": [[0.0, \"rgb(12, 51, 131)\"], [1.0, \"rgb(217, 30, 30)\"]], \"showscale\": true, \"size\": 6}, \"mode\": \"markers\", \"showlegend\": false, \"type\": \"scatter\", \"x\": [58.18333333333333, 31.0, 97.4, 41.666666666666664, 70.26, 61.03333333333333, 36.0, 30.2, 27.73333333333333, 41.87, 51.125, 70.825, 69.8375, 61.1, 41.5, 31.6, 40.25, 70.85, 35.0, 57.56666666666666, 40.56, 55.525000000000006, 38.15, 41.38275862068965, 56.96, 49.13809523809523, 38.46, 66.92857142857143, 38.25, 50.576470588235296, 29.7, 68.84, 24.5, 60.8, 34.5, 26.3, 41.67999999999999, 34.31428571428571, 42.34761904761905, 33.2, 51.28333333333333, 75.4, 24.2, 93.1, 30.525, 41.971428571428575, 49.84375, 63.699999999999996, 36.26, 38.4, 25.8, 34.025, 31.72, 53.0, 52.55, 99.03333333333335, 74.21428571428571, 36.599999999999994, 55.64, 41.666666666666664, 55.949999999999996, 29.0, 51.599999999999994, 36.8, 46.724137931034484, 53.44210526315789, 39.1, 68.34285714285714, 42.45, 52.422222222222224, 66.2, 28.4, 28.1, 64.52000000000001, 30.1, 52.4, 44.16, 46.71363636363637, 34.1, 48.0, 74.4, 65.16666666666667, 93.0, 41.2, 42.05, 52.638461538461534, 36.0, 73.73846153846155, 50.13333333333333, 36.7, 28.7, 36.1, 35.760000000000005, 64.85, 40.2, 88.45, 77.69999999999999, 81.43333333333334, 35.07142857142858, 56.63000000000001, 45.416666666666664, 66.05714285714285, 60.2, 52.96, 40.808333333333344, 47.43333333333334, 54.25789473684211, 40.2, 76.28333333333333, 44.55, 52.21666666666666, 68.39, 30.6, 29.0, 63.980000000000004, 30.3, 37.275, 43.17272727272728, 49.29090909090908, 35.0, 48.0, 78.5, 45.199999999999996, 98.3, 38.06666666666667, 42.226666666666674, 61.154545454545456, 74.38461538461537, 51.42, 38.150000000000006, 28.3, 37.05, 38.52, 72.2, 66.80000000000001, 82.15, 93.5, 82.89999999999999, 40.73333333333333, 57.75555555555555, 54.050000000000004, 65.95, 62.2, 51.760000000000005, 38.71632653061225, 47.29767441860465, 52.245000000000005, 39.879999999999995, 71.02857142857142, 42.3, 50.305555555555564, 28.1, 72.25454545454545, 36.5, 29.4, 63.85999999999999, 46.20000000000001, 42.400000000000006, 52.640740740740746, 36.0, 46.31666666666666, 64.0, 46.225, 85.15, 36.86666666666667, 41.42941176470589, 58.34166666666667, 33.6, 28.6, 74.96153846153847, 51.06, 38.650000000000006, 28.5, 39.2, 36.36, 55.95, 76.7, 92.5, 81.34444444444445, 42.449999999999996, 57.111111111111114, 60.56249999999999, 70.06666666666666, 56.5, 48.98333333333334, 38.117777777777775, 48.37032967032967, 28.6, 48.80645161290323, 47.771428571428565, 28.0, 73.52857142857144, 46.054545454545455, 47.268, 35.9, 69.04999999999998, 35.8, 30.0, 30.966666666666672, 45.050000000000004, 30.0, 38.15, 45.62222222222222, 33.75416666666667, 68.37714285714286, 42.68333333333334, 47.21666666666667, 32.260000000000005, 28.0, 40.40588235294119, 40.0, 62.65714285714285, 31.916666666666668, 40.15294117647059, 47.39487179487178, 30.1, 28.0, 28.3, 41.0, 38.1, 34.9, 31.28, 69.75, 29.2, 73.02307692307693, 43.17142857142857, 29.2, 40.775, 37.6, 31.3, 32.916666666666664, 40.1, 55.2, 37.2, 28.766666666666666, 47.615384615384606, 70.56666666666668, 45.6, 74.85, 30.6, 35.5, 68.63333333333333, 60.99583333333336, 35.56, 55.23636363636364, 67.02222222222221, 53.11666666666665, 45.34285714285715, 59.33636363636364, 28.0, 28.4, 44.7, 31.7, 34.31447368421054, 44.50220588235294, 34.6], \"xaxis\": \"x2\", \"y\": [2011, 2011, 2011, 2011, 2011, 2011, 2011, 2011, 2011, 2011, 2011, 2011, 2011, 2011, 2011, 2011, 2011, 2011, 2011, 2011, 2011, 2011, 2011, 2011, 2011, 2012, 2012, 2012, 2012, 2012, 2012, 2012, 2012, 2012, 2012, 2012, 2012, 2012, 2012, 2012, 2012, 2012, 2012, 2012, 2012, 2012, 2012, 2012, 2012, 2012, 2012, 2012, 2012, 2012, 2012, 2012, 2012, 2012, 2012, 2012, 2012, 2012, 2012, 2012, 2012, 2013, 2013, 2013, 2013, 2013, 2013, 2013, 2013, 2013, 2013, 2013, 2013, 2013, 2013, 2013, 2013, 2013, 2013, 2013, 2013, 2013, 2013, 2013, 2013, 2013, 2013, 2013, 2013, 2013, 2013, 2013, 2013, 2013, 2013, 2013, 2013, 2013, 2013, 2013, 2013, 2013, 2014, 2014, 2014, 2014, 2014, 2014, 2014, 2014, 2014, 2014, 2014, 2014, 2014, 2014, 2014, 2014, 2014, 2014, 2014, 2014, 2014, 2014, 2014, 2014, 2014, 2014, 2014, 2014, 2014, 2014, 2014, 2014, 2014, 2014, 2014, 2014, 2014, 2014, 2014, 2014, 2015, 2015, 2015, 2015, 2015, 2015, 2015, 2015, 2015, 2015, 2015, 2015, 2015, 2015, 2015, 2015, 2015, 2015, 2015, 2015, 2015, 2015, 2015, 2015, 2015, 2015, 2015, 2015, 2015, 2015, 2015, 2015, 2015, 2015, 2015, 2015, 2015, 2015, 2015, 2015, 2015, 2016, 2016, 2016, 2016, 2016, 2016, 2016, 2016, 2016, 2016, 2016, 2016, 2016, 2016, 2016, 2016, 2016, 2016, 2016, 2016, 2016, 2016, 2016, 2016, 2016, 2016, 2016, 2016, 2016, 2016, 2016, 2016, 2016, 2016, 2016, 2016, 2016, 2016, 2016, 2016, 2016, 2016, 2016, 2016, 2016, 2016, 2016, 2016, 2016, 2016, 2016, 2016, 2016, 2016, 2016, 2016, 2016, 2016, 2016, 2016, 2016, 2016, 2016, 2016, 2016, 2016, 2016, 2016, 2016], \"yaxis\": \"y2\"}, {\"marker\": {\"color\": [1, 2, 3, 4, 5, 6, 7, 8, 9, 10, 11, 12, 13, 14, 15, 16, 17, 18, 19, 20, 21, 22, 23, 24, 25, 26, 27, 28, 29, 30, 31, 32, 33, 34, 35, 36, 37, 38, 39, 40, 41, 42, 43, 44, 45, 46, 47, 48, 49, 50, 51, 52, 53, 54, 55, 56, 57, 58, 59, 60, 61, 62, 63, 64, 65, 66, 67, 68, 69, 70, 71, 72, 73, 74, 75, 76, 77, 78, 79, 80, 81, 82, 83, 84, 85, 86, 87, 88, 89, 90, 91, 92, 93, 94, 95, 96, 97, 98, 99, 100, 101, 102, 103, 104, 105, 106, 107, 108, 109, 110, 111, 112, 113, 114, 115, 116, 117, 118, 119, 120, 121, 122, 123, 124, 125, 126, 127, 128, 129, 130, 131, 132, 133, 134, 135, 136, 137, 138, 139, 140, 141, 142, 143, 144, 145, 146, 147, 148, 149, 150, 151, 152, 153, 154, 155, 156, 157, 158, 159, 160, 161, 162, 163, 164, 165, 166, 167, 168, 169, 170, 171, 172, 173, 174, 175, 176, 177, 178, 179, 180, 181, 182, 183, 184, 185, 186, 187, 188, 189, 190, 191, 192, 193, 194, 195, 196, 197, 198, 199, 200, 201, 202, 203, 204, 205, 206, 207, 208, 209, 210, 211, 212, 213, 214, 215, 216, 217, 218, 219, 220, 221, 222, 223, 224, 225, 226, 227, 228, 229, 230, 231, 232, 233, 234, 235, 236, 237, 238, 239, 240, 241, 242, 243, 244, 245, 246, 247, 248, 249, 250, 251, 252, 253, 254, 255, 256], \"colorscale\": [[0.0, \"rgb(12, 51, 131)\"], [1.0, \"rgb(217, 30, 30)\"]], \"showscale\": false, \"size\": 6}, \"mode\": \"markers\", \"showlegend\": false, \"type\": \"scatter\", \"x\": [82.85000000000001, 81.35, 27.15, 72.26666666666667, 44.14, 47.73333333333333, 19.3, 24.2, 37.733333333333334, 51.510000000000005, 85.875, 20.85, 43.949999999999996, 94.3, 66.6, 84.2, 97.05, 35.550000000000004, 33.2, 66.3, 91.8, 35.625, 37.45, 74.60344827586206, 41.00666666666667, 77.80952380952381, 76.03999999999999, 63.671428571428564, 21.0, 62.405882352941184, 45.5, 25.880000000000003, 51.4, 71.66, 31.6, 42.0, 41.800000000000004, 65.85714285714286, 55.42857142857144, 42.6, 69.38333333333334, 56.9, 14.3, 12.7, 44.75, 33.949999999999996, 21.156250000000004, 60.10833333333334, 86.8, 64.65, 39.5, 48.625, 79.4, 45.7, 91.4, 63.333333333333336, 25.042857142857144, 39.35, 59.169999999999995, 90.08333333333333, 17.9375, 45.0, 31.775000000000002, 76.92499999999998, 35.02988505747127, 75.78421052631579, 74.46000000000001, 60.41428571428571, 22.7, 60.1888888888889, 34.56666666666667, 53.0, 50.3, 70.28, 42.4, 44.9, 63.84000000000001, 53.3909090909091, 44.4, 68.96666666666665, 59.9, 17.2, 16.7, 48.56666666666666, 36.971428571428575, 26.015384615384615, 33.2, 60.93846153846154, 84.18333333333332, 62.325, 40.75, 45.333333333333336, 74.2, 34.55, 71.0, 91.4, 61.05, 29.750000000000004, 40.35714285714285, 58.410000000000004, 88.0, 23.628571428571433, 23.8, 36.06, 76.48958333333333, 39.333333333333336, 79.13684210526317, 73.38333333333334, 59.01666666666667, 21.95, 62.68888888888888, 35.43, 55.7, 53.2, 71.56, 43.7, 47.300000000000004, 63.709090909090925, 53.88636363636365, 47.1, 68.7, 59.9, 20.733333333333334, 20.7, 51.96666666666666, 39.89333333333333, 27.927272727272733, 63.600000000000016, 85.22, 61.74999999999999, 42.8, 45.4, 74.48, 55.7, 73.25, 92.65, 64.03333333333335, 34.94285714285714, 40.48888888888889, 60.21111111111111, 89.4625, 25.162499999999998, 24.4, 43.64, 77.11836734693878, 42.52674418604651, 78.74499999999999, 79.64, 62.15714285714286, 23.0, 65.8888888888889, 48.7, 35.77272727272728, 54.6, 53.9, 70.14, 50.699999999999996, 66.34545454545456, 54.777777777777786, 47.0, 71.2, 59.1, 20.875, 19.7, 53.333333333333336, 42.670588235294126, 31.733333333333338, 73.3, 45.1, 65.54615384615386, 84.3, 60.075, 41.6, 48.25, 77.67999999999999, 52.099999999999994, 93.7, 63.6, 36.36666666666667, 49.349999999999994, 59.400000000000006, 90.0625, 26.766666666666666, 22.5, 44.85, 79.21111111111112, 44.856043956043955, 28.1, 78.17096774193547, 77.71428571428571, 48.2, 68.64285714285714, 21.2, 66.52, 45.559999999999995, 23.82777777777778, 46.85, 74.7, 36.266666666666666, 79.41666666666667, 32.35, 42.0, 53.599999999999994, 61.166666666666664, 53.534285714285716, 36.93333333333333, 82.78333333333335, 50.559999999999995, 61.0, 15.235294117647056, 37.2, 12.57142857142857, 50.333333333333336, 37.16470588235293, 22.66153846153846, 57.95, 45.5, 31.5, 40.8, 99.8, 98.4, 38.1, 47.75, 42.7, 70.39999999999999, 89.04285714285716, 26.1, 66.05, 71.5, 31.3, 26.016666666666666, 45.12857142857143, 99.9, 79.80000000000001, 34.53333333333333, 31.053846153846152, 84.33333333333333, 30.5, 95.4, 38.75, 34.05, 55.28333333333334, 30.600000000000005, 40.908, 60.80909090909092, 93.11111111111111, 22.908333333333335, 32.67142857142857, 28.872727272727275, 58.0, 38.3, 63.4, 95.3, 78.49605263157896, 42.717647058823545, 92.5], \"xaxis\": \"x3\", \"y\": [2011, 2011, 2011, 2011, 2011, 2011, 2011, 2011, 2011, 2011, 2011, 2011, 2011, 2011, 2011, 2011, 2011, 2011, 2011, 2011, 2011, 2011, 2011, 2011, 2011, 2012, 2012, 2012, 2012, 2012, 2012, 2012, 2012, 2012, 2012, 2012, 2012, 2012, 2012, 2012, 2012, 2012, 2012, 2012, 2012, 2012, 2012, 2012, 2012, 2012, 2012, 2012, 2012, 2012, 2012, 2012, 2012, 2012, 2012, 2012, 2012, 2012, 2012, 2012, 2012, 2013, 2013, 2013, 2013, 2013, 2013, 2013, 2013, 2013, 2013, 2013, 2013, 2013, 2013, 2013, 2013, 2013, 2013, 2013, 2013, 2013, 2013, 2013, 2013, 2013, 2013, 2013, 2013, 2013, 2013, 2013, 2013, 2013, 2013, 2013, 2013, 2013, 2013, 2013, 2013, 2013, 2014, 2014, 2014, 2014, 2014, 2014, 2014, 2014, 2014, 2014, 2014, 2014, 2014, 2014, 2014, 2014, 2014, 2014, 2014, 2014, 2014, 2014, 2014, 2014, 2014, 2014, 2014, 2014, 2014, 2014, 2014, 2014, 2014, 2014, 2014, 2014, 2014, 2014, 2014, 2014, 2015, 2015, 2015, 2015, 2015, 2015, 2015, 2015, 2015, 2015, 2015, 2015, 2015, 2015, 2015, 2015, 2015, 2015, 2015, 2015, 2015, 2015, 2015, 2015, 2015, 2015, 2015, 2015, 2015, 2015, 2015, 2015, 2015, 2015, 2015, 2015, 2015, 2015, 2015, 2015, 2015, 2016, 2016, 2016, 2016, 2016, 2016, 2016, 2016, 2016, 2016, 2016, 2016, 2016, 2016, 2016, 2016, 2016, 2016, 2016, 2016, 2016, 2016, 2016, 2016, 2016, 2016, 2016, 2016, 2016, 2016, 2016, 2016, 2016, 2016, 2016, 2016, 2016, 2016, 2016, 2016, 2016, 2016, 2016, 2016, 2016, 2016, 2016, 2016, 2016, 2016, 2016, 2016, 2016, 2016, 2016, 2016, 2016, 2016, 2016, 2016, 2016, 2016, 2016, 2016, 2016, 2016, 2016, 2016, 2016], \"yaxis\": \"y3\"}, {\"marker\": {\"color\": [1, 2, 3, 4, 5, 6, 7, 8, 9, 10, 11, 12, 13, 14, 15, 16, 17, 18, 19, 20, 21, 22, 23, 24, 25, 26, 27, 28, 29, 30, 31, 32, 33, 34, 35, 36, 37, 38, 39, 40, 41, 42, 43, 44, 45, 46, 47, 48, 49, 50, 51, 52, 53, 54, 55, 56, 57, 58, 59, 60, 61, 62, 63, 64, 65, 66, 67, 68, 69, 70, 71, 72, 73, 74, 75, 76, 77, 78, 79, 80, 81, 82, 83, 84, 85, 86, 87, 88, 89, 90, 91, 92, 93, 94, 95, 96, 97, 98, 99, 100, 101, 102, 103, 104, 105, 106, 107, 108, 109, 110, 111, 112, 113, 114, 115, 116, 117, 118, 119, 120, 121, 122, 123, 124, 125, 126, 127, 128, 129, 130, 131, 132, 133, 134, 135, 136, 137, 138, 139, 140, 141, 142, 143, 144, 145, 146, 147, 148, 149, 150, 151, 152, 153, 154, 155, 156, 157, 158, 159, 160, 161, 162, 163, 164, 165, 166, 167, 168, 169, 170, 171, 172, 173, 174, 175, 176, 177, 178, 179, 180, 181, 182, 183, 184, 185, 186, 187, 188, 189, 190, 191, 192, 193, 194, 195, 196, 197, 198, 199, 200, 201, 202, 203, 204, 205, 206, 207, 208, 209, 210, 211, 212, 213, 214, 215, 216, 217, 218, 219, 220, 221, 222, 223, 224, 225, 226, 227, 228, 229, 230, 231, 232, 233, 234, 235, 236, 237, 238, 239, 240, 241, 242, 243, 244, 245, 246, 247, 248, 249, 250, 251, 252, 253, 254, 255, 256], \"colorscale\": [[0.0, \"rgb(12, 51, 131)\"], [1.0, \"rgb(217, 30, 30)\"]], \"showscale\": false, \"size\": 6}, \"mode\": \"markers\", \"showlegend\": false, \"type\": \"scatter\", \"x\": [2011, 2011, 2011, 2011, 2011, 2011, 2011, 2011, 2011, 2011, 2011, 2011, 2011, 2011, 2011, 2011, 2011, 2011, 2011, 2011, 2011, 2011, 2011, 2011, 2011, 2012, 2012, 2012, 2012, 2012, 2012, 2012, 2012, 2012, 2012, 2012, 2012, 2012, 2012, 2012, 2012, 2012, 2012, 2012, 2012, 2012, 2012, 2012, 2012, 2012, 2012, 2012, 2012, 2012, 2012, 2012, 2012, 2012, 2012, 2012, 2012, 2012, 2012, 2012, 2012, 2013, 2013, 2013, 2013, 2013, 2013, 2013, 2013, 2013, 2013, 2013, 2013, 2013, 2013, 2013, 2013, 2013, 2013, 2013, 2013, 2013, 2013, 2013, 2013, 2013, 2013, 2013, 2013, 2013, 2013, 2013, 2013, 2013, 2013, 2013, 2013, 2013, 2013, 2013, 2013, 2013, 2014, 2014, 2014, 2014, 2014, 2014, 2014, 2014, 2014, 2014, 2014, 2014, 2014, 2014, 2014, 2014, 2014, 2014, 2014, 2014, 2014, 2014, 2014, 2014, 2014, 2014, 2014, 2014, 2014, 2014, 2014, 2014, 2014, 2014, 2014, 2014, 2014, 2014, 2014, 2014, 2015, 2015, 2015, 2015, 2015, 2015, 2015, 2015, 2015, 2015, 2015, 2015, 2015, 2015, 2015, 2015, 2015, 2015, 2015, 2015, 2015, 2015, 2015, 2015, 2015, 2015, 2015, 2015, 2015, 2015, 2015, 2015, 2015, 2015, 2015, 2015, 2015, 2015, 2015, 2015, 2015, 2016, 2016, 2016, 2016, 2016, 2016, 2016, 2016, 2016, 2016, 2016, 2016, 2016, 2016, 2016, 2016, 2016, 2016, 2016, 2016, 2016, 2016, 2016, 2016, 2016, 2016, 2016, 2016, 2016, 2016, 2016, 2016, 2016, 2016, 2016, 2016, 2016, 2016, 2016, 2016, 2016, 2016, 2016, 2016, 2016, 2016, 2016, 2016, 2016, 2016, 2016, 2016, 2016, 2016, 2016, 2016, 2016, 2016, 2016, 2016, 2016, 2016, 2016, 2016, 2016, 2016, 2016, 2016, 2016], \"xaxis\": \"x4\", \"y\": [58.18333333333333, 31.0, 97.4, 41.666666666666664, 70.26, 61.03333333333333, 36.0, 30.2, 27.73333333333333, 41.87, 51.125, 70.825, 69.8375, 61.1, 41.5, 31.6, 40.25, 70.85, 35.0, 57.56666666666666, 40.56, 55.525000000000006, 38.15, 41.38275862068965, 56.96, 49.13809523809523, 38.46, 66.92857142857143, 38.25, 50.576470588235296, 29.7, 68.84, 24.5, 60.8, 34.5, 26.3, 41.67999999999999, 34.31428571428571, 42.34761904761905, 33.2, 51.28333333333333, 75.4, 24.2, 93.1, 30.525, 41.971428571428575, 49.84375, 63.699999999999996, 36.26, 38.4, 25.8, 34.025, 31.72, 53.0, 52.55, 99.03333333333335, 74.21428571428571, 36.599999999999994, 55.64, 41.666666666666664, 55.949999999999996, 29.0, 51.599999999999994, 36.8, 46.724137931034484, 53.44210526315789, 39.1, 68.34285714285714, 42.45, 52.422222222222224, 66.2, 28.4, 28.1, 64.52000000000001, 30.1, 52.4, 44.16, 46.71363636363637, 34.1, 48.0, 74.4, 65.16666666666667, 93.0, 41.2, 42.05, 52.638461538461534, 36.0, 73.73846153846155, 50.13333333333333, 36.7, 28.7, 36.1, 35.760000000000005, 64.85, 40.2, 88.45, 77.69999999999999, 81.43333333333334, 35.07142857142858, 56.63000000000001, 45.416666666666664, 66.05714285714285, 60.2, 52.96, 40.808333333333344, 47.43333333333334, 54.25789473684211, 40.2, 76.28333333333333, 44.55, 52.21666666666666, 68.39, 30.6, 29.0, 63.980000000000004, 30.3, 37.275, 43.17272727272728, 49.29090909090908, 35.0, 48.0, 78.5, 45.199999999999996, 98.3, 38.06666666666667, 42.226666666666674, 61.154545454545456, 74.38461538461537, 51.42, 38.150000000000006, 28.3, 37.05, 38.52, 72.2, 66.80000000000001, 82.15, 93.5, 82.89999999999999, 40.73333333333333, 57.75555555555555, 54.050000000000004, 65.95, 62.2, 51.760000000000005, 38.71632653061225, 47.29767441860465, 52.245000000000005, 39.879999999999995, 71.02857142857142, 42.3, 50.305555555555564, 28.1, 72.25454545454545, 36.5, 29.4, 63.85999999999999, 46.20000000000001, 42.400000000000006, 52.640740740740746, 36.0, 46.31666666666666, 64.0, 46.225, 85.15, 36.86666666666667, 41.42941176470589, 58.34166666666667, 33.6, 28.6, 74.96153846153847, 51.06, 38.650000000000006, 28.5, 39.2, 36.36, 55.95, 76.7, 92.5, 81.34444444444445, 42.449999999999996, 57.111111111111114, 60.56249999999999, 70.06666666666666, 56.5, 48.98333333333334, 38.117777777777775, 48.37032967032967, 28.6, 48.80645161290323, 47.771428571428565, 28.0, 73.52857142857144, 46.054545454545455, 47.268, 35.9, 69.04999999999998, 35.8, 30.0, 30.966666666666672, 45.050000000000004, 30.0, 38.15, 45.62222222222222, 33.75416666666667, 68.37714285714286, 42.68333333333334, 47.21666666666667, 32.260000000000005, 28.0, 40.40588235294119, 40.0, 62.65714285714285, 31.916666666666668, 40.15294117647059, 47.39487179487178, 30.1, 28.0, 28.3, 41.0, 38.1, 34.9, 31.28, 69.75, 29.2, 73.02307692307693, 43.17142857142857, 29.2, 40.775, 37.6, 31.3, 32.916666666666664, 40.1, 55.2, 37.2, 28.766666666666666, 47.615384615384606, 70.56666666666668, 45.6, 74.85, 30.6, 35.5, 68.63333333333333, 60.99583333333336, 35.56, 55.23636363636364, 67.02222222222221, 53.11666666666665, 45.34285714285715, 59.33636363636364, 28.0, 28.4, 44.7, 31.7, 34.31447368421054, 44.50220588235294, 34.6], \"yaxis\": \"y4\"}, {\"marker\": {\"color\": \"rgb(12, 51, 131)\"}, \"showlegend\": false, \"type\": \"box\", \"xaxis\": \"x5\", \"y\": [58.18333333333333, 31.0, 97.4, 41.666666666666664, 70.26, 61.03333333333333, 36.0, 30.2, 27.73333333333333, 41.87, 51.125, 70.825, 69.8375, 61.1, 41.5, 31.6, 40.25, 70.85, 35.0, 57.56666666666666, 40.56, 55.525000000000006, 38.15, 41.38275862068965, 56.96, 49.13809523809523, 38.46, 66.92857142857143, 38.25, 50.576470588235296, 29.7, 68.84, 24.5, 60.8, 34.5, 26.3, 41.67999999999999, 34.31428571428571, 42.34761904761905, 33.2, 51.28333333333333, 75.4, 24.2, 93.1, 30.525, 41.971428571428575, 49.84375, 63.699999999999996, 36.26, 38.4, 25.8, 34.025, 31.72, 53.0, 52.55, 99.03333333333335, 74.21428571428571, 36.599999999999994, 55.64, 41.666666666666664, 55.949999999999996, 29.0, 51.599999999999994, 36.8, 46.724137931034484, 53.44210526315789, 39.1, 68.34285714285714, 42.45, 52.422222222222224, 66.2, 28.4, 28.1, 64.52000000000001, 30.1, 52.4, 44.16, 46.71363636363637, 34.1, 48.0, 74.4, 65.16666666666667, 93.0, 41.2, 42.05, 52.638461538461534, 36.0, 73.73846153846155, 50.13333333333333, 36.7, 28.7, 36.1, 35.760000000000005, 64.85, 40.2, 88.45, 77.69999999999999, 81.43333333333334, 35.07142857142858, 56.63000000000001, 45.416666666666664, 66.05714285714285, 60.2, 52.96, 40.808333333333344, 47.43333333333334, 54.25789473684211, 40.2, 76.28333333333333, 44.55, 52.21666666666666, 68.39, 30.6, 29.0, 63.980000000000004, 30.3, 37.275, 43.17272727272728, 49.29090909090908, 35.0, 48.0, 78.5, 45.199999999999996, 98.3, 38.06666666666667, 42.226666666666674, 61.154545454545456, 74.38461538461537, 51.42, 38.150000000000006, 28.3, 37.05, 38.52, 72.2, 66.80000000000001, 82.15, 93.5, 82.89999999999999, 40.73333333333333, 57.75555555555555, 54.050000000000004, 65.95, 62.2, 51.760000000000005, 38.71632653061225, 47.29767441860465, 52.245000000000005, 39.879999999999995, 71.02857142857142, 42.3, 50.305555555555564, 28.1, 72.25454545454545, 36.5, 29.4, 63.85999999999999, 46.20000000000001, 42.400000000000006, 52.640740740740746, 36.0, 46.31666666666666, 64.0, 46.225, 85.15, 36.86666666666667, 41.42941176470589, 58.34166666666667, 33.6, 28.6, 74.96153846153847, 51.06, 38.650000000000006, 28.5, 39.2, 36.36, 55.95, 76.7, 92.5, 81.34444444444445, 42.449999999999996, 57.111111111111114, 60.56249999999999, 70.06666666666666, 56.5, 48.98333333333334, 38.117777777777775, 48.37032967032967, 28.6, 48.80645161290323, 47.771428571428565, 28.0, 73.52857142857144, 46.054545454545455, 47.268, 35.9, 69.04999999999998, 35.8, 30.0, 30.966666666666672, 45.050000000000004, 30.0, 38.15, 45.62222222222222, 33.75416666666667, 68.37714285714286, 42.68333333333334, 47.21666666666667, 32.260000000000005, 28.0, 40.40588235294119, 40.0, 62.65714285714285, 31.916666666666668, 40.15294117647059, 47.39487179487178, 30.1, 28.0, 28.3, 41.0, 38.1, 34.9, 31.28, 69.75, 29.2, 73.02307692307693, 43.17142857142857, 29.2, 40.775, 37.6, 31.3, 32.916666666666664, 40.1, 55.2, 37.2, 28.766666666666666, 47.615384615384606, 70.56666666666668, 45.6, 74.85, 30.6, 35.5, 68.63333333333333, 60.99583333333336, 35.56, 55.23636363636364, 67.02222222222221, 53.11666666666665, 45.34285714285715, 59.33636363636364, 28.0, 28.4, 44.7, 31.7, 34.31447368421054, 44.50220588235294, 34.6], \"yaxis\": \"y5\"}, {\"marker\": {\"color\": [1, 2, 3, 4, 5, 6, 7, 8, 9, 10, 11, 12, 13, 14, 15, 16, 17, 18, 19, 20, 21, 22, 23, 24, 25, 26, 27, 28, 29, 30, 31, 32, 33, 34, 35, 36, 37, 38, 39, 40, 41, 42, 43, 44, 45, 46, 47, 48, 49, 50, 51, 52, 53, 54, 55, 56, 57, 58, 59, 60, 61, 62, 63, 64, 65, 66, 67, 68, 69, 70, 71, 72, 73, 74, 75, 76, 77, 78, 79, 80, 81, 82, 83, 84, 85, 86, 87, 88, 89, 90, 91, 92, 93, 94, 95, 96, 97, 98, 99, 100, 101, 102, 103, 104, 105, 106, 107, 108, 109, 110, 111, 112, 113, 114, 115, 116, 117, 118, 119, 120, 121, 122, 123, 124, 125, 126, 127, 128, 129, 130, 131, 132, 133, 134, 135, 136, 137, 138, 139, 140, 141, 142, 143, 144, 145, 146, 147, 148, 149, 150, 151, 152, 153, 154, 155, 156, 157, 158, 159, 160, 161, 162, 163, 164, 165, 166, 167, 168, 169, 170, 171, 172, 173, 174, 175, 176, 177, 178, 179, 180, 181, 182, 183, 184, 185, 186, 187, 188, 189, 190, 191, 192, 193, 194, 195, 196, 197, 198, 199, 200, 201, 202, 203, 204, 205, 206, 207, 208, 209, 210, 211, 212, 213, 214, 215, 216, 217, 218, 219, 220, 221, 222, 223, 224, 225, 226, 227, 228, 229, 230, 231, 232, 233, 234, 235, 236, 237, 238, 239, 240, 241, 242, 243, 244, 245, 246, 247, 248, 249, 250, 251, 252, 253, 254, 255, 256], \"colorscale\": [[0.0, \"rgb(12, 51, 131)\"], [1.0, \"rgb(217, 30, 30)\"]], \"showscale\": false, \"size\": 6}, \"mode\": \"markers\", \"showlegend\": false, \"type\": \"scatter\", \"x\": [82.85000000000001, 81.35, 27.15, 72.26666666666667, 44.14, 47.73333333333333, 19.3, 24.2, 37.733333333333334, 51.510000000000005, 85.875, 20.85, 43.949999999999996, 94.3, 66.6, 84.2, 97.05, 35.550000000000004, 33.2, 66.3, 91.8, 35.625, 37.45, 74.60344827586206, 41.00666666666667, 77.80952380952381, 76.03999999999999, 63.671428571428564, 21.0, 62.405882352941184, 45.5, 25.880000000000003, 51.4, 71.66, 31.6, 42.0, 41.800000000000004, 65.85714285714286, 55.42857142857144, 42.6, 69.38333333333334, 56.9, 14.3, 12.7, 44.75, 33.949999999999996, 21.156250000000004, 60.10833333333334, 86.8, 64.65, 39.5, 48.625, 79.4, 45.7, 91.4, 63.333333333333336, 25.042857142857144, 39.35, 59.169999999999995, 90.08333333333333, 17.9375, 45.0, 31.775000000000002, 76.92499999999998, 35.02988505747127, 75.78421052631579, 74.46000000000001, 60.41428571428571, 22.7, 60.1888888888889, 34.56666666666667, 53.0, 50.3, 70.28, 42.4, 44.9, 63.84000000000001, 53.3909090909091, 44.4, 68.96666666666665, 59.9, 17.2, 16.7, 48.56666666666666, 36.971428571428575, 26.015384615384615, 33.2, 60.93846153846154, 84.18333333333332, 62.325, 40.75, 45.333333333333336, 74.2, 34.55, 71.0, 91.4, 61.05, 29.750000000000004, 40.35714285714285, 58.410000000000004, 88.0, 23.628571428571433, 23.8, 36.06, 76.48958333333333, 39.333333333333336, 79.13684210526317, 73.38333333333334, 59.01666666666667, 21.95, 62.68888888888888, 35.43, 55.7, 53.2, 71.56, 43.7, 47.300000000000004, 63.709090909090925, 53.88636363636365, 47.1, 68.7, 59.9, 20.733333333333334, 20.7, 51.96666666666666, 39.89333333333333, 27.927272727272733, 63.600000000000016, 85.22, 61.74999999999999, 42.8, 45.4, 74.48, 55.7, 73.25, 92.65, 64.03333333333335, 34.94285714285714, 40.48888888888889, 60.21111111111111, 89.4625, 25.162499999999998, 24.4, 43.64, 77.11836734693878, 42.52674418604651, 78.74499999999999, 79.64, 62.15714285714286, 23.0, 65.8888888888889, 48.7, 35.77272727272728, 54.6, 53.9, 70.14, 50.699999999999996, 66.34545454545456, 54.777777777777786, 47.0, 71.2, 59.1, 20.875, 19.7, 53.333333333333336, 42.670588235294126, 31.733333333333338, 73.3, 45.1, 65.54615384615386, 84.3, 60.075, 41.6, 48.25, 77.67999999999999, 52.099999999999994, 93.7, 63.6, 36.36666666666667, 49.349999999999994, 59.400000000000006, 90.0625, 26.766666666666666, 22.5, 44.85, 79.21111111111112, 44.856043956043955, 28.1, 78.17096774193547, 77.71428571428571, 48.2, 68.64285714285714, 21.2, 66.52, 45.559999999999995, 23.82777777777778, 46.85, 74.7, 36.266666666666666, 79.41666666666667, 32.35, 42.0, 53.599999999999994, 61.166666666666664, 53.534285714285716, 36.93333333333333, 82.78333333333335, 50.559999999999995, 61.0, 15.235294117647056, 37.2, 12.57142857142857, 50.333333333333336, 37.16470588235293, 22.66153846153846, 57.95, 45.5, 31.5, 40.8, 99.8, 98.4, 38.1, 47.75, 42.7, 70.39999999999999, 89.04285714285716, 26.1, 66.05, 71.5, 31.3, 26.016666666666666, 45.12857142857143, 99.9, 79.80000000000001, 34.53333333333333, 31.053846153846152, 84.33333333333333, 30.5, 95.4, 38.75, 34.05, 55.28333333333334, 30.600000000000005, 40.908, 60.80909090909092, 93.11111111111111, 22.908333333333335, 32.67142857142857, 28.872727272727275, 58.0, 38.3, 63.4, 95.3, 78.49605263157896, 42.717647058823545, 92.5], \"xaxis\": \"x6\", \"y\": [58.18333333333333, 31.0, 97.4, 41.666666666666664, 70.26, 61.03333333333333, 36.0, 30.2, 27.73333333333333, 41.87, 51.125, 70.825, 69.8375, 61.1, 41.5, 31.6, 40.25, 70.85, 35.0, 57.56666666666666, 40.56, 55.525000000000006, 38.15, 41.38275862068965, 56.96, 49.13809523809523, 38.46, 66.92857142857143, 38.25, 50.576470588235296, 29.7, 68.84, 24.5, 60.8, 34.5, 26.3, 41.67999999999999, 34.31428571428571, 42.34761904761905, 33.2, 51.28333333333333, 75.4, 24.2, 93.1, 30.525, 41.971428571428575, 49.84375, 63.699999999999996, 36.26, 38.4, 25.8, 34.025, 31.72, 53.0, 52.55, 99.03333333333335, 74.21428571428571, 36.599999999999994, 55.64, 41.666666666666664, 55.949999999999996, 29.0, 51.599999999999994, 36.8, 46.724137931034484, 53.44210526315789, 39.1, 68.34285714285714, 42.45, 52.422222222222224, 66.2, 28.4, 28.1, 64.52000000000001, 30.1, 52.4, 44.16, 46.71363636363637, 34.1, 48.0, 74.4, 65.16666666666667, 93.0, 41.2, 42.05, 52.638461538461534, 36.0, 73.73846153846155, 50.13333333333333, 36.7, 28.7, 36.1, 35.760000000000005, 64.85, 40.2, 88.45, 77.69999999999999, 81.43333333333334, 35.07142857142858, 56.63000000000001, 45.416666666666664, 66.05714285714285, 60.2, 52.96, 40.808333333333344, 47.43333333333334, 54.25789473684211, 40.2, 76.28333333333333, 44.55, 52.21666666666666, 68.39, 30.6, 29.0, 63.980000000000004, 30.3, 37.275, 43.17272727272728, 49.29090909090908, 35.0, 48.0, 78.5, 45.199999999999996, 98.3, 38.06666666666667, 42.226666666666674, 61.154545454545456, 74.38461538461537, 51.42, 38.150000000000006, 28.3, 37.05, 38.52, 72.2, 66.80000000000001, 82.15, 93.5, 82.89999999999999, 40.73333333333333, 57.75555555555555, 54.050000000000004, 65.95, 62.2, 51.760000000000005, 38.71632653061225, 47.29767441860465, 52.245000000000005, 39.879999999999995, 71.02857142857142, 42.3, 50.305555555555564, 28.1, 72.25454545454545, 36.5, 29.4, 63.85999999999999, 46.20000000000001, 42.400000000000006, 52.640740740740746, 36.0, 46.31666666666666, 64.0, 46.225, 85.15, 36.86666666666667, 41.42941176470589, 58.34166666666667, 33.6, 28.6, 74.96153846153847, 51.06, 38.650000000000006, 28.5, 39.2, 36.36, 55.95, 76.7, 92.5, 81.34444444444445, 42.449999999999996, 57.111111111111114, 60.56249999999999, 70.06666666666666, 56.5, 48.98333333333334, 38.117777777777775, 48.37032967032967, 28.6, 48.80645161290323, 47.771428571428565, 28.0, 73.52857142857144, 46.054545454545455, 47.268, 35.9, 69.04999999999998, 35.8, 30.0, 30.966666666666672, 45.050000000000004, 30.0, 38.15, 45.62222222222222, 33.75416666666667, 68.37714285714286, 42.68333333333334, 47.21666666666667, 32.260000000000005, 28.0, 40.40588235294119, 40.0, 62.65714285714285, 31.916666666666668, 40.15294117647059, 47.39487179487178, 30.1, 28.0, 28.3, 41.0, 38.1, 34.9, 31.28, 69.75, 29.2, 73.02307692307693, 43.17142857142857, 29.2, 40.775, 37.6, 31.3, 32.916666666666664, 40.1, 55.2, 37.2, 28.766666666666666, 47.615384615384606, 70.56666666666668, 45.6, 74.85, 30.6, 35.5, 68.63333333333333, 60.99583333333336, 35.56, 55.23636363636364, 67.02222222222221, 53.11666666666665, 45.34285714285715, 59.33636363636364, 28.0, 28.4, 44.7, 31.7, 34.31447368421054, 44.50220588235294, 34.6], \"yaxis\": \"y6\"}, {\"marker\": {\"color\": [1, 2, 3, 4, 5, 6, 7, 8, 9, 10, 11, 12, 13, 14, 15, 16, 17, 18, 19, 20, 21, 22, 23, 24, 25, 26, 27, 28, 29, 30, 31, 32, 33, 34, 35, 36, 37, 38, 39, 40, 41, 42, 43, 44, 45, 46, 47, 48, 49, 50, 51, 52, 53, 54, 55, 56, 57, 58, 59, 60, 61, 62, 63, 64, 65, 66, 67, 68, 69, 70, 71, 72, 73, 74, 75, 76, 77, 78, 79, 80, 81, 82, 83, 84, 85, 86, 87, 88, 89, 90, 91, 92, 93, 94, 95, 96, 97, 98, 99, 100, 101, 102, 103, 104, 105, 106, 107, 108, 109, 110, 111, 112, 113, 114, 115, 116, 117, 118, 119, 120, 121, 122, 123, 124, 125, 126, 127, 128, 129, 130, 131, 132, 133, 134, 135, 136, 137, 138, 139, 140, 141, 142, 143, 144, 145, 146, 147, 148, 149, 150, 151, 152, 153, 154, 155, 156, 157, 158, 159, 160, 161, 162, 163, 164, 165, 166, 167, 168, 169, 170, 171, 172, 173, 174, 175, 176, 177, 178, 179, 180, 181, 182, 183, 184, 185, 186, 187, 188, 189, 190, 191, 192, 193, 194, 195, 196, 197, 198, 199, 200, 201, 202, 203, 204, 205, 206, 207, 208, 209, 210, 211, 212, 213, 214, 215, 216, 217, 218, 219, 220, 221, 222, 223, 224, 225, 226, 227, 228, 229, 230, 231, 232, 233, 234, 235, 236, 237, 238, 239, 240, 241, 242, 243, 244, 245, 246, 247, 248, 249, 250, 251, 252, 253, 254, 255, 256], \"colorscale\": [[0.0, \"rgb(12, 51, 131)\"], [1.0, \"rgb(217, 30, 30)\"]], \"showscale\": false, \"size\": 6}, \"mode\": \"markers\", \"showlegend\": false, \"type\": \"scatter\", \"x\": [2011, 2011, 2011, 2011, 2011, 2011, 2011, 2011, 2011, 2011, 2011, 2011, 2011, 2011, 2011, 2011, 2011, 2011, 2011, 2011, 2011, 2011, 2011, 2011, 2011, 2012, 2012, 2012, 2012, 2012, 2012, 2012, 2012, 2012, 2012, 2012, 2012, 2012, 2012, 2012, 2012, 2012, 2012, 2012, 2012, 2012, 2012, 2012, 2012, 2012, 2012, 2012, 2012, 2012, 2012, 2012, 2012, 2012, 2012, 2012, 2012, 2012, 2012, 2012, 2012, 2013, 2013, 2013, 2013, 2013, 2013, 2013, 2013, 2013, 2013, 2013, 2013, 2013, 2013, 2013, 2013, 2013, 2013, 2013, 2013, 2013, 2013, 2013, 2013, 2013, 2013, 2013, 2013, 2013, 2013, 2013, 2013, 2013, 2013, 2013, 2013, 2013, 2013, 2013, 2013, 2013, 2014, 2014, 2014, 2014, 2014, 2014, 2014, 2014, 2014, 2014, 2014, 2014, 2014, 2014, 2014, 2014, 2014, 2014, 2014, 2014, 2014, 2014, 2014, 2014, 2014, 2014, 2014, 2014, 2014, 2014, 2014, 2014, 2014, 2014, 2014, 2014, 2014, 2014, 2014, 2014, 2015, 2015, 2015, 2015, 2015, 2015, 2015, 2015, 2015, 2015, 2015, 2015, 2015, 2015, 2015, 2015, 2015, 2015, 2015, 2015, 2015, 2015, 2015, 2015, 2015, 2015, 2015, 2015, 2015, 2015, 2015, 2015, 2015, 2015, 2015, 2015, 2015, 2015, 2015, 2015, 2015, 2016, 2016, 2016, 2016, 2016, 2016, 2016, 2016, 2016, 2016, 2016, 2016, 2016, 2016, 2016, 2016, 2016, 2016, 2016, 2016, 2016, 2016, 2016, 2016, 2016, 2016, 2016, 2016, 2016, 2016, 2016, 2016, 2016, 2016, 2016, 2016, 2016, 2016, 2016, 2016, 2016, 2016, 2016, 2016, 2016, 2016, 2016, 2016, 2016, 2016, 2016, 2016, 2016, 2016, 2016, 2016, 2016, 2016, 2016, 2016, 2016, 2016, 2016, 2016, 2016, 2016, 2016, 2016, 2016], \"xaxis\": \"x7\", \"y\": [82.85000000000001, 81.35, 27.15, 72.26666666666667, 44.14, 47.73333333333333, 19.3, 24.2, 37.733333333333334, 51.510000000000005, 85.875, 20.85, 43.949999999999996, 94.3, 66.6, 84.2, 97.05, 35.550000000000004, 33.2, 66.3, 91.8, 35.625, 37.45, 74.60344827586206, 41.00666666666667, 77.80952380952381, 76.03999999999999, 63.671428571428564, 21.0, 62.405882352941184, 45.5, 25.880000000000003, 51.4, 71.66, 31.6, 42.0, 41.800000000000004, 65.85714285714286, 55.42857142857144, 42.6, 69.38333333333334, 56.9, 14.3, 12.7, 44.75, 33.949999999999996, 21.156250000000004, 60.10833333333334, 86.8, 64.65, 39.5, 48.625, 79.4, 45.7, 91.4, 63.333333333333336, 25.042857142857144, 39.35, 59.169999999999995, 90.08333333333333, 17.9375, 45.0, 31.775000000000002, 76.92499999999998, 35.02988505747127, 75.78421052631579, 74.46000000000001, 60.41428571428571, 22.7, 60.1888888888889, 34.56666666666667, 53.0, 50.3, 70.28, 42.4, 44.9, 63.84000000000001, 53.3909090909091, 44.4, 68.96666666666665, 59.9, 17.2, 16.7, 48.56666666666666, 36.971428571428575, 26.015384615384615, 33.2, 60.93846153846154, 84.18333333333332, 62.325, 40.75, 45.333333333333336, 74.2, 34.55, 71.0, 91.4, 61.05, 29.750000000000004, 40.35714285714285, 58.410000000000004, 88.0, 23.628571428571433, 23.8, 36.06, 76.48958333333333, 39.333333333333336, 79.13684210526317, 73.38333333333334, 59.01666666666667, 21.95, 62.68888888888888, 35.43, 55.7, 53.2, 71.56, 43.7, 47.300000000000004, 63.709090909090925, 53.88636363636365, 47.1, 68.7, 59.9, 20.733333333333334, 20.7, 51.96666666666666, 39.89333333333333, 27.927272727272733, 63.600000000000016, 85.22, 61.74999999999999, 42.8, 45.4, 74.48, 55.7, 73.25, 92.65, 64.03333333333335, 34.94285714285714, 40.48888888888889, 60.21111111111111, 89.4625, 25.162499999999998, 24.4, 43.64, 77.11836734693878, 42.52674418604651, 78.74499999999999, 79.64, 62.15714285714286, 23.0, 65.8888888888889, 48.7, 35.77272727272728, 54.6, 53.9, 70.14, 50.699999999999996, 66.34545454545456, 54.777777777777786, 47.0, 71.2, 59.1, 20.875, 19.7, 53.333333333333336, 42.670588235294126, 31.733333333333338, 73.3, 45.1, 65.54615384615386, 84.3, 60.075, 41.6, 48.25, 77.67999999999999, 52.099999999999994, 93.7, 63.6, 36.36666666666667, 49.349999999999994, 59.400000000000006, 90.0625, 26.766666666666666, 22.5, 44.85, 79.21111111111112, 44.856043956043955, 28.1, 78.17096774193547, 77.71428571428571, 48.2, 68.64285714285714, 21.2, 66.52, 45.559999999999995, 23.82777777777778, 46.85, 74.7, 36.266666666666666, 79.41666666666667, 32.35, 42.0, 53.599999999999994, 61.166666666666664, 53.534285714285716, 36.93333333333333, 82.78333333333335, 50.559999999999995, 61.0, 15.235294117647056, 37.2, 12.57142857142857, 50.333333333333336, 37.16470588235293, 22.66153846153846, 57.95, 45.5, 31.5, 40.8, 99.8, 98.4, 38.1, 47.75, 42.7, 70.39999999999999, 89.04285714285716, 26.1, 66.05, 71.5, 31.3, 26.016666666666666, 45.12857142857143, 99.9, 79.80000000000001, 34.53333333333333, 31.053846153846152, 84.33333333333333, 30.5, 95.4, 38.75, 34.05, 55.28333333333334, 30.600000000000005, 40.908, 60.80909090909092, 93.11111111111111, 22.908333333333335, 32.67142857142857, 28.872727272727275, 58.0, 38.3, 63.4, 95.3, 78.49605263157896, 42.717647058823545, 92.5], \"yaxis\": \"y7\"}, {\"marker\": {\"color\": [1, 2, 3, 4, 5, 6, 7, 8, 9, 10, 11, 12, 13, 14, 15, 16, 17, 18, 19, 20, 21, 22, 23, 24, 25, 26, 27, 28, 29, 30, 31, 32, 33, 34, 35, 36, 37, 38, 39, 40, 41, 42, 43, 44, 45, 46, 47, 48, 49, 50, 51, 52, 53, 54, 55, 56, 57, 58, 59, 60, 61, 62, 63, 64, 65, 66, 67, 68, 69, 70, 71, 72, 73, 74, 75, 76, 77, 78, 79, 80, 81, 82, 83, 84, 85, 86, 87, 88, 89, 90, 91, 92, 93, 94, 95, 96, 97, 98, 99, 100, 101, 102, 103, 104, 105, 106, 107, 108, 109, 110, 111, 112, 113, 114, 115, 116, 117, 118, 119, 120, 121, 122, 123, 124, 125, 126, 127, 128, 129, 130, 131, 132, 133, 134, 135, 136, 137, 138, 139, 140, 141, 142, 143, 144, 145, 146, 147, 148, 149, 150, 151, 152, 153, 154, 155, 156, 157, 158, 159, 160, 161, 162, 163, 164, 165, 166, 167, 168, 169, 170, 171, 172, 173, 174, 175, 176, 177, 178, 179, 180, 181, 182, 183, 184, 185, 186, 187, 188, 189, 190, 191, 192, 193, 194, 195, 196, 197, 198, 199, 200, 201, 202, 203, 204, 205, 206, 207, 208, 209, 210, 211, 212, 213, 214, 215, 216, 217, 218, 219, 220, 221, 222, 223, 224, 225, 226, 227, 228, 229, 230, 231, 232, 233, 234, 235, 236, 237, 238, 239, 240, 241, 242, 243, 244, 245, 246, 247, 248, 249, 250, 251, 252, 253, 254, 255, 256], \"colorscale\": [[0.0, \"rgb(12, 51, 131)\"], [1.0, \"rgb(217, 30, 30)\"]], \"showscale\": false, \"size\": 6}, \"mode\": \"markers\", \"showlegend\": false, \"type\": \"scatter\", \"x\": [58.18333333333333, 31.0, 97.4, 41.666666666666664, 70.26, 61.03333333333333, 36.0, 30.2, 27.73333333333333, 41.87, 51.125, 70.825, 69.8375, 61.1, 41.5, 31.6, 40.25, 70.85, 35.0, 57.56666666666666, 40.56, 55.525000000000006, 38.15, 41.38275862068965, 56.96, 49.13809523809523, 38.46, 66.92857142857143, 38.25, 50.576470588235296, 29.7, 68.84, 24.5, 60.8, 34.5, 26.3, 41.67999999999999, 34.31428571428571, 42.34761904761905, 33.2, 51.28333333333333, 75.4, 24.2, 93.1, 30.525, 41.971428571428575, 49.84375, 63.699999999999996, 36.26, 38.4, 25.8, 34.025, 31.72, 53.0, 52.55, 99.03333333333335, 74.21428571428571, 36.599999999999994, 55.64, 41.666666666666664, 55.949999999999996, 29.0, 51.599999999999994, 36.8, 46.724137931034484, 53.44210526315789, 39.1, 68.34285714285714, 42.45, 52.422222222222224, 66.2, 28.4, 28.1, 64.52000000000001, 30.1, 52.4, 44.16, 46.71363636363637, 34.1, 48.0, 74.4, 65.16666666666667, 93.0, 41.2, 42.05, 52.638461538461534, 36.0, 73.73846153846155, 50.13333333333333, 36.7, 28.7, 36.1, 35.760000000000005, 64.85, 40.2, 88.45, 77.69999999999999, 81.43333333333334, 35.07142857142858, 56.63000000000001, 45.416666666666664, 66.05714285714285, 60.2, 52.96, 40.808333333333344, 47.43333333333334, 54.25789473684211, 40.2, 76.28333333333333, 44.55, 52.21666666666666, 68.39, 30.6, 29.0, 63.980000000000004, 30.3, 37.275, 43.17272727272728, 49.29090909090908, 35.0, 48.0, 78.5, 45.199999999999996, 98.3, 38.06666666666667, 42.226666666666674, 61.154545454545456, 74.38461538461537, 51.42, 38.150000000000006, 28.3, 37.05, 38.52, 72.2, 66.80000000000001, 82.15, 93.5, 82.89999999999999, 40.73333333333333, 57.75555555555555, 54.050000000000004, 65.95, 62.2, 51.760000000000005, 38.71632653061225, 47.29767441860465, 52.245000000000005, 39.879999999999995, 71.02857142857142, 42.3, 50.305555555555564, 28.1, 72.25454545454545, 36.5, 29.4, 63.85999999999999, 46.20000000000001, 42.400000000000006, 52.640740740740746, 36.0, 46.31666666666666, 64.0, 46.225, 85.15, 36.86666666666667, 41.42941176470589, 58.34166666666667, 33.6, 28.6, 74.96153846153847, 51.06, 38.650000000000006, 28.5, 39.2, 36.36, 55.95, 76.7, 92.5, 81.34444444444445, 42.449999999999996, 57.111111111111114, 60.56249999999999, 70.06666666666666, 56.5, 48.98333333333334, 38.117777777777775, 48.37032967032967, 28.6, 48.80645161290323, 47.771428571428565, 28.0, 73.52857142857144, 46.054545454545455, 47.268, 35.9, 69.04999999999998, 35.8, 30.0, 30.966666666666672, 45.050000000000004, 30.0, 38.15, 45.62222222222222, 33.75416666666667, 68.37714285714286, 42.68333333333334, 47.21666666666667, 32.260000000000005, 28.0, 40.40588235294119, 40.0, 62.65714285714285, 31.916666666666668, 40.15294117647059, 47.39487179487178, 30.1, 28.0, 28.3, 41.0, 38.1, 34.9, 31.28, 69.75, 29.2, 73.02307692307693, 43.17142857142857, 29.2, 40.775, 37.6, 31.3, 32.916666666666664, 40.1, 55.2, 37.2, 28.766666666666666, 47.615384615384606, 70.56666666666668, 45.6, 74.85, 30.6, 35.5, 68.63333333333333, 60.99583333333336, 35.56, 55.23636363636364, 67.02222222222221, 53.11666666666665, 45.34285714285715, 59.33636363636364, 28.0, 28.4, 44.7, 31.7, 34.31447368421054, 44.50220588235294, 34.6], \"xaxis\": \"x8\", \"y\": [82.85000000000001, 81.35, 27.15, 72.26666666666667, 44.14, 47.73333333333333, 19.3, 24.2, 37.733333333333334, 51.510000000000005, 85.875, 20.85, 43.949999999999996, 94.3, 66.6, 84.2, 97.05, 35.550000000000004, 33.2, 66.3, 91.8, 35.625, 37.45, 74.60344827586206, 41.00666666666667, 77.80952380952381, 76.03999999999999, 63.671428571428564, 21.0, 62.405882352941184, 45.5, 25.880000000000003, 51.4, 71.66, 31.6, 42.0, 41.800000000000004, 65.85714285714286, 55.42857142857144, 42.6, 69.38333333333334, 56.9, 14.3, 12.7, 44.75, 33.949999999999996, 21.156250000000004, 60.10833333333334, 86.8, 64.65, 39.5, 48.625, 79.4, 45.7, 91.4, 63.333333333333336, 25.042857142857144, 39.35, 59.169999999999995, 90.08333333333333, 17.9375, 45.0, 31.775000000000002, 76.92499999999998, 35.02988505747127, 75.78421052631579, 74.46000000000001, 60.41428571428571, 22.7, 60.1888888888889, 34.56666666666667, 53.0, 50.3, 70.28, 42.4, 44.9, 63.84000000000001, 53.3909090909091, 44.4, 68.96666666666665, 59.9, 17.2, 16.7, 48.56666666666666, 36.971428571428575, 26.015384615384615, 33.2, 60.93846153846154, 84.18333333333332, 62.325, 40.75, 45.333333333333336, 74.2, 34.55, 71.0, 91.4, 61.05, 29.750000000000004, 40.35714285714285, 58.410000000000004, 88.0, 23.628571428571433, 23.8, 36.06, 76.48958333333333, 39.333333333333336, 79.13684210526317, 73.38333333333334, 59.01666666666667, 21.95, 62.68888888888888, 35.43, 55.7, 53.2, 71.56, 43.7, 47.300000000000004, 63.709090909090925, 53.88636363636365, 47.1, 68.7, 59.9, 20.733333333333334, 20.7, 51.96666666666666, 39.89333333333333, 27.927272727272733, 63.600000000000016, 85.22, 61.74999999999999, 42.8, 45.4, 74.48, 55.7, 73.25, 92.65, 64.03333333333335, 34.94285714285714, 40.48888888888889, 60.21111111111111, 89.4625, 25.162499999999998, 24.4, 43.64, 77.11836734693878, 42.52674418604651, 78.74499999999999, 79.64, 62.15714285714286, 23.0, 65.8888888888889, 48.7, 35.77272727272728, 54.6, 53.9, 70.14, 50.699999999999996, 66.34545454545456, 54.777777777777786, 47.0, 71.2, 59.1, 20.875, 19.7, 53.333333333333336, 42.670588235294126, 31.733333333333338, 73.3, 45.1, 65.54615384615386, 84.3, 60.075, 41.6, 48.25, 77.67999999999999, 52.099999999999994, 93.7, 63.6, 36.36666666666667, 49.349999999999994, 59.400000000000006, 90.0625, 26.766666666666666, 22.5, 44.85, 79.21111111111112, 44.856043956043955, 28.1, 78.17096774193547, 77.71428571428571, 48.2, 68.64285714285714, 21.2, 66.52, 45.559999999999995, 23.82777777777778, 46.85, 74.7, 36.266666666666666, 79.41666666666667, 32.35, 42.0, 53.599999999999994, 61.166666666666664, 53.534285714285716, 36.93333333333333, 82.78333333333335, 50.559999999999995, 61.0, 15.235294117647056, 37.2, 12.57142857142857, 50.333333333333336, 37.16470588235293, 22.66153846153846, 57.95, 45.5, 31.5, 40.8, 99.8, 98.4, 38.1, 47.75, 42.7, 70.39999999999999, 89.04285714285716, 26.1, 66.05, 71.5, 31.3, 26.016666666666666, 45.12857142857143, 99.9, 79.80000000000001, 34.53333333333333, 31.053846153846152, 84.33333333333333, 30.5, 95.4, 38.75, 34.05, 55.28333333333334, 30.600000000000005, 40.908, 60.80909090909092, 93.11111111111111, 22.908333333333335, 32.67142857142857, 28.872727272727275, 58.0, 38.3, 63.4, 95.3, 78.49605263157896, 42.717647058823545, 92.5], \"yaxis\": \"y8\"}, {\"marker\": {\"color\": \"rgb(12, 51, 131)\"}, \"showlegend\": false, \"type\": \"box\", \"xaxis\": \"x9\", \"y\": [82.85000000000001, 81.35, 27.15, 72.26666666666667, 44.14, 47.73333333333333, 19.3, 24.2, 37.733333333333334, 51.510000000000005, 85.875, 20.85, 43.949999999999996, 94.3, 66.6, 84.2, 97.05, 35.550000000000004, 33.2, 66.3, 91.8, 35.625, 37.45, 74.60344827586206, 41.00666666666667, 77.80952380952381, 76.03999999999999, 63.671428571428564, 21.0, 62.405882352941184, 45.5, 25.880000000000003, 51.4, 71.66, 31.6, 42.0, 41.800000000000004, 65.85714285714286, 55.42857142857144, 42.6, 69.38333333333334, 56.9, 14.3, 12.7, 44.75, 33.949999999999996, 21.156250000000004, 60.10833333333334, 86.8, 64.65, 39.5, 48.625, 79.4, 45.7, 91.4, 63.333333333333336, 25.042857142857144, 39.35, 59.169999999999995, 90.08333333333333, 17.9375, 45.0, 31.775000000000002, 76.92499999999998, 35.02988505747127, 75.78421052631579, 74.46000000000001, 60.41428571428571, 22.7, 60.1888888888889, 34.56666666666667, 53.0, 50.3, 70.28, 42.4, 44.9, 63.84000000000001, 53.3909090909091, 44.4, 68.96666666666665, 59.9, 17.2, 16.7, 48.56666666666666, 36.971428571428575, 26.015384615384615, 33.2, 60.93846153846154, 84.18333333333332, 62.325, 40.75, 45.333333333333336, 74.2, 34.55, 71.0, 91.4, 61.05, 29.750000000000004, 40.35714285714285, 58.410000000000004, 88.0, 23.628571428571433, 23.8, 36.06, 76.48958333333333, 39.333333333333336, 79.13684210526317, 73.38333333333334, 59.01666666666667, 21.95, 62.68888888888888, 35.43, 55.7, 53.2, 71.56, 43.7, 47.300000000000004, 63.709090909090925, 53.88636363636365, 47.1, 68.7, 59.9, 20.733333333333334, 20.7, 51.96666666666666, 39.89333333333333, 27.927272727272733, 63.600000000000016, 85.22, 61.74999999999999, 42.8, 45.4, 74.48, 55.7, 73.25, 92.65, 64.03333333333335, 34.94285714285714, 40.48888888888889, 60.21111111111111, 89.4625, 25.162499999999998, 24.4, 43.64, 77.11836734693878, 42.52674418604651, 78.74499999999999, 79.64, 62.15714285714286, 23.0, 65.8888888888889, 48.7, 35.77272727272728, 54.6, 53.9, 70.14, 50.699999999999996, 66.34545454545456, 54.777777777777786, 47.0, 71.2, 59.1, 20.875, 19.7, 53.333333333333336, 42.670588235294126, 31.733333333333338, 73.3, 45.1, 65.54615384615386, 84.3, 60.075, 41.6, 48.25, 77.67999999999999, 52.099999999999994, 93.7, 63.6, 36.36666666666667, 49.349999999999994, 59.400000000000006, 90.0625, 26.766666666666666, 22.5, 44.85, 79.21111111111112, 44.856043956043955, 28.1, 78.17096774193547, 77.71428571428571, 48.2, 68.64285714285714, 21.2, 66.52, 45.559999999999995, 23.82777777777778, 46.85, 74.7, 36.266666666666666, 79.41666666666667, 32.35, 42.0, 53.599999999999994, 61.166666666666664, 53.534285714285716, 36.93333333333333, 82.78333333333335, 50.559999999999995, 61.0, 15.235294117647056, 37.2, 12.57142857142857, 50.333333333333336, 37.16470588235293, 22.66153846153846, 57.95, 45.5, 31.5, 40.8, 99.8, 98.4, 38.1, 47.75, 42.7, 70.39999999999999, 89.04285714285716, 26.1, 66.05, 71.5, 31.3, 26.016666666666666, 45.12857142857143, 99.9, 79.80000000000001, 34.53333333333333, 31.053846153846152, 84.33333333333333, 30.5, 95.4, 38.75, 34.05, 55.28333333333334, 30.600000000000005, 40.908, 60.80909090909092, 93.11111111111111, 22.908333333333335, 32.67142857142857, 28.872727272727275, 58.0, 38.3, 63.4, 95.3, 78.49605263157896, 42.717647058823545, 92.5], \"yaxis\": \"y9\"}],\n",
       "                        {\"height\": 700, \"showlegend\": true, \"template\": {\"data\": {\"bar\": [{\"error_x\": {\"color\": \"#2a3f5f\"}, \"error_y\": {\"color\": \"#2a3f5f\"}, \"marker\": {\"line\": {\"color\": \"#E5ECF6\", \"width\": 0.5}}, \"type\": \"bar\"}], \"barpolar\": [{\"marker\": {\"line\": {\"color\": \"#E5ECF6\", \"width\": 0.5}}, \"type\": \"barpolar\"}], \"carpet\": [{\"aaxis\": {\"endlinecolor\": \"#2a3f5f\", \"gridcolor\": \"white\", \"linecolor\": \"white\", \"minorgridcolor\": \"white\", \"startlinecolor\": \"#2a3f5f\"}, \"baxis\": {\"endlinecolor\": \"#2a3f5f\", \"gridcolor\": \"white\", \"linecolor\": \"white\", \"minorgridcolor\": \"white\", \"startlinecolor\": \"#2a3f5f\"}, \"type\": \"carpet\"}], \"choropleth\": [{\"colorbar\": {\"outlinewidth\": 0, \"ticks\": \"\"}, \"type\": \"choropleth\"}], \"contour\": [{\"colorbar\": {\"outlinewidth\": 0, \"ticks\": \"\"}, \"colorscale\": [[0.0, \"#0d0887\"], [0.1111111111111111, \"#46039f\"], [0.2222222222222222, \"#7201a8\"], [0.3333333333333333, \"#9c179e\"], [0.4444444444444444, \"#bd3786\"], [0.5555555555555556, \"#d8576b\"], [0.6666666666666666, \"#ed7953\"], [0.7777777777777778, \"#fb9f3a\"], [0.8888888888888888, \"#fdca26\"], [1.0, \"#f0f921\"]], \"type\": \"contour\"}], \"contourcarpet\": [{\"colorbar\": {\"outlinewidth\": 0, \"ticks\": \"\"}, \"type\": \"contourcarpet\"}], \"heatmap\": [{\"colorbar\": {\"outlinewidth\": 0, \"ticks\": \"\"}, \"colorscale\": [[0.0, \"#0d0887\"], [0.1111111111111111, \"#46039f\"], [0.2222222222222222, \"#7201a8\"], [0.3333333333333333, \"#9c179e\"], [0.4444444444444444, \"#bd3786\"], [0.5555555555555556, \"#d8576b\"], [0.6666666666666666, \"#ed7953\"], [0.7777777777777778, \"#fb9f3a\"], [0.8888888888888888, \"#fdca26\"], [1.0, \"#f0f921\"]], \"type\": \"heatmap\"}], \"heatmapgl\": [{\"colorbar\": {\"outlinewidth\": 0, \"ticks\": \"\"}, \"colorscale\": [[0.0, \"#0d0887\"], [0.1111111111111111, \"#46039f\"], [0.2222222222222222, \"#7201a8\"], [0.3333333333333333, \"#9c179e\"], [0.4444444444444444, \"#bd3786\"], [0.5555555555555556, \"#d8576b\"], [0.6666666666666666, \"#ed7953\"], [0.7777777777777778, \"#fb9f3a\"], [0.8888888888888888, \"#fdca26\"], [1.0, \"#f0f921\"]], \"type\": \"heatmapgl\"}], \"histogram\": [{\"marker\": {\"colorbar\": {\"outlinewidth\": 0, \"ticks\": \"\"}}, \"type\": \"histogram\"}], \"histogram2d\": [{\"colorbar\": {\"outlinewidth\": 0, \"ticks\": \"\"}, \"colorscale\": [[0.0, \"#0d0887\"], [0.1111111111111111, \"#46039f\"], [0.2222222222222222, \"#7201a8\"], [0.3333333333333333, \"#9c179e\"], [0.4444444444444444, \"#bd3786\"], [0.5555555555555556, \"#d8576b\"], [0.6666666666666666, \"#ed7953\"], [0.7777777777777778, \"#fb9f3a\"], [0.8888888888888888, \"#fdca26\"], [1.0, \"#f0f921\"]], \"type\": \"histogram2d\"}], \"histogram2dcontour\": [{\"colorbar\": {\"outlinewidth\": 0, \"ticks\": \"\"}, \"colorscale\": [[0.0, \"#0d0887\"], [0.1111111111111111, \"#46039f\"], [0.2222222222222222, \"#7201a8\"], [0.3333333333333333, \"#9c179e\"], [0.4444444444444444, \"#bd3786\"], [0.5555555555555556, \"#d8576b\"], [0.6666666666666666, \"#ed7953\"], [0.7777777777777778, \"#fb9f3a\"], [0.8888888888888888, \"#fdca26\"], [1.0, \"#f0f921\"]], \"type\": \"histogram2dcontour\"}], \"mesh3d\": [{\"colorbar\": {\"outlinewidth\": 0, \"ticks\": \"\"}, \"type\": \"mesh3d\"}], \"parcoords\": [{\"line\": {\"colorbar\": {\"outlinewidth\": 0, \"ticks\": \"\"}}, \"type\": \"parcoords\"}], \"pie\": [{\"automargin\": true, \"type\": \"pie\"}], \"scatter\": [{\"marker\": {\"colorbar\": {\"outlinewidth\": 0, \"ticks\": \"\"}}, \"type\": \"scatter\"}], \"scatter3d\": [{\"line\": {\"colorbar\": {\"outlinewidth\": 0, \"ticks\": \"\"}}, \"marker\": {\"colorbar\": {\"outlinewidth\": 0, \"ticks\": \"\"}}, \"type\": \"scatter3d\"}], \"scattercarpet\": [{\"marker\": {\"colorbar\": {\"outlinewidth\": 0, \"ticks\": \"\"}}, \"type\": \"scattercarpet\"}], \"scattergeo\": [{\"marker\": {\"colorbar\": {\"outlinewidth\": 0, \"ticks\": \"\"}}, \"type\": \"scattergeo\"}], \"scattergl\": [{\"marker\": {\"colorbar\": {\"outlinewidth\": 0, \"ticks\": \"\"}}, \"type\": \"scattergl\"}], \"scattermapbox\": [{\"marker\": {\"colorbar\": {\"outlinewidth\": 0, \"ticks\": \"\"}}, \"type\": \"scattermapbox\"}], \"scatterpolar\": [{\"marker\": {\"colorbar\": {\"outlinewidth\": 0, \"ticks\": \"\"}}, \"type\": \"scatterpolar\"}], \"scatterpolargl\": [{\"marker\": {\"colorbar\": {\"outlinewidth\": 0, \"ticks\": \"\"}}, \"type\": \"scatterpolargl\"}], \"scatterternary\": [{\"marker\": {\"colorbar\": {\"outlinewidth\": 0, \"ticks\": \"\"}}, \"type\": \"scatterternary\"}], \"surface\": [{\"colorbar\": {\"outlinewidth\": 0, \"ticks\": \"\"}, \"colorscale\": [[0.0, \"#0d0887\"], [0.1111111111111111, \"#46039f\"], [0.2222222222222222, \"#7201a8\"], [0.3333333333333333, \"#9c179e\"], [0.4444444444444444, \"#bd3786\"], [0.5555555555555556, \"#d8576b\"], [0.6666666666666666, \"#ed7953\"], [0.7777777777777778, \"#fb9f3a\"], [0.8888888888888888, \"#fdca26\"], [1.0, \"#f0f921\"]], \"type\": \"surface\"}], \"table\": [{\"cells\": {\"fill\": {\"color\": \"#EBF0F8\"}, \"line\": {\"color\": \"white\"}}, \"header\": {\"fill\": {\"color\": \"#C8D4E3\"}, \"line\": {\"color\": \"white\"}}, \"type\": \"table\"}]}, \"layout\": {\"annotationdefaults\": {\"arrowcolor\": \"#2a3f5f\", \"arrowhead\": 0, \"arrowwidth\": 1}, \"coloraxis\": {\"colorbar\": {\"outlinewidth\": 0, \"ticks\": \"\"}}, \"colorscale\": {\"diverging\": [[0, \"#8e0152\"], [0.1, \"#c51b7d\"], [0.2, \"#de77ae\"], [0.3, \"#f1b6da\"], [0.4, \"#fde0ef\"], [0.5, \"#f7f7f7\"], [0.6, \"#e6f5d0\"], [0.7, \"#b8e186\"], [0.8, \"#7fbc41\"], [0.9, \"#4d9221\"], [1, \"#276419\"]], \"sequential\": [[0.0, \"#0d0887\"], [0.1111111111111111, \"#46039f\"], [0.2222222222222222, \"#7201a8\"], [0.3333333333333333, \"#9c179e\"], [0.4444444444444444, \"#bd3786\"], [0.5555555555555556, \"#d8576b\"], [0.6666666666666666, \"#ed7953\"], [0.7777777777777778, \"#fb9f3a\"], [0.8888888888888888, \"#fdca26\"], [1.0, \"#f0f921\"]], \"sequentialminus\": [[0.0, \"#0d0887\"], [0.1111111111111111, \"#46039f\"], [0.2222222222222222, \"#7201a8\"], [0.3333333333333333, \"#9c179e\"], [0.4444444444444444, \"#bd3786\"], [0.5555555555555556, \"#d8576b\"], [0.6666666666666666, \"#ed7953\"], [0.7777777777777778, \"#fb9f3a\"], [0.8888888888888888, \"#fdca26\"], [1.0, \"#f0f921\"]]}, \"colorway\": [\"#636efa\", \"#EF553B\", \"#00cc96\", \"#ab63fa\", \"#FFA15A\", \"#19d3f3\", \"#FF6692\", \"#B6E880\", \"#FF97FF\", \"#FECB52\"], \"font\": {\"color\": \"#2a3f5f\"}, \"geo\": {\"bgcolor\": \"white\", \"lakecolor\": \"white\", \"landcolor\": \"#E5ECF6\", \"showlakes\": true, \"showland\": true, \"subunitcolor\": \"white\"}, \"hoverlabel\": {\"align\": \"left\"}, \"hovermode\": \"closest\", \"mapbox\": {\"style\": \"light\"}, \"paper_bgcolor\": \"white\", \"plot_bgcolor\": \"#E5ECF6\", \"polar\": {\"angularaxis\": {\"gridcolor\": \"white\", \"linecolor\": \"white\", \"ticks\": \"\"}, \"bgcolor\": \"#E5ECF6\", \"radialaxis\": {\"gridcolor\": \"white\", \"linecolor\": \"white\", \"ticks\": \"\"}}, \"scene\": {\"xaxis\": {\"backgroundcolor\": \"#E5ECF6\", \"gridcolor\": \"white\", \"gridwidth\": 2, \"linecolor\": \"white\", \"showbackground\": true, \"ticks\": \"\", \"zerolinecolor\": \"white\"}, \"yaxis\": {\"backgroundcolor\": \"#E5ECF6\", \"gridcolor\": \"white\", \"gridwidth\": 2, \"linecolor\": \"white\", \"showbackground\": true, \"ticks\": \"\", \"zerolinecolor\": \"white\"}, \"zaxis\": {\"backgroundcolor\": \"#E5ECF6\", \"gridcolor\": \"white\", \"gridwidth\": 2, \"linecolor\": \"white\", \"showbackground\": true, \"ticks\": \"\", \"zerolinecolor\": \"white\"}}, \"shapedefaults\": {\"line\": {\"color\": \"#2a3f5f\"}}, \"ternary\": {\"aaxis\": {\"gridcolor\": \"white\", \"linecolor\": \"white\", \"ticks\": \"\"}, \"baxis\": {\"gridcolor\": \"white\", \"linecolor\": \"white\", \"ticks\": \"\"}, \"bgcolor\": \"#E5ECF6\", \"caxis\": {\"gridcolor\": \"white\", \"linecolor\": \"white\", \"ticks\": \"\"}}, \"title\": {\"x\": 0.05}, \"xaxis\": {\"automargin\": true, \"gridcolor\": \"white\", \"linecolor\": \"white\", \"ticks\": \"\", \"title\": {\"standoff\": 15}, \"zerolinecolor\": \"white\", \"zerolinewidth\": 2}, \"yaxis\": {\"automargin\": true, \"gridcolor\": \"white\", \"linecolor\": \"white\", \"ticks\": \"\", \"title\": {\"standoff\": 15}, \"zerolinecolor\": \"white\", \"zerolinewidth\": 2}}}, \"title\": {\"text\": \"Scatterplot Matrix\"}, \"width\": 700, \"xaxis\": {\"anchor\": \"y\", \"domain\": [0.0, 0.2888888888888889], \"showticklabels\": false}, \"xaxis2\": {\"anchor\": \"y2\", \"domain\": [0.35555555555555557, 0.6444444444444445]}, \"xaxis3\": {\"anchor\": \"y3\", \"domain\": [0.7111111111111111, 1.0]}, \"xaxis4\": {\"anchor\": \"y4\", \"domain\": [0.0, 0.2888888888888889]}, \"xaxis5\": {\"anchor\": \"y5\", \"domain\": [0.35555555555555557, 0.6444444444444445], \"showticklabels\": false}, \"xaxis6\": {\"anchor\": \"y6\", \"domain\": [0.7111111111111111, 1.0]}, \"xaxis7\": {\"anchor\": \"y7\", \"domain\": [0.0, 0.2888888888888889], \"title\": {\"text\": \"year\"}}, \"xaxis8\": {\"anchor\": \"y8\", \"domain\": [0.35555555555555557, 0.6444444444444445], \"title\": {\"text\": \"income\"}}, \"xaxis9\": {\"anchor\": \"y9\", \"domain\": [0.7111111111111111, 1.0], \"showticklabels\": false, \"title\": {\"text\": \"international\"}}, \"yaxis\": {\"anchor\": \"x\", \"domain\": [0.7333333333333333, 1.0], \"title\": {\"text\": \"year\"}}, \"yaxis2\": {\"anchor\": \"x2\", \"domain\": [0.7333333333333333, 1.0]}, \"yaxis3\": {\"anchor\": \"x3\", \"domain\": [0.7333333333333333, 1.0]}, \"yaxis4\": {\"anchor\": \"x4\", \"domain\": [0.36666666666666664, 0.6333333333333333], \"title\": {\"text\": \"income\"}}, \"yaxis5\": {\"anchor\": \"x5\", \"domain\": [0.36666666666666664, 0.6333333333333333]}, \"yaxis6\": {\"anchor\": \"x6\", \"domain\": [0.36666666666666664, 0.6333333333333333]}, \"yaxis7\": {\"anchor\": \"x7\", \"domain\": [0.0, 0.26666666666666666], \"title\": {\"text\": \"international\"}}, \"yaxis8\": {\"anchor\": \"x8\", \"domain\": [0.0, 0.26666666666666666]}, \"yaxis9\": {\"anchor\": \"x9\", \"domain\": [0.0, 0.26666666666666666]}},\n",
       "                        {\"responsive\": true}\n",
       "                    ).then(function(){\n",
       "                            \n",
       "var gd = document.getElementById('06acc0cd-a334-4dcf-a058-916bf0ad8768');\n",
       "var x = new MutationObserver(function (mutations, observer) {{\n",
       "        var display = window.getComputedStyle(gd).display;\n",
       "        if (!display || display === 'none') {{\n",
       "            console.log([gd, 'removed!']);\n",
       "            Plotly.purge(gd);\n",
       "            observer.disconnect();\n",
       "        }}\n",
       "}});\n",
       "\n",
       "// Listen for the removal of the full notebook cells\n",
       "var notebookContainer = gd.closest('#notebook-container');\n",
       "if (notebookContainer) {{\n",
       "    x.observe(notebookContainer, {childList: true});\n",
       "}}\n",
       "\n",
       "// Listen for the clearing of the current output cell\n",
       "var outputEl = gd.closest('.output');\n",
       "if (outputEl) {{\n",
       "    x.observe(outputEl, {childList: true});\n",
       "}}\n",
       "\n",
       "                        })\n",
       "                };\n",
       "                });\n",
       "            </script>\n",
       "        </div>"
      ]
     },
     "metadata": {},
     "output_type": "display_data"
    }
   ],
   "source": [
    "\"\"\"\n",
    "Existe-t-il une corrélation entre le score universitaire pour le transfert technologique (revenu de l'industrie) \n",
    "et le score universitaire des perspectives internationales ?\n",
    "Utiliser un ou plusieurs graphique pour justifier votre réponse.\n",
    "\"\"\"\n",
    "df = timesData[[\"year\",\"country\", \"income\", \"international\"]]\n",
    "\n",
    "df.income = [float(each.replace('-', 'NaN')) for each in df.income]\n",
    "df.international = [float(each.replace('-', 'NaN')) for each in df.international]\n",
    "df = df.dropna()\n",
    "\n",
    "df2011 = df[df.year==2011]\n",
    "df2011=df2011.groupby('country').mean()\n",
    "\n",
    "df2012 = df[df.year==2012]\n",
    "df2012=df2012.groupby('country').mean()\n",
    "\n",
    "df2013 = df[df.year==2013]\n",
    "df2013=df2013.groupby('country').mean()\n",
    "\n",
    "df2014 = df[df.year==2014]\n",
    "df2014=df2014.groupby('country').mean()\n",
    "\n",
    "df2015 = df[df.year==2015]\n",
    "df2015=df2015.groupby('country').mean()\n",
    "\n",
    "df2016 = df[df.year==2016]\n",
    "df2016=df2016.groupby('country').mean()\n",
    "\n",
    "df1=pd.concat([df2011,df2012,df2013,df2014,df2015,df2016])\n",
    "\n",
    "\n",
    "# import figure factory\n",
    "import plotly.figure_factory as ff\n",
    "# prepare data\n",
    "\n",
    "df1['index']= np.arange(1, len(df1)+1) # ajout d'une colonne index pour avoir la nuance des couleurs à droite du graphe \n",
    "# scatter matrix\n",
    "fig = ff.create_scatterplotmatrix(df1, diag='box',index = 'index',colormap='Portland',colormap_type='cat',height=700, width=700)\n",
    "iplot(fig)"
   ]
  },
  {
   "cell_type": "code",
   "execution_count": 10,
   "metadata": {},
   "outputs": [
    {
     "data": {
      "application/vnd.plotly.v1+json": {
       "config": {
        "plotlyServerURL": "https://plot.ly"
       },
       "data": [
        {
         "hovertemplate": "income=%{x}<br>international=%{y}<br>year=%{marker.color}<extra></extra>",
         "legendgroup": "",
         "marker": {
          "color": [
           2011,
           2011,
           2011,
           2011,
           2011,
           2011,
           2011,
           2011,
           2011,
           2011,
           2011,
           2011,
           2011,
           2011,
           2011,
           2011,
           2011,
           2011,
           2011,
           2011,
           2011,
           2011,
           2011,
           2011,
           2011,
           2012,
           2012,
           2012,
           2012,
           2012,
           2012,
           2012,
           2012,
           2012,
           2012,
           2012,
           2012,
           2012,
           2012,
           2012,
           2012,
           2012,
           2012,
           2012,
           2012,
           2012,
           2012,
           2012,
           2012,
           2012,
           2012,
           2012,
           2012,
           2012,
           2012,
           2012,
           2012,
           2012,
           2012,
           2012,
           2012,
           2012,
           2012,
           2012,
           2012,
           2013,
           2013,
           2013,
           2013,
           2013,
           2013,
           2013,
           2013,
           2013,
           2013,
           2013,
           2013,
           2013,
           2013,
           2013,
           2013,
           2013,
           2013,
           2013,
           2013,
           2013,
           2013,
           2013,
           2013,
           2013,
           2013,
           2013,
           2013,
           2013,
           2013,
           2013,
           2013,
           2013,
           2013,
           2013,
           2013,
           2013,
           2013,
           2013,
           2013,
           2013,
           2014,
           2014,
           2014,
           2014,
           2014,
           2014,
           2014,
           2014,
           2014,
           2014,
           2014,
           2014,
           2014,
           2014,
           2014,
           2014,
           2014,
           2014,
           2014,
           2014,
           2014,
           2014,
           2014,
           2014,
           2014,
           2014,
           2014,
           2014,
           2014,
           2014,
           2014,
           2014,
           2014,
           2014,
           2014,
           2014,
           2014,
           2014,
           2014,
           2014,
           2015,
           2015,
           2015,
           2015,
           2015,
           2015,
           2015,
           2015,
           2015,
           2015,
           2015,
           2015,
           2015,
           2015,
           2015,
           2015,
           2015,
           2015,
           2015,
           2015,
           2015,
           2015,
           2015,
           2015,
           2015,
           2015,
           2015,
           2015,
           2015,
           2015,
           2015,
           2015,
           2015,
           2015,
           2015,
           2015,
           2015,
           2015,
           2015,
           2015,
           2015,
           2016,
           2016,
           2016,
           2016,
           2016,
           2016,
           2016,
           2016,
           2016,
           2016,
           2016,
           2016,
           2016,
           2016,
           2016,
           2016,
           2016,
           2016,
           2016,
           2016,
           2016,
           2016,
           2016,
           2016,
           2016,
           2016,
           2016,
           2016,
           2016,
           2016,
           2016,
           2016,
           2016,
           2016,
           2016,
           2016,
           2016,
           2016,
           2016,
           2016,
           2016,
           2016,
           2016,
           2016,
           2016,
           2016,
           2016,
           2016,
           2016,
           2016,
           2016,
           2016,
           2016,
           2016,
           2016,
           2016,
           2016,
           2016,
           2016,
           2016,
           2016,
           2016,
           2016,
           2016,
           2016,
           2016,
           2016,
           2016,
           2016
          ],
          "coloraxis": "coloraxis",
          "symbol": "circle"
         },
         "mode": "markers",
         "name": "",
         "showlegend": false,
         "type": "scatter",
         "x": [
          58.18333333333333,
          31,
          97.4,
          41.666666666666664,
          70.26,
          61.03333333333333,
          36,
          30.2,
          27.73333333333333,
          41.87,
          51.125,
          70.825,
          69.8375,
          61.1,
          41.5,
          31.6,
          40.25,
          70.85,
          35,
          57.56666666666666,
          40.56,
          55.525000000000006,
          38.15,
          41.38275862068965,
          56.96,
          49.13809523809523,
          38.46,
          66.92857142857143,
          38.25,
          50.576470588235296,
          29.7,
          68.84,
          24.5,
          60.8,
          34.5,
          26.3,
          41.67999999999999,
          34.31428571428571,
          42.34761904761905,
          33.2,
          51.28333333333333,
          75.4,
          24.2,
          93.1,
          30.525,
          41.971428571428575,
          49.84375,
          63.699999999999996,
          36.26,
          38.4,
          25.8,
          34.025,
          31.72,
          53,
          52.55,
          99.03333333333335,
          74.21428571428571,
          36.599999999999994,
          55.64,
          41.666666666666664,
          55.949999999999996,
          29,
          51.599999999999994,
          36.8,
          46.724137931034484,
          53.44210526315789,
          39.1,
          68.34285714285714,
          42.45,
          52.422222222222224,
          66.2,
          28.4,
          28.1,
          64.52000000000001,
          30.1,
          52.4,
          44.16,
          46.71363636363637,
          34.1,
          48,
          74.4,
          65.16666666666667,
          93,
          41.2,
          42.05,
          52.638461538461534,
          36,
          73.73846153846155,
          50.13333333333333,
          36.7,
          28.7,
          36.1,
          35.760000000000005,
          64.85,
          40.2,
          88.45,
          77.69999999999999,
          81.43333333333334,
          35.07142857142858,
          56.63000000000001,
          45.416666666666664,
          66.05714285714285,
          60.2,
          52.96,
          40.808333333333344,
          47.43333333333334,
          54.25789473684211,
          40.2,
          76.28333333333333,
          44.55,
          52.21666666666666,
          68.39,
          30.6,
          29,
          63.980000000000004,
          30.3,
          37.275,
          43.17272727272728,
          49.29090909090908,
          35,
          48,
          78.5,
          45.199999999999996,
          98.3,
          38.06666666666667,
          42.226666666666674,
          61.154545454545456,
          74.38461538461537,
          51.42,
          38.150000000000006,
          28.3,
          37.05,
          38.52,
          72.2,
          66.80000000000001,
          82.15,
          93.5,
          82.89999999999999,
          40.73333333333333,
          57.75555555555555,
          54.050000000000004,
          65.95,
          62.2,
          51.760000000000005,
          38.71632653061225,
          47.29767441860465,
          52.245000000000005,
          39.879999999999995,
          71.02857142857142,
          42.3,
          50.305555555555564,
          28.1,
          72.25454545454545,
          36.5,
          29.4,
          63.85999999999999,
          46.20000000000001,
          42.400000000000006,
          52.640740740740746,
          36,
          46.31666666666666,
          64,
          46.225,
          85.15,
          36.86666666666667,
          41.42941176470589,
          58.34166666666667,
          33.6,
          28.6,
          74.96153846153847,
          51.06,
          38.650000000000006,
          28.5,
          39.2,
          36.36,
          55.95,
          76.7,
          92.5,
          81.34444444444445,
          42.449999999999996,
          57.111111111111114,
          60.56249999999999,
          70.06666666666666,
          56.5,
          48.98333333333334,
          38.117777777777775,
          48.37032967032967,
          28.6,
          48.80645161290323,
          47.771428571428565,
          28,
          73.52857142857144,
          46.054545454545455,
          47.268,
          35.9,
          69.04999999999998,
          35.8,
          30,
          30.966666666666672,
          45.050000000000004,
          30,
          38.15,
          45.62222222222222,
          33.75416666666667,
          68.37714285714286,
          42.68333333333334,
          47.21666666666667,
          32.260000000000005,
          28,
          40.40588235294119,
          40,
          62.65714285714285,
          31.916666666666668,
          40.15294117647059,
          47.39487179487178,
          30.1,
          28,
          28.3,
          41,
          38.1,
          34.9,
          31.28,
          69.75,
          29.2,
          73.02307692307693,
          43.17142857142857,
          29.2,
          40.775,
          37.6,
          31.3,
          32.916666666666664,
          40.1,
          55.2,
          37.2,
          28.766666666666666,
          47.615384615384606,
          70.56666666666668,
          45.6,
          74.85,
          30.6,
          35.5,
          68.63333333333333,
          60.99583333333336,
          35.56,
          55.23636363636364,
          67.02222222222221,
          53.11666666666665,
          45.34285714285715,
          59.33636363636364,
          28,
          28.4,
          44.7,
          31.7,
          34.31447368421054,
          44.50220588235294,
          34.6
         ],
         "xaxis": "x",
         "y": [
          82.85000000000001,
          81.35,
          27.15,
          72.26666666666667,
          44.14,
          47.73333333333333,
          19.3,
          24.2,
          37.733333333333334,
          51.510000000000005,
          85.875,
          20.85,
          43.949999999999996,
          94.3,
          66.6,
          84.2,
          97.05,
          35.550000000000004,
          33.2,
          66.3,
          91.8,
          35.625,
          37.45,
          74.60344827586206,
          41.00666666666667,
          77.80952380952381,
          76.03999999999999,
          63.671428571428564,
          21,
          62.405882352941184,
          45.5,
          25.880000000000003,
          51.4,
          71.66,
          31.6,
          42,
          41.800000000000004,
          65.85714285714286,
          55.42857142857144,
          42.6,
          69.38333333333334,
          56.9,
          14.3,
          12.7,
          44.75,
          33.949999999999996,
          21.156250000000004,
          60.10833333333334,
          86.8,
          64.65,
          39.5,
          48.625,
          79.4,
          45.7,
          91.4,
          63.333333333333336,
          25.042857142857144,
          39.35,
          59.169999999999995,
          90.08333333333333,
          17.9375,
          45,
          31.775000000000002,
          76.92499999999998,
          35.02988505747127,
          75.78421052631579,
          74.46000000000001,
          60.41428571428571,
          22.7,
          60.1888888888889,
          34.56666666666667,
          53,
          50.3,
          70.28,
          42.4,
          44.9,
          63.84000000000001,
          53.3909090909091,
          44.4,
          68.96666666666665,
          59.9,
          17.2,
          16.7,
          48.56666666666666,
          36.971428571428575,
          26.015384615384615,
          33.2,
          60.93846153846154,
          84.18333333333332,
          62.325,
          40.75,
          45.333333333333336,
          74.2,
          34.55,
          71,
          91.4,
          61.05,
          29.750000000000004,
          40.35714285714285,
          58.410000000000004,
          88,
          23.628571428571433,
          23.8,
          36.06,
          76.48958333333333,
          39.333333333333336,
          79.13684210526317,
          73.38333333333334,
          59.01666666666667,
          21.95,
          62.68888888888888,
          35.43,
          55.7,
          53.2,
          71.56,
          43.7,
          47.300000000000004,
          63.709090909090925,
          53.88636363636365,
          47.1,
          68.7,
          59.9,
          20.733333333333334,
          20.7,
          51.96666666666666,
          39.89333333333333,
          27.927272727272733,
          63.600000000000016,
          85.22,
          61.74999999999999,
          42.8,
          45.4,
          74.48,
          55.7,
          73.25,
          92.65,
          64.03333333333335,
          34.94285714285714,
          40.48888888888889,
          60.21111111111111,
          89.4625,
          25.162499999999998,
          24.4,
          43.64,
          77.11836734693878,
          42.52674418604651,
          78.74499999999999,
          79.64,
          62.15714285714286,
          23,
          65.8888888888889,
          48.7,
          35.77272727272728,
          54.6,
          53.9,
          70.14,
          50.699999999999996,
          66.34545454545456,
          54.777777777777786,
          47,
          71.2,
          59.1,
          20.875,
          19.7,
          53.333333333333336,
          42.670588235294126,
          31.733333333333338,
          73.3,
          45.1,
          65.54615384615386,
          84.3,
          60.075,
          41.6,
          48.25,
          77.67999999999999,
          52.099999999999994,
          93.7,
          63.6,
          36.36666666666667,
          49.349999999999994,
          59.400000000000006,
          90.0625,
          26.766666666666666,
          22.5,
          44.85,
          79.21111111111112,
          44.856043956043955,
          28.1,
          78.17096774193547,
          77.71428571428571,
          48.2,
          68.64285714285714,
          21.2,
          66.52,
          45.559999999999995,
          23.82777777777778,
          46.85,
          74.7,
          36.266666666666666,
          79.41666666666667,
          32.35,
          42,
          53.599999999999994,
          61.166666666666664,
          53.534285714285716,
          36.93333333333333,
          82.78333333333335,
          50.559999999999995,
          61,
          15.235294117647056,
          37.2,
          12.57142857142857,
          50.333333333333336,
          37.16470588235293,
          22.66153846153846,
          57.95,
          45.5,
          31.5,
          40.8,
          99.8,
          98.4,
          38.1,
          47.75,
          42.7,
          70.39999999999999,
          89.04285714285716,
          26.1,
          66.05,
          71.5,
          31.3,
          26.016666666666666,
          45.12857142857143,
          99.9,
          79.80000000000001,
          34.53333333333333,
          31.053846153846152,
          84.33333333333333,
          30.5,
          95.4,
          38.75,
          34.05,
          55.28333333333334,
          30.600000000000005,
          40.908,
          60.80909090909092,
          93.11111111111111,
          22.908333333333335,
          32.67142857142857,
          28.872727272727275,
          58,
          38.3,
          63.4,
          95.3,
          78.49605263157896,
          42.717647058823545,
          92.5
         ],
         "yaxis": "y"
        }
       ],
       "layout": {
        "coloraxis": {
         "colorbar": {
          "title": {
           "text": "year"
          }
         },
         "colorscale": [
          [
           0,
           "#0d0887"
          ],
          [
           0.1111111111111111,
           "#46039f"
          ],
          [
           0.2222222222222222,
           "#7201a8"
          ],
          [
           0.3333333333333333,
           "#9c179e"
          ],
          [
           0.4444444444444444,
           "#bd3786"
          ],
          [
           0.5555555555555556,
           "#d8576b"
          ],
          [
           0.6666666666666666,
           "#ed7953"
          ],
          [
           0.7777777777777778,
           "#fb9f3a"
          ],
          [
           0.8888888888888888,
           "#fdca26"
          ],
          [
           1,
           "#f0f921"
          ]
         ]
        },
        "legend": {
         "tracegroupgap": 0
        },
        "margin": {
         "t": 60
        },
        "template": {
         "data": {
          "bar": [
           {
            "error_x": {
             "color": "#2a3f5f"
            },
            "error_y": {
             "color": "#2a3f5f"
            },
            "marker": {
             "line": {
              "color": "#E5ECF6",
              "width": 0.5
             }
            },
            "type": "bar"
           }
          ],
          "barpolar": [
           {
            "marker": {
             "line": {
              "color": "#E5ECF6",
              "width": 0.5
             }
            },
            "type": "barpolar"
           }
          ],
          "carpet": [
           {
            "aaxis": {
             "endlinecolor": "#2a3f5f",
             "gridcolor": "white",
             "linecolor": "white",
             "minorgridcolor": "white",
             "startlinecolor": "#2a3f5f"
            },
            "baxis": {
             "endlinecolor": "#2a3f5f",
             "gridcolor": "white",
             "linecolor": "white",
             "minorgridcolor": "white",
             "startlinecolor": "#2a3f5f"
            },
            "type": "carpet"
           }
          ],
          "choropleth": [
           {
            "colorbar": {
             "outlinewidth": 0,
             "ticks": ""
            },
            "type": "choropleth"
           }
          ],
          "contour": [
           {
            "colorbar": {
             "outlinewidth": 0,
             "ticks": ""
            },
            "colorscale": [
             [
              0,
              "#0d0887"
             ],
             [
              0.1111111111111111,
              "#46039f"
             ],
             [
              0.2222222222222222,
              "#7201a8"
             ],
             [
              0.3333333333333333,
              "#9c179e"
             ],
             [
              0.4444444444444444,
              "#bd3786"
             ],
             [
              0.5555555555555556,
              "#d8576b"
             ],
             [
              0.6666666666666666,
              "#ed7953"
             ],
             [
              0.7777777777777778,
              "#fb9f3a"
             ],
             [
              0.8888888888888888,
              "#fdca26"
             ],
             [
              1,
              "#f0f921"
             ]
            ],
            "type": "contour"
           }
          ],
          "contourcarpet": [
           {
            "colorbar": {
             "outlinewidth": 0,
             "ticks": ""
            },
            "type": "contourcarpet"
           }
          ],
          "heatmap": [
           {
            "colorbar": {
             "outlinewidth": 0,
             "ticks": ""
            },
            "colorscale": [
             [
              0,
              "#0d0887"
             ],
             [
              0.1111111111111111,
              "#46039f"
             ],
             [
              0.2222222222222222,
              "#7201a8"
             ],
             [
              0.3333333333333333,
              "#9c179e"
             ],
             [
              0.4444444444444444,
              "#bd3786"
             ],
             [
              0.5555555555555556,
              "#d8576b"
             ],
             [
              0.6666666666666666,
              "#ed7953"
             ],
             [
              0.7777777777777778,
              "#fb9f3a"
             ],
             [
              0.8888888888888888,
              "#fdca26"
             ],
             [
              1,
              "#f0f921"
             ]
            ],
            "type": "heatmap"
           }
          ],
          "heatmapgl": [
           {
            "colorbar": {
             "outlinewidth": 0,
             "ticks": ""
            },
            "colorscale": [
             [
              0,
              "#0d0887"
             ],
             [
              0.1111111111111111,
              "#46039f"
             ],
             [
              0.2222222222222222,
              "#7201a8"
             ],
             [
              0.3333333333333333,
              "#9c179e"
             ],
             [
              0.4444444444444444,
              "#bd3786"
             ],
             [
              0.5555555555555556,
              "#d8576b"
             ],
             [
              0.6666666666666666,
              "#ed7953"
             ],
             [
              0.7777777777777778,
              "#fb9f3a"
             ],
             [
              0.8888888888888888,
              "#fdca26"
             ],
             [
              1,
              "#f0f921"
             ]
            ],
            "type": "heatmapgl"
           }
          ],
          "histogram": [
           {
            "marker": {
             "colorbar": {
              "outlinewidth": 0,
              "ticks": ""
             }
            },
            "type": "histogram"
           }
          ],
          "histogram2d": [
           {
            "colorbar": {
             "outlinewidth": 0,
             "ticks": ""
            },
            "colorscale": [
             [
              0,
              "#0d0887"
             ],
             [
              0.1111111111111111,
              "#46039f"
             ],
             [
              0.2222222222222222,
              "#7201a8"
             ],
             [
              0.3333333333333333,
              "#9c179e"
             ],
             [
              0.4444444444444444,
              "#bd3786"
             ],
             [
              0.5555555555555556,
              "#d8576b"
             ],
             [
              0.6666666666666666,
              "#ed7953"
             ],
             [
              0.7777777777777778,
              "#fb9f3a"
             ],
             [
              0.8888888888888888,
              "#fdca26"
             ],
             [
              1,
              "#f0f921"
             ]
            ],
            "type": "histogram2d"
           }
          ],
          "histogram2dcontour": [
           {
            "colorbar": {
             "outlinewidth": 0,
             "ticks": ""
            },
            "colorscale": [
             [
              0,
              "#0d0887"
             ],
             [
              0.1111111111111111,
              "#46039f"
             ],
             [
              0.2222222222222222,
              "#7201a8"
             ],
             [
              0.3333333333333333,
              "#9c179e"
             ],
             [
              0.4444444444444444,
              "#bd3786"
             ],
             [
              0.5555555555555556,
              "#d8576b"
             ],
             [
              0.6666666666666666,
              "#ed7953"
             ],
             [
              0.7777777777777778,
              "#fb9f3a"
             ],
             [
              0.8888888888888888,
              "#fdca26"
             ],
             [
              1,
              "#f0f921"
             ]
            ],
            "type": "histogram2dcontour"
           }
          ],
          "mesh3d": [
           {
            "colorbar": {
             "outlinewidth": 0,
             "ticks": ""
            },
            "type": "mesh3d"
           }
          ],
          "parcoords": [
           {
            "line": {
             "colorbar": {
              "outlinewidth": 0,
              "ticks": ""
             }
            },
            "type": "parcoords"
           }
          ],
          "pie": [
           {
            "automargin": true,
            "type": "pie"
           }
          ],
          "scatter": [
           {
            "marker": {
             "colorbar": {
              "outlinewidth": 0,
              "ticks": ""
             }
            },
            "type": "scatter"
           }
          ],
          "scatter3d": [
           {
            "line": {
             "colorbar": {
              "outlinewidth": 0,
              "ticks": ""
             }
            },
            "marker": {
             "colorbar": {
              "outlinewidth": 0,
              "ticks": ""
             }
            },
            "type": "scatter3d"
           }
          ],
          "scattercarpet": [
           {
            "marker": {
             "colorbar": {
              "outlinewidth": 0,
              "ticks": ""
             }
            },
            "type": "scattercarpet"
           }
          ],
          "scattergeo": [
           {
            "marker": {
             "colorbar": {
              "outlinewidth": 0,
              "ticks": ""
             }
            },
            "type": "scattergeo"
           }
          ],
          "scattergl": [
           {
            "marker": {
             "colorbar": {
              "outlinewidth": 0,
              "ticks": ""
             }
            },
            "type": "scattergl"
           }
          ],
          "scattermapbox": [
           {
            "marker": {
             "colorbar": {
              "outlinewidth": 0,
              "ticks": ""
             }
            },
            "type": "scattermapbox"
           }
          ],
          "scatterpolar": [
           {
            "marker": {
             "colorbar": {
              "outlinewidth": 0,
              "ticks": ""
             }
            },
            "type": "scatterpolar"
           }
          ],
          "scatterpolargl": [
           {
            "marker": {
             "colorbar": {
              "outlinewidth": 0,
              "ticks": ""
             }
            },
            "type": "scatterpolargl"
           }
          ],
          "scatterternary": [
           {
            "marker": {
             "colorbar": {
              "outlinewidth": 0,
              "ticks": ""
             }
            },
            "type": "scatterternary"
           }
          ],
          "surface": [
           {
            "colorbar": {
             "outlinewidth": 0,
             "ticks": ""
            },
            "colorscale": [
             [
              0,
              "#0d0887"
             ],
             [
              0.1111111111111111,
              "#46039f"
             ],
             [
              0.2222222222222222,
              "#7201a8"
             ],
             [
              0.3333333333333333,
              "#9c179e"
             ],
             [
              0.4444444444444444,
              "#bd3786"
             ],
             [
              0.5555555555555556,
              "#d8576b"
             ],
             [
              0.6666666666666666,
              "#ed7953"
             ],
             [
              0.7777777777777778,
              "#fb9f3a"
             ],
             [
              0.8888888888888888,
              "#fdca26"
             ],
             [
              1,
              "#f0f921"
             ]
            ],
            "type": "surface"
           }
          ],
          "table": [
           {
            "cells": {
             "fill": {
              "color": "#EBF0F8"
             },
             "line": {
              "color": "white"
             }
            },
            "header": {
             "fill": {
              "color": "#C8D4E3"
             },
             "line": {
              "color": "white"
             }
            },
            "type": "table"
           }
          ]
         },
         "layout": {
          "annotationdefaults": {
           "arrowcolor": "#2a3f5f",
           "arrowhead": 0,
           "arrowwidth": 1
          },
          "coloraxis": {
           "colorbar": {
            "outlinewidth": 0,
            "ticks": ""
           }
          },
          "colorscale": {
           "diverging": [
            [
             0,
             "#8e0152"
            ],
            [
             0.1,
             "#c51b7d"
            ],
            [
             0.2,
             "#de77ae"
            ],
            [
             0.3,
             "#f1b6da"
            ],
            [
             0.4,
             "#fde0ef"
            ],
            [
             0.5,
             "#f7f7f7"
            ],
            [
             0.6,
             "#e6f5d0"
            ],
            [
             0.7,
             "#b8e186"
            ],
            [
             0.8,
             "#7fbc41"
            ],
            [
             0.9,
             "#4d9221"
            ],
            [
             1,
             "#276419"
            ]
           ],
           "sequential": [
            [
             0,
             "#0d0887"
            ],
            [
             0.1111111111111111,
             "#46039f"
            ],
            [
             0.2222222222222222,
             "#7201a8"
            ],
            [
             0.3333333333333333,
             "#9c179e"
            ],
            [
             0.4444444444444444,
             "#bd3786"
            ],
            [
             0.5555555555555556,
             "#d8576b"
            ],
            [
             0.6666666666666666,
             "#ed7953"
            ],
            [
             0.7777777777777778,
             "#fb9f3a"
            ],
            [
             0.8888888888888888,
             "#fdca26"
            ],
            [
             1,
             "#f0f921"
            ]
           ],
           "sequentialminus": [
            [
             0,
             "#0d0887"
            ],
            [
             0.1111111111111111,
             "#46039f"
            ],
            [
             0.2222222222222222,
             "#7201a8"
            ],
            [
             0.3333333333333333,
             "#9c179e"
            ],
            [
             0.4444444444444444,
             "#bd3786"
            ],
            [
             0.5555555555555556,
             "#d8576b"
            ],
            [
             0.6666666666666666,
             "#ed7953"
            ],
            [
             0.7777777777777778,
             "#fb9f3a"
            ],
            [
             0.8888888888888888,
             "#fdca26"
            ],
            [
             1,
             "#f0f921"
            ]
           ]
          },
          "colorway": [
           "#636efa",
           "#EF553B",
           "#00cc96",
           "#ab63fa",
           "#FFA15A",
           "#19d3f3",
           "#FF6692",
           "#B6E880",
           "#FF97FF",
           "#FECB52"
          ],
          "font": {
           "color": "#2a3f5f"
          },
          "geo": {
           "bgcolor": "white",
           "lakecolor": "white",
           "landcolor": "#E5ECF6",
           "showlakes": true,
           "showland": true,
           "subunitcolor": "white"
          },
          "hoverlabel": {
           "align": "left"
          },
          "hovermode": "closest",
          "mapbox": {
           "style": "light"
          },
          "paper_bgcolor": "white",
          "plot_bgcolor": "#E5ECF6",
          "polar": {
           "angularaxis": {
            "gridcolor": "white",
            "linecolor": "white",
            "ticks": ""
           },
           "bgcolor": "#E5ECF6",
           "radialaxis": {
            "gridcolor": "white",
            "linecolor": "white",
            "ticks": ""
           }
          },
          "scene": {
           "xaxis": {
            "backgroundcolor": "#E5ECF6",
            "gridcolor": "white",
            "gridwidth": 2,
            "linecolor": "white",
            "showbackground": true,
            "ticks": "",
            "zerolinecolor": "white"
           },
           "yaxis": {
            "backgroundcolor": "#E5ECF6",
            "gridcolor": "white",
            "gridwidth": 2,
            "linecolor": "white",
            "showbackground": true,
            "ticks": "",
            "zerolinecolor": "white"
           },
           "zaxis": {
            "backgroundcolor": "#E5ECF6",
            "gridcolor": "white",
            "gridwidth": 2,
            "linecolor": "white",
            "showbackground": true,
            "ticks": "",
            "zerolinecolor": "white"
           }
          },
          "shapedefaults": {
           "line": {
            "color": "#2a3f5f"
           }
          },
          "ternary": {
           "aaxis": {
            "gridcolor": "white",
            "linecolor": "white",
            "ticks": ""
           },
           "baxis": {
            "gridcolor": "white",
            "linecolor": "white",
            "ticks": ""
           },
           "bgcolor": "#E5ECF6",
           "caxis": {
            "gridcolor": "white",
            "linecolor": "white",
            "ticks": ""
           }
          },
          "title": {
           "x": 0.05
          },
          "xaxis": {
           "automargin": true,
           "gridcolor": "white",
           "linecolor": "white",
           "ticks": "",
           "title": {
            "standoff": 15
           },
           "zerolinecolor": "white",
           "zerolinewidth": 2
          },
          "yaxis": {
           "automargin": true,
           "gridcolor": "white",
           "linecolor": "white",
           "ticks": "",
           "title": {
            "standoff": 15
           },
           "zerolinecolor": "white",
           "zerolinewidth": 2
          }
         }
        },
        "xaxis": {
         "anchor": "y",
         "domain": [
          0,
          1
         ],
         "title": {
          "text": "income"
         }
        },
        "yaxis": {
         "anchor": "x",
         "domain": [
          0,
          1
         ],
         "title": {
          "text": "international"
         }
        }
       }
      },
      "text/html": [
       "<div>\n",
       "        \n",
       "        \n",
       "            <div id=\"e4ab1a91-f20f-4538-a536-5613dc7abdd1\" class=\"plotly-graph-div\" style=\"height:525px; width:100%;\"></div>\n",
       "            <script type=\"text/javascript\">\n",
       "                require([\"plotly\"], function(Plotly) {\n",
       "                    window.PLOTLYENV=window.PLOTLYENV || {};\n",
       "                    \n",
       "                if (document.getElementById(\"e4ab1a91-f20f-4538-a536-5613dc7abdd1\")) {\n",
       "                    Plotly.newPlot(\n",
       "                        'e4ab1a91-f20f-4538-a536-5613dc7abdd1',\n",
       "                        [{\"hovertemplate\": \"income=%{x}<br>international=%{y}<br>year=%{marker.color}<extra></extra>\", \"legendgroup\": \"\", \"marker\": {\"color\": [2011, 2011, 2011, 2011, 2011, 2011, 2011, 2011, 2011, 2011, 2011, 2011, 2011, 2011, 2011, 2011, 2011, 2011, 2011, 2011, 2011, 2011, 2011, 2011, 2011, 2012, 2012, 2012, 2012, 2012, 2012, 2012, 2012, 2012, 2012, 2012, 2012, 2012, 2012, 2012, 2012, 2012, 2012, 2012, 2012, 2012, 2012, 2012, 2012, 2012, 2012, 2012, 2012, 2012, 2012, 2012, 2012, 2012, 2012, 2012, 2012, 2012, 2012, 2012, 2012, 2013, 2013, 2013, 2013, 2013, 2013, 2013, 2013, 2013, 2013, 2013, 2013, 2013, 2013, 2013, 2013, 2013, 2013, 2013, 2013, 2013, 2013, 2013, 2013, 2013, 2013, 2013, 2013, 2013, 2013, 2013, 2013, 2013, 2013, 2013, 2013, 2013, 2013, 2013, 2013, 2013, 2014, 2014, 2014, 2014, 2014, 2014, 2014, 2014, 2014, 2014, 2014, 2014, 2014, 2014, 2014, 2014, 2014, 2014, 2014, 2014, 2014, 2014, 2014, 2014, 2014, 2014, 2014, 2014, 2014, 2014, 2014, 2014, 2014, 2014, 2014, 2014, 2014, 2014, 2014, 2014, 2015, 2015, 2015, 2015, 2015, 2015, 2015, 2015, 2015, 2015, 2015, 2015, 2015, 2015, 2015, 2015, 2015, 2015, 2015, 2015, 2015, 2015, 2015, 2015, 2015, 2015, 2015, 2015, 2015, 2015, 2015, 2015, 2015, 2015, 2015, 2015, 2015, 2015, 2015, 2015, 2015, 2016, 2016, 2016, 2016, 2016, 2016, 2016, 2016, 2016, 2016, 2016, 2016, 2016, 2016, 2016, 2016, 2016, 2016, 2016, 2016, 2016, 2016, 2016, 2016, 2016, 2016, 2016, 2016, 2016, 2016, 2016, 2016, 2016, 2016, 2016, 2016, 2016, 2016, 2016, 2016, 2016, 2016, 2016, 2016, 2016, 2016, 2016, 2016, 2016, 2016, 2016, 2016, 2016, 2016, 2016, 2016, 2016, 2016, 2016, 2016, 2016, 2016, 2016, 2016, 2016, 2016, 2016, 2016, 2016], \"coloraxis\": \"coloraxis\", \"symbol\": \"circle\"}, \"mode\": \"markers\", \"name\": \"\", \"showlegend\": false, \"type\": \"scatter\", \"x\": [58.18333333333333, 31.0, 97.4, 41.666666666666664, 70.26, 61.03333333333333, 36.0, 30.2, 27.73333333333333, 41.87, 51.125, 70.825, 69.8375, 61.1, 41.5, 31.6, 40.25, 70.85, 35.0, 57.56666666666666, 40.56, 55.525000000000006, 38.15, 41.38275862068965, 56.96, 49.13809523809523, 38.46, 66.92857142857143, 38.25, 50.576470588235296, 29.7, 68.84, 24.5, 60.8, 34.5, 26.3, 41.67999999999999, 34.31428571428571, 42.34761904761905, 33.2, 51.28333333333333, 75.4, 24.2, 93.1, 30.525, 41.971428571428575, 49.84375, 63.699999999999996, 36.26, 38.4, 25.8, 34.025, 31.72, 53.0, 52.55, 99.03333333333335, 74.21428571428571, 36.599999999999994, 55.64, 41.666666666666664, 55.949999999999996, 29.0, 51.599999999999994, 36.8, 46.724137931034484, 53.44210526315789, 39.1, 68.34285714285714, 42.45, 52.422222222222224, 66.2, 28.4, 28.1, 64.52000000000001, 30.1, 52.4, 44.16, 46.71363636363637, 34.1, 48.0, 74.4, 65.16666666666667, 93.0, 41.2, 42.05, 52.638461538461534, 36.0, 73.73846153846155, 50.13333333333333, 36.7, 28.7, 36.1, 35.760000000000005, 64.85, 40.2, 88.45, 77.69999999999999, 81.43333333333334, 35.07142857142858, 56.63000000000001, 45.416666666666664, 66.05714285714285, 60.2, 52.96, 40.808333333333344, 47.43333333333334, 54.25789473684211, 40.2, 76.28333333333333, 44.55, 52.21666666666666, 68.39, 30.6, 29.0, 63.980000000000004, 30.3, 37.275, 43.17272727272728, 49.29090909090908, 35.0, 48.0, 78.5, 45.199999999999996, 98.3, 38.06666666666667, 42.226666666666674, 61.154545454545456, 74.38461538461537, 51.42, 38.150000000000006, 28.3, 37.05, 38.52, 72.2, 66.80000000000001, 82.15, 93.5, 82.89999999999999, 40.73333333333333, 57.75555555555555, 54.050000000000004, 65.95, 62.2, 51.760000000000005, 38.71632653061225, 47.29767441860465, 52.245000000000005, 39.879999999999995, 71.02857142857142, 42.3, 50.305555555555564, 28.1, 72.25454545454545, 36.5, 29.4, 63.85999999999999, 46.20000000000001, 42.400000000000006, 52.640740740740746, 36.0, 46.31666666666666, 64.0, 46.225, 85.15, 36.86666666666667, 41.42941176470589, 58.34166666666667, 33.6, 28.6, 74.96153846153847, 51.06, 38.650000000000006, 28.5, 39.2, 36.36, 55.95, 76.7, 92.5, 81.34444444444445, 42.449999999999996, 57.111111111111114, 60.56249999999999, 70.06666666666666, 56.5, 48.98333333333334, 38.117777777777775, 48.37032967032967, 28.6, 48.80645161290323, 47.771428571428565, 28.0, 73.52857142857144, 46.054545454545455, 47.268, 35.9, 69.04999999999998, 35.8, 30.0, 30.966666666666672, 45.050000000000004, 30.0, 38.15, 45.62222222222222, 33.75416666666667, 68.37714285714286, 42.68333333333334, 47.21666666666667, 32.260000000000005, 28.0, 40.40588235294119, 40.0, 62.65714285714285, 31.916666666666668, 40.15294117647059, 47.39487179487178, 30.1, 28.0, 28.3, 41.0, 38.1, 34.9, 31.28, 69.75, 29.2, 73.02307692307693, 43.17142857142857, 29.2, 40.775, 37.6, 31.3, 32.916666666666664, 40.1, 55.2, 37.2, 28.766666666666666, 47.615384615384606, 70.56666666666668, 45.6, 74.85, 30.6, 35.5, 68.63333333333333, 60.99583333333336, 35.56, 55.23636363636364, 67.02222222222221, 53.11666666666665, 45.34285714285715, 59.33636363636364, 28.0, 28.4, 44.7, 31.7, 34.31447368421054, 44.50220588235294, 34.6], \"xaxis\": \"x\", \"y\": [82.85000000000001, 81.35, 27.15, 72.26666666666667, 44.14, 47.73333333333333, 19.3, 24.2, 37.733333333333334, 51.510000000000005, 85.875, 20.85, 43.949999999999996, 94.3, 66.6, 84.2, 97.05, 35.550000000000004, 33.2, 66.3, 91.8, 35.625, 37.45, 74.60344827586206, 41.00666666666667, 77.80952380952381, 76.03999999999999, 63.671428571428564, 21.0, 62.405882352941184, 45.5, 25.880000000000003, 51.4, 71.66, 31.6, 42.0, 41.800000000000004, 65.85714285714286, 55.42857142857144, 42.6, 69.38333333333334, 56.9, 14.3, 12.7, 44.75, 33.949999999999996, 21.156250000000004, 60.10833333333334, 86.8, 64.65, 39.5, 48.625, 79.4, 45.7, 91.4, 63.333333333333336, 25.042857142857144, 39.35, 59.169999999999995, 90.08333333333333, 17.9375, 45.0, 31.775000000000002, 76.92499999999998, 35.02988505747127, 75.78421052631579, 74.46000000000001, 60.41428571428571, 22.7, 60.1888888888889, 34.56666666666667, 53.0, 50.3, 70.28, 42.4, 44.9, 63.84000000000001, 53.3909090909091, 44.4, 68.96666666666665, 59.9, 17.2, 16.7, 48.56666666666666, 36.971428571428575, 26.015384615384615, 33.2, 60.93846153846154, 84.18333333333332, 62.325, 40.75, 45.333333333333336, 74.2, 34.55, 71.0, 91.4, 61.05, 29.750000000000004, 40.35714285714285, 58.410000000000004, 88.0, 23.628571428571433, 23.8, 36.06, 76.48958333333333, 39.333333333333336, 79.13684210526317, 73.38333333333334, 59.01666666666667, 21.95, 62.68888888888888, 35.43, 55.7, 53.2, 71.56, 43.7, 47.300000000000004, 63.709090909090925, 53.88636363636365, 47.1, 68.7, 59.9, 20.733333333333334, 20.7, 51.96666666666666, 39.89333333333333, 27.927272727272733, 63.600000000000016, 85.22, 61.74999999999999, 42.8, 45.4, 74.48, 55.7, 73.25, 92.65, 64.03333333333335, 34.94285714285714, 40.48888888888889, 60.21111111111111, 89.4625, 25.162499999999998, 24.4, 43.64, 77.11836734693878, 42.52674418604651, 78.74499999999999, 79.64, 62.15714285714286, 23.0, 65.8888888888889, 48.7, 35.77272727272728, 54.6, 53.9, 70.14, 50.699999999999996, 66.34545454545456, 54.777777777777786, 47.0, 71.2, 59.1, 20.875, 19.7, 53.333333333333336, 42.670588235294126, 31.733333333333338, 73.3, 45.1, 65.54615384615386, 84.3, 60.075, 41.6, 48.25, 77.67999999999999, 52.099999999999994, 93.7, 63.6, 36.36666666666667, 49.349999999999994, 59.400000000000006, 90.0625, 26.766666666666666, 22.5, 44.85, 79.21111111111112, 44.856043956043955, 28.1, 78.17096774193547, 77.71428571428571, 48.2, 68.64285714285714, 21.2, 66.52, 45.559999999999995, 23.82777777777778, 46.85, 74.7, 36.266666666666666, 79.41666666666667, 32.35, 42.0, 53.599999999999994, 61.166666666666664, 53.534285714285716, 36.93333333333333, 82.78333333333335, 50.559999999999995, 61.0, 15.235294117647056, 37.2, 12.57142857142857, 50.333333333333336, 37.16470588235293, 22.66153846153846, 57.95, 45.5, 31.5, 40.8, 99.8, 98.4, 38.1, 47.75, 42.7, 70.39999999999999, 89.04285714285716, 26.1, 66.05, 71.5, 31.3, 26.016666666666666, 45.12857142857143, 99.9, 79.80000000000001, 34.53333333333333, 31.053846153846152, 84.33333333333333, 30.5, 95.4, 38.75, 34.05, 55.28333333333334, 30.600000000000005, 40.908, 60.80909090909092, 93.11111111111111, 22.908333333333335, 32.67142857142857, 28.872727272727275, 58.0, 38.3, 63.4, 95.3, 78.49605263157896, 42.717647058823545, 92.5], \"yaxis\": \"y\"}],\n",
       "                        {\"coloraxis\": {\"colorbar\": {\"title\": {\"text\": \"year\"}}, \"colorscale\": [[0.0, \"#0d0887\"], [0.1111111111111111, \"#46039f\"], [0.2222222222222222, \"#7201a8\"], [0.3333333333333333, \"#9c179e\"], [0.4444444444444444, \"#bd3786\"], [0.5555555555555556, \"#d8576b\"], [0.6666666666666666, \"#ed7953\"], [0.7777777777777778, \"#fb9f3a\"], [0.8888888888888888, \"#fdca26\"], [1.0, \"#f0f921\"]]}, \"legend\": {\"tracegroupgap\": 0}, \"margin\": {\"t\": 60}, \"template\": {\"data\": {\"bar\": [{\"error_x\": {\"color\": \"#2a3f5f\"}, \"error_y\": {\"color\": \"#2a3f5f\"}, \"marker\": {\"line\": {\"color\": \"#E5ECF6\", \"width\": 0.5}}, \"type\": \"bar\"}], \"barpolar\": [{\"marker\": {\"line\": {\"color\": \"#E5ECF6\", \"width\": 0.5}}, \"type\": \"barpolar\"}], \"carpet\": [{\"aaxis\": {\"endlinecolor\": \"#2a3f5f\", \"gridcolor\": \"white\", \"linecolor\": \"white\", \"minorgridcolor\": \"white\", \"startlinecolor\": \"#2a3f5f\"}, \"baxis\": {\"endlinecolor\": \"#2a3f5f\", \"gridcolor\": \"white\", \"linecolor\": \"white\", \"minorgridcolor\": \"white\", \"startlinecolor\": \"#2a3f5f\"}, \"type\": \"carpet\"}], \"choropleth\": [{\"colorbar\": {\"outlinewidth\": 0, \"ticks\": \"\"}, \"type\": \"choropleth\"}], \"contour\": [{\"colorbar\": {\"outlinewidth\": 0, \"ticks\": \"\"}, \"colorscale\": [[0.0, \"#0d0887\"], [0.1111111111111111, \"#46039f\"], [0.2222222222222222, \"#7201a8\"], [0.3333333333333333, \"#9c179e\"], [0.4444444444444444, \"#bd3786\"], [0.5555555555555556, \"#d8576b\"], [0.6666666666666666, \"#ed7953\"], [0.7777777777777778, \"#fb9f3a\"], [0.8888888888888888, \"#fdca26\"], [1.0, \"#f0f921\"]], \"type\": \"contour\"}], \"contourcarpet\": [{\"colorbar\": {\"outlinewidth\": 0, \"ticks\": \"\"}, \"type\": \"contourcarpet\"}], \"heatmap\": [{\"colorbar\": {\"outlinewidth\": 0, \"ticks\": \"\"}, \"colorscale\": [[0.0, \"#0d0887\"], [0.1111111111111111, \"#46039f\"], [0.2222222222222222, \"#7201a8\"], [0.3333333333333333, \"#9c179e\"], [0.4444444444444444, \"#bd3786\"], [0.5555555555555556, \"#d8576b\"], [0.6666666666666666, \"#ed7953\"], [0.7777777777777778, \"#fb9f3a\"], [0.8888888888888888, \"#fdca26\"], [1.0, \"#f0f921\"]], \"type\": \"heatmap\"}], \"heatmapgl\": [{\"colorbar\": {\"outlinewidth\": 0, \"ticks\": \"\"}, \"colorscale\": [[0.0, \"#0d0887\"], [0.1111111111111111, \"#46039f\"], [0.2222222222222222, \"#7201a8\"], [0.3333333333333333, \"#9c179e\"], [0.4444444444444444, \"#bd3786\"], [0.5555555555555556, \"#d8576b\"], [0.6666666666666666, \"#ed7953\"], [0.7777777777777778, \"#fb9f3a\"], [0.8888888888888888, \"#fdca26\"], [1.0, \"#f0f921\"]], \"type\": \"heatmapgl\"}], \"histogram\": [{\"marker\": {\"colorbar\": {\"outlinewidth\": 0, \"ticks\": \"\"}}, \"type\": \"histogram\"}], \"histogram2d\": [{\"colorbar\": {\"outlinewidth\": 0, \"ticks\": \"\"}, \"colorscale\": [[0.0, \"#0d0887\"], [0.1111111111111111, \"#46039f\"], [0.2222222222222222, \"#7201a8\"], [0.3333333333333333, \"#9c179e\"], [0.4444444444444444, \"#bd3786\"], [0.5555555555555556, \"#d8576b\"], [0.6666666666666666, \"#ed7953\"], [0.7777777777777778, \"#fb9f3a\"], [0.8888888888888888, \"#fdca26\"], [1.0, \"#f0f921\"]], \"type\": \"histogram2d\"}], \"histogram2dcontour\": [{\"colorbar\": {\"outlinewidth\": 0, \"ticks\": \"\"}, \"colorscale\": [[0.0, \"#0d0887\"], [0.1111111111111111, \"#46039f\"], [0.2222222222222222, \"#7201a8\"], [0.3333333333333333, \"#9c179e\"], [0.4444444444444444, \"#bd3786\"], [0.5555555555555556, \"#d8576b\"], [0.6666666666666666, \"#ed7953\"], [0.7777777777777778, \"#fb9f3a\"], [0.8888888888888888, \"#fdca26\"], [1.0, \"#f0f921\"]], \"type\": \"histogram2dcontour\"}], \"mesh3d\": [{\"colorbar\": {\"outlinewidth\": 0, \"ticks\": \"\"}, \"type\": \"mesh3d\"}], \"parcoords\": [{\"line\": {\"colorbar\": {\"outlinewidth\": 0, \"ticks\": \"\"}}, \"type\": \"parcoords\"}], \"pie\": [{\"automargin\": true, \"type\": \"pie\"}], \"scatter\": [{\"marker\": {\"colorbar\": {\"outlinewidth\": 0, \"ticks\": \"\"}}, \"type\": \"scatter\"}], \"scatter3d\": [{\"line\": {\"colorbar\": {\"outlinewidth\": 0, \"ticks\": \"\"}}, \"marker\": {\"colorbar\": {\"outlinewidth\": 0, \"ticks\": \"\"}}, \"type\": \"scatter3d\"}], \"scattercarpet\": [{\"marker\": {\"colorbar\": {\"outlinewidth\": 0, \"ticks\": \"\"}}, \"type\": \"scattercarpet\"}], \"scattergeo\": [{\"marker\": {\"colorbar\": {\"outlinewidth\": 0, \"ticks\": \"\"}}, \"type\": \"scattergeo\"}], \"scattergl\": [{\"marker\": {\"colorbar\": {\"outlinewidth\": 0, \"ticks\": \"\"}}, \"type\": \"scattergl\"}], \"scattermapbox\": [{\"marker\": {\"colorbar\": {\"outlinewidth\": 0, \"ticks\": \"\"}}, \"type\": \"scattermapbox\"}], \"scatterpolar\": [{\"marker\": {\"colorbar\": {\"outlinewidth\": 0, \"ticks\": \"\"}}, \"type\": \"scatterpolar\"}], \"scatterpolargl\": [{\"marker\": {\"colorbar\": {\"outlinewidth\": 0, \"ticks\": \"\"}}, \"type\": \"scatterpolargl\"}], \"scatterternary\": [{\"marker\": {\"colorbar\": {\"outlinewidth\": 0, \"ticks\": \"\"}}, \"type\": \"scatterternary\"}], \"surface\": [{\"colorbar\": {\"outlinewidth\": 0, \"ticks\": \"\"}, \"colorscale\": [[0.0, \"#0d0887\"], [0.1111111111111111, \"#46039f\"], [0.2222222222222222, \"#7201a8\"], [0.3333333333333333, \"#9c179e\"], [0.4444444444444444, \"#bd3786\"], [0.5555555555555556, \"#d8576b\"], [0.6666666666666666, \"#ed7953\"], [0.7777777777777778, \"#fb9f3a\"], [0.8888888888888888, \"#fdca26\"], [1.0, \"#f0f921\"]], \"type\": \"surface\"}], \"table\": [{\"cells\": {\"fill\": {\"color\": \"#EBF0F8\"}, \"line\": {\"color\": \"white\"}}, \"header\": {\"fill\": {\"color\": \"#C8D4E3\"}, \"line\": {\"color\": \"white\"}}, \"type\": \"table\"}]}, \"layout\": {\"annotationdefaults\": {\"arrowcolor\": \"#2a3f5f\", \"arrowhead\": 0, \"arrowwidth\": 1}, \"coloraxis\": {\"colorbar\": {\"outlinewidth\": 0, \"ticks\": \"\"}}, \"colorscale\": {\"diverging\": [[0, \"#8e0152\"], [0.1, \"#c51b7d\"], [0.2, \"#de77ae\"], [0.3, \"#f1b6da\"], [0.4, \"#fde0ef\"], [0.5, \"#f7f7f7\"], [0.6, \"#e6f5d0\"], [0.7, \"#b8e186\"], [0.8, \"#7fbc41\"], [0.9, \"#4d9221\"], [1, \"#276419\"]], \"sequential\": [[0.0, \"#0d0887\"], [0.1111111111111111, \"#46039f\"], [0.2222222222222222, \"#7201a8\"], [0.3333333333333333, \"#9c179e\"], [0.4444444444444444, \"#bd3786\"], [0.5555555555555556, \"#d8576b\"], [0.6666666666666666, \"#ed7953\"], [0.7777777777777778, \"#fb9f3a\"], [0.8888888888888888, \"#fdca26\"], [1.0, \"#f0f921\"]], \"sequentialminus\": [[0.0, \"#0d0887\"], [0.1111111111111111, \"#46039f\"], [0.2222222222222222, \"#7201a8\"], [0.3333333333333333, \"#9c179e\"], [0.4444444444444444, \"#bd3786\"], [0.5555555555555556, \"#d8576b\"], [0.6666666666666666, \"#ed7953\"], [0.7777777777777778, \"#fb9f3a\"], [0.8888888888888888, \"#fdca26\"], [1.0, \"#f0f921\"]]}, \"colorway\": [\"#636efa\", \"#EF553B\", \"#00cc96\", \"#ab63fa\", \"#FFA15A\", \"#19d3f3\", \"#FF6692\", \"#B6E880\", \"#FF97FF\", \"#FECB52\"], \"font\": {\"color\": \"#2a3f5f\"}, \"geo\": {\"bgcolor\": \"white\", \"lakecolor\": \"white\", \"landcolor\": \"#E5ECF6\", \"showlakes\": true, \"showland\": true, \"subunitcolor\": \"white\"}, \"hoverlabel\": {\"align\": \"left\"}, \"hovermode\": \"closest\", \"mapbox\": {\"style\": \"light\"}, \"paper_bgcolor\": \"white\", \"plot_bgcolor\": \"#E5ECF6\", \"polar\": {\"angularaxis\": {\"gridcolor\": \"white\", \"linecolor\": \"white\", \"ticks\": \"\"}, \"bgcolor\": \"#E5ECF6\", \"radialaxis\": {\"gridcolor\": \"white\", \"linecolor\": \"white\", \"ticks\": \"\"}}, \"scene\": {\"xaxis\": {\"backgroundcolor\": \"#E5ECF6\", \"gridcolor\": \"white\", \"gridwidth\": 2, \"linecolor\": \"white\", \"showbackground\": true, \"ticks\": \"\", \"zerolinecolor\": \"white\"}, \"yaxis\": {\"backgroundcolor\": \"#E5ECF6\", \"gridcolor\": \"white\", \"gridwidth\": 2, \"linecolor\": \"white\", \"showbackground\": true, \"ticks\": \"\", \"zerolinecolor\": \"white\"}, \"zaxis\": {\"backgroundcolor\": \"#E5ECF6\", \"gridcolor\": \"white\", \"gridwidth\": 2, \"linecolor\": \"white\", \"showbackground\": true, \"ticks\": \"\", \"zerolinecolor\": \"white\"}}, \"shapedefaults\": {\"line\": {\"color\": \"#2a3f5f\"}}, \"ternary\": {\"aaxis\": {\"gridcolor\": \"white\", \"linecolor\": \"white\", \"ticks\": \"\"}, \"baxis\": {\"gridcolor\": \"white\", \"linecolor\": \"white\", \"ticks\": \"\"}, \"bgcolor\": \"#E5ECF6\", \"caxis\": {\"gridcolor\": \"white\", \"linecolor\": \"white\", \"ticks\": \"\"}}, \"title\": {\"x\": 0.05}, \"xaxis\": {\"automargin\": true, \"gridcolor\": \"white\", \"linecolor\": \"white\", \"ticks\": \"\", \"title\": {\"standoff\": 15}, \"zerolinecolor\": \"white\", \"zerolinewidth\": 2}, \"yaxis\": {\"automargin\": true, \"gridcolor\": \"white\", \"linecolor\": \"white\", \"ticks\": \"\", \"title\": {\"standoff\": 15}, \"zerolinecolor\": \"white\", \"zerolinewidth\": 2}}}, \"xaxis\": {\"anchor\": \"y\", \"domain\": [0.0, 1.0], \"title\": {\"text\": \"income\"}}, \"yaxis\": {\"anchor\": \"x\", \"domain\": [0.0, 1.0], \"title\": {\"text\": \"international\"}}},\n",
       "                        {\"responsive\": true}\n",
       "                    ).then(function(){\n",
       "                            \n",
       "var gd = document.getElementById('e4ab1a91-f20f-4538-a536-5613dc7abdd1');\n",
       "var x = new MutationObserver(function (mutations, observer) {{\n",
       "        var display = window.getComputedStyle(gd).display;\n",
       "        if (!display || display === 'none') {{\n",
       "            console.log([gd, 'removed!']);\n",
       "            Plotly.purge(gd);\n",
       "            observer.disconnect();\n",
       "        }}\n",
       "}});\n",
       "\n",
       "// Listen for the removal of the full notebook cells\n",
       "var notebookContainer = gd.closest('#notebook-container');\n",
       "if (notebookContainer) {{\n",
       "    x.observe(notebookContainer, {childList: true});\n",
       "}}\n",
       "\n",
       "// Listen for the clearing of the current output cell\n",
       "var outputEl = gd.closest('.output');\n",
       "if (outputEl) {{\n",
       "    x.observe(outputEl, {childList: true});\n",
       "}}\n",
       "\n",
       "                        })\n",
       "                };\n",
       "                });\n",
       "            </script>\n",
       "        </div>"
      ]
     },
     "metadata": {},
     "output_type": "display_data"
    }
   ],
   "source": [
    "import plotly.express as px\n",
    "#df = px.data.iris()\n",
    "fig = px.scatter(df1, x=\"income\", y=\"international\", color=\"year\")\n",
    "fig.show()\n"
   ]
  },
  {
   "cell_type": "code",
   "execution_count": 13,
   "metadata": {},
   "outputs": [
    {
     "data": {
      "application/vnd.plotly.v1+json": {
       "config": {
        "plotlyServerURL": "https://plot.ly"
       },
       "data": [
        {
         "hovertemplate": "year=%{marker.color}<br>income=%{x}<br>international=%{y}<extra></extra>",
         "legendgroup": "",
         "marker": {
          "color": [
           2011,
           2011,
           2011,
           2011,
           2011,
           2011,
           2011,
           2011,
           2011,
           2011,
           2011,
           2011,
           2011,
           2011,
           2011,
           2011,
           2011,
           2011,
           2011,
           2011,
           2011,
           2011,
           2011,
           2011,
           2011
          ],
          "coloraxis": "coloraxis",
          "symbol": "circle"
         },
         "mode": "markers",
         "name": "",
         "showlegend": false,
         "type": "scatter",
         "x": [
          58.18333333333333,
          31,
          97.4,
          41.666666666666664,
          70.26,
          61.03333333333333,
          36,
          30.2,
          27.73333333333333,
          41.87,
          51.125,
          70.825,
          69.8375,
          61.1,
          41.5,
          31.6,
          40.25,
          70.85,
          35,
          57.56666666666666,
          40.56,
          55.525000000000006,
          38.15,
          41.38275862068965,
          56.96
         ],
         "xaxis": "x",
         "y": [
          82.85000000000001,
          81.35,
          27.15,
          72.26666666666667,
          44.14,
          47.73333333333333,
          19.3,
          24.2,
          37.733333333333334,
          51.510000000000005,
          85.875,
          20.85,
          43.949999999999996,
          94.3,
          66.6,
          84.2,
          97.05,
          35.550000000000004,
          33.2,
          66.3,
          91.8,
          35.625,
          37.45,
          74.60344827586206,
          41.00666666666667
         ],
         "yaxis": "y"
        },
        {
         "hovertemplate": "year=%{marker.color}<br>income=%{x}<br>international=%{y}<extra></extra>",
         "legendgroup": "",
         "marker": {
          "color": [
           2012,
           2012,
           2012,
           2012,
           2012,
           2012,
           2012,
           2012,
           2012,
           2012,
           2012,
           2012,
           2012,
           2012,
           2012,
           2012,
           2012,
           2012,
           2012,
           2012,
           2012,
           2012,
           2012,
           2012,
           2012,
           2012,
           2012,
           2012,
           2012,
           2012,
           2012,
           2012,
           2012,
           2012,
           2012,
           2012,
           2012,
           2012,
           2012,
           2012
          ],
          "coloraxis": "coloraxis",
          "symbol": "circle"
         },
         "mode": "markers",
         "name": "",
         "showlegend": false,
         "type": "scatter",
         "x": [
          49.13809523809523,
          38.46,
          66.92857142857143,
          38.25,
          50.576470588235296,
          29.7,
          68.84,
          24.5,
          60.8,
          34.5,
          26.3,
          41.67999999999999,
          34.31428571428571,
          42.34761904761905,
          33.2,
          51.28333333333333,
          75.4,
          24.2,
          93.1,
          30.525,
          41.971428571428575,
          49.84375,
          63.699999999999996,
          36.26,
          38.4,
          25.8,
          34.025,
          31.72,
          53,
          52.55,
          99.03333333333335,
          74.21428571428571,
          36.599999999999994,
          55.64,
          41.666666666666664,
          55.949999999999996,
          29,
          51.599999999999994,
          36.8,
          46.724137931034484
         ],
         "xaxis": "x2",
         "y": [
          77.80952380952381,
          76.03999999999999,
          63.671428571428564,
          21,
          62.405882352941184,
          45.5,
          25.880000000000003,
          51.4,
          71.66,
          31.6,
          42,
          41.800000000000004,
          65.85714285714286,
          55.42857142857144,
          42.6,
          69.38333333333334,
          56.9,
          14.3,
          12.7,
          44.75,
          33.949999999999996,
          21.156250000000004,
          60.10833333333334,
          86.8,
          64.65,
          39.5,
          48.625,
          79.4,
          45.7,
          91.4,
          63.333333333333336,
          25.042857142857144,
          39.35,
          59.169999999999995,
          90.08333333333333,
          17.9375,
          45,
          31.775000000000002,
          76.92499999999998,
          35.02988505747127
         ],
         "yaxis": "y2"
        },
        {
         "hovertemplate": "year=%{marker.color}<br>income=%{x}<br>international=%{y}<extra></extra>",
         "legendgroup": "",
         "marker": {
          "color": [
           2013,
           2013,
           2013,
           2013,
           2013,
           2013,
           2013,
           2013,
           2013,
           2013,
           2013,
           2013,
           2013,
           2013,
           2013,
           2013,
           2013,
           2013,
           2013,
           2013,
           2013,
           2013,
           2013,
           2013,
           2013,
           2013,
           2013,
           2013,
           2013,
           2013,
           2013,
           2013,
           2013,
           2013,
           2013,
           2013,
           2013,
           2013,
           2013,
           2013,
           2013
          ],
          "coloraxis": "coloraxis",
          "symbol": "circle"
         },
         "mode": "markers",
         "name": "",
         "showlegend": false,
         "type": "scatter",
         "x": [
          53.44210526315789,
          39.1,
          68.34285714285714,
          42.45,
          52.422222222222224,
          66.2,
          28.4,
          28.1,
          64.52000000000001,
          30.1,
          52.4,
          44.16,
          46.71363636363637,
          34.1,
          48,
          74.4,
          65.16666666666667,
          93,
          41.2,
          42.05,
          52.638461538461534,
          36,
          73.73846153846155,
          50.13333333333333,
          36.7,
          28.7,
          36.1,
          35.760000000000005,
          64.85,
          40.2,
          88.45,
          77.69999999999999,
          81.43333333333334,
          35.07142857142858,
          56.63000000000001,
          45.416666666666664,
          66.05714285714285,
          60.2,
          52.96,
          40.808333333333344,
          47.43333333333334
         ],
         "xaxis": "x3",
         "y": [
          75.78421052631579,
          74.46000000000001,
          60.41428571428571,
          22.7,
          60.1888888888889,
          34.56666666666667,
          53,
          50.3,
          70.28,
          42.4,
          44.9,
          63.84000000000001,
          53.3909090909091,
          44.4,
          68.96666666666665,
          59.9,
          17.2,
          16.7,
          48.56666666666666,
          36.971428571428575,
          26.015384615384615,
          33.2,
          60.93846153846154,
          84.18333333333332,
          62.325,
          40.75,
          45.333333333333336,
          74.2,
          34.55,
          71,
          91.4,
          61.05,
          29.750000000000004,
          40.35714285714285,
          58.410000000000004,
          88,
          23.628571428571433,
          23.8,
          36.06,
          76.48958333333333,
          39.333333333333336
         ],
         "yaxis": "y3"
        },
        {
         "hovertemplate": "year=%{marker.color}<br>income=%{x}<br>international=%{y}<extra></extra>",
         "legendgroup": "",
         "marker": {
          "color": [
           2014,
           2014,
           2014,
           2014,
           2014,
           2014,
           2014,
           2014,
           2014,
           2014,
           2014,
           2014,
           2014,
           2014,
           2014,
           2014,
           2014,
           2014,
           2014,
           2014,
           2014,
           2014,
           2014,
           2014,
           2014,
           2014,
           2014,
           2014,
           2014,
           2014,
           2014,
           2014,
           2014,
           2014,
           2014,
           2014,
           2014,
           2014,
           2014,
           2014
          ],
          "coloraxis": "coloraxis",
          "symbol": "circle"
         },
         "mode": "markers",
         "name": "",
         "showlegend": false,
         "type": "scatter",
         "x": [
          54.25789473684211,
          40.2,
          76.28333333333333,
          44.55,
          52.21666666666666,
          68.39,
          30.6,
          29,
          63.980000000000004,
          30.3,
          37.275,
          43.17272727272728,
          49.29090909090908,
          35,
          48,
          78.5,
          45.199999999999996,
          98.3,
          38.06666666666667,
          42.226666666666674,
          61.154545454545456,
          74.38461538461537,
          51.42,
          38.150000000000006,
          28.3,
          37.05,
          38.52,
          72.2,
          66.80000000000001,
          82.15,
          93.5,
          82.89999999999999,
          40.73333333333333,
          57.75555555555555,
          54.050000000000004,
          65.95,
          62.2,
          51.760000000000005,
          38.71632653061225,
          47.29767441860465
         ],
         "xaxis": "x4",
         "y": [
          79.13684210526317,
          73.38333333333334,
          59.01666666666667,
          21.95,
          62.68888888888888,
          35.43,
          55.7,
          53.2,
          71.56,
          43.7,
          47.300000000000004,
          63.709090909090925,
          53.88636363636365,
          47.1,
          68.7,
          59.9,
          20.733333333333334,
          20.7,
          51.96666666666666,
          39.89333333333333,
          27.927272727272733,
          63.600000000000016,
          85.22,
          61.74999999999999,
          42.8,
          45.4,
          74.48,
          55.7,
          73.25,
          92.65,
          64.03333333333335,
          34.94285714285714,
          40.48888888888889,
          60.21111111111111,
          89.4625,
          25.162499999999998,
          24.4,
          43.64,
          77.11836734693878,
          42.52674418604651
         ],
         "yaxis": "y4"
        },
        {
         "hovertemplate": "year=%{marker.color}<br>income=%{x}<br>international=%{y}<extra></extra>",
         "legendgroup": "",
         "marker": {
          "color": [
           2015,
           2015,
           2015,
           2015,
           2015,
           2015,
           2015,
           2015,
           2015,
           2015,
           2015,
           2015,
           2015,
           2015,
           2015,
           2015,
           2015,
           2015,
           2015,
           2015,
           2015,
           2015,
           2015,
           2015,
           2015,
           2015,
           2015,
           2015,
           2015,
           2015,
           2015,
           2015,
           2015,
           2015,
           2015,
           2015,
           2015,
           2015,
           2015,
           2015,
           2015
          ],
          "coloraxis": "coloraxis",
          "symbol": "circle"
         },
         "mode": "markers",
         "name": "",
         "showlegend": false,
         "type": "scatter",
         "x": [
          52.245000000000005,
          39.879999999999995,
          71.02857142857142,
          42.3,
          50.305555555555564,
          28.1,
          72.25454545454545,
          36.5,
          29.4,
          63.85999999999999,
          46.20000000000001,
          42.400000000000006,
          52.640740740740746,
          36,
          46.31666666666666,
          64,
          46.225,
          85.15,
          36.86666666666667,
          41.42941176470589,
          58.34166666666667,
          33.6,
          28.6,
          74.96153846153847,
          51.06,
          38.650000000000006,
          28.5,
          39.2,
          36.36,
          55.95,
          76.7,
          92.5,
          81.34444444444445,
          42.449999999999996,
          57.111111111111114,
          60.56249999999999,
          70.06666666666666,
          56.5,
          48.98333333333334,
          38.117777777777775,
          48.37032967032967
         ],
         "xaxis": "x5",
         "y": [
          78.74499999999999,
          79.64,
          62.15714285714286,
          23,
          65.8888888888889,
          48.7,
          35.77272727272728,
          54.6,
          53.9,
          70.14,
          50.699999999999996,
          66.34545454545456,
          54.777777777777786,
          47,
          71.2,
          59.1,
          20.875,
          19.7,
          53.333333333333336,
          42.670588235294126,
          31.733333333333338,
          73.3,
          45.1,
          65.54615384615386,
          84.3,
          60.075,
          41.6,
          48.25,
          77.67999999999999,
          52.099999999999994,
          93.7,
          63.6,
          36.36666666666667,
          49.349999999999994,
          59.400000000000006,
          90.0625,
          26.766666666666666,
          22.5,
          44.85,
          79.21111111111112,
          44.856043956043955
         ],
         "yaxis": "y5"
        },
        {
         "hovertemplate": "year=%{marker.color}<br>income=%{x}<br>international=%{y}<extra></extra>",
         "legendgroup": "",
         "marker": {
          "color": [
           2016,
           2016,
           2016,
           2016,
           2016,
           2016,
           2016,
           2016,
           2016,
           2016,
           2016,
           2016,
           2016,
           2016,
           2016,
           2016,
           2016,
           2016,
           2016,
           2016,
           2016,
           2016,
           2016,
           2016,
           2016,
           2016,
           2016,
           2016,
           2016,
           2016,
           2016,
           2016,
           2016,
           2016,
           2016,
           2016,
           2016,
           2016,
           2016,
           2016,
           2016,
           2016,
           2016,
           2016,
           2016,
           2016,
           2016,
           2016,
           2016,
           2016,
           2016,
           2016,
           2016,
           2016,
           2016,
           2016,
           2016,
           2016,
           2016,
           2016,
           2016,
           2016,
           2016,
           2016,
           2016,
           2016,
           2016,
           2016,
           2016
          ],
          "coloraxis": "coloraxis",
          "symbol": "circle"
         },
         "mode": "markers",
         "name": "",
         "showlegend": false,
         "type": "scatter",
         "x": [
          28.6,
          48.80645161290323,
          47.771428571428565,
          28,
          73.52857142857144,
          46.054545454545455,
          47.268,
          35.9,
          69.04999999999998,
          35.8,
          30,
          30.966666666666672,
          45.050000000000004,
          30,
          38.15,
          45.62222222222222,
          33.75416666666667,
          68.37714285714286,
          42.68333333333334,
          47.21666666666667,
          32.260000000000005,
          28,
          40.40588235294119,
          40,
          62.65714285714285,
          31.916666666666668,
          40.15294117647059,
          47.39487179487178,
          30.1,
          28,
          28.3,
          41,
          38.1,
          34.9,
          31.28,
          69.75,
          29.2,
          73.02307692307693,
          43.17142857142857,
          29.2,
          40.775,
          37.6,
          31.3,
          32.916666666666664,
          40.1,
          55.2,
          37.2,
          28.766666666666666,
          47.615384615384606,
          70.56666666666668,
          45.6,
          74.85,
          30.6,
          35.5,
          68.63333333333333,
          60.99583333333336,
          35.56,
          55.23636363636364,
          67.02222222222221,
          53.11666666666665,
          45.34285714285715,
          59.33636363636364,
          28,
          28.4,
          44.7,
          31.7,
          34.31447368421054,
          44.50220588235294,
          34.6
         ],
         "xaxis": "x6",
         "y": [
          28.1,
          78.17096774193547,
          77.71428571428571,
          48.2,
          68.64285714285714,
          21.2,
          66.52,
          45.559999999999995,
          23.82777777777778,
          46.85,
          74.7,
          36.266666666666666,
          79.41666666666667,
          32.35,
          42,
          53.599999999999994,
          61.166666666666664,
          53.534285714285716,
          36.93333333333333,
          82.78333333333335,
          50.559999999999995,
          61,
          15.235294117647056,
          37.2,
          12.57142857142857,
          50.333333333333336,
          37.16470588235293,
          22.66153846153846,
          57.95,
          45.5,
          31.5,
          40.8,
          99.8,
          98.4,
          38.1,
          47.75,
          42.7,
          70.39999999999999,
          89.04285714285716,
          26.1,
          66.05,
          71.5,
          31.3,
          26.016666666666666,
          45.12857142857143,
          99.9,
          79.80000000000001,
          34.53333333333333,
          31.053846153846152,
          84.33333333333333,
          30.5,
          95.4,
          38.75,
          34.05,
          55.28333333333334,
          30.600000000000005,
          40.908,
          60.80909090909092,
          93.11111111111111,
          22.908333333333335,
          32.67142857142857,
          28.872727272727275,
          58,
          38.3,
          63.4,
          95.3,
          78.49605263157896,
          42.717647058823545,
          92.5
         ],
         "yaxis": "y6"
        }
       ],
       "layout": {
        "annotations": [
         {
          "font": {},
          "showarrow": false,
          "text": "year=2011",
          "x": 0.075,
          "xanchor": "center",
          "xref": "paper",
          "y": 1,
          "yanchor": "bottom",
          "yref": "paper"
         },
         {
          "font": {},
          "showarrow": false,
          "text": "year=2012",
          "x": 0.24499999999999997,
          "xanchor": "center",
          "xref": "paper",
          "y": 1,
          "yanchor": "bottom",
          "yref": "paper"
         },
         {
          "font": {},
          "showarrow": false,
          "text": "year=2013",
          "x": 0.415,
          "xanchor": "center",
          "xref": "paper",
          "y": 1,
          "yanchor": "bottom",
          "yref": "paper"
         },
         {
          "font": {},
          "showarrow": false,
          "text": "year=2014",
          "x": 0.585,
          "xanchor": "center",
          "xref": "paper",
          "y": 1,
          "yanchor": "bottom",
          "yref": "paper"
         },
         {
          "font": {},
          "showarrow": false,
          "text": "year=2015",
          "x": 0.7549999999999999,
          "xanchor": "center",
          "xref": "paper",
          "y": 1,
          "yanchor": "bottom",
          "yref": "paper"
         },
         {
          "font": {},
          "showarrow": false,
          "text": "year=2016",
          "x": 0.925,
          "xanchor": "center",
          "xref": "paper",
          "y": 1,
          "yanchor": "bottom",
          "yref": "paper"
         }
        ],
        "coloraxis": {
         "colorbar": {
          "title": {
           "text": "year"
          }
         },
         "colorscale": [
          [
           0,
           "#440154"
          ],
          [
           0.1111111111111111,
           "#482878"
          ],
          [
           0.2222222222222222,
           "#3e4989"
          ],
          [
           0.3333333333333333,
           "#31688e"
          ],
          [
           0.4444444444444444,
           "#26828e"
          ],
          [
           0.5555555555555556,
           "#1f9e89"
          ],
          [
           0.6666666666666666,
           "#35b779"
          ],
          [
           0.7777777777777778,
           "#6ece58"
          ],
          [
           0.8888888888888888,
           "#b5de2b"
          ],
          [
           1,
           "#fde725"
          ]
         ]
        },
        "legend": {
         "tracegroupgap": 0
        },
        "margin": {
         "t": 60
        },
        "template": {
         "data": {
          "bar": [
           {
            "error_x": {
             "color": "#2a3f5f"
            },
            "error_y": {
             "color": "#2a3f5f"
            },
            "marker": {
             "line": {
              "color": "#E5ECF6",
              "width": 0.5
             }
            },
            "type": "bar"
           }
          ],
          "barpolar": [
           {
            "marker": {
             "line": {
              "color": "#E5ECF6",
              "width": 0.5
             }
            },
            "type": "barpolar"
           }
          ],
          "carpet": [
           {
            "aaxis": {
             "endlinecolor": "#2a3f5f",
             "gridcolor": "white",
             "linecolor": "white",
             "minorgridcolor": "white",
             "startlinecolor": "#2a3f5f"
            },
            "baxis": {
             "endlinecolor": "#2a3f5f",
             "gridcolor": "white",
             "linecolor": "white",
             "minorgridcolor": "white",
             "startlinecolor": "#2a3f5f"
            },
            "type": "carpet"
           }
          ],
          "choropleth": [
           {
            "colorbar": {
             "outlinewidth": 0,
             "ticks": ""
            },
            "type": "choropleth"
           }
          ],
          "contour": [
           {
            "colorbar": {
             "outlinewidth": 0,
             "ticks": ""
            },
            "colorscale": [
             [
              0,
              "#0d0887"
             ],
             [
              0.1111111111111111,
              "#46039f"
             ],
             [
              0.2222222222222222,
              "#7201a8"
             ],
             [
              0.3333333333333333,
              "#9c179e"
             ],
             [
              0.4444444444444444,
              "#bd3786"
             ],
             [
              0.5555555555555556,
              "#d8576b"
             ],
             [
              0.6666666666666666,
              "#ed7953"
             ],
             [
              0.7777777777777778,
              "#fb9f3a"
             ],
             [
              0.8888888888888888,
              "#fdca26"
             ],
             [
              1,
              "#f0f921"
             ]
            ],
            "type": "contour"
           }
          ],
          "contourcarpet": [
           {
            "colorbar": {
             "outlinewidth": 0,
             "ticks": ""
            },
            "type": "contourcarpet"
           }
          ],
          "heatmap": [
           {
            "colorbar": {
             "outlinewidth": 0,
             "ticks": ""
            },
            "colorscale": [
             [
              0,
              "#0d0887"
             ],
             [
              0.1111111111111111,
              "#46039f"
             ],
             [
              0.2222222222222222,
              "#7201a8"
             ],
             [
              0.3333333333333333,
              "#9c179e"
             ],
             [
              0.4444444444444444,
              "#bd3786"
             ],
             [
              0.5555555555555556,
              "#d8576b"
             ],
             [
              0.6666666666666666,
              "#ed7953"
             ],
             [
              0.7777777777777778,
              "#fb9f3a"
             ],
             [
              0.8888888888888888,
              "#fdca26"
             ],
             [
              1,
              "#f0f921"
             ]
            ],
            "type": "heatmap"
           }
          ],
          "heatmapgl": [
           {
            "colorbar": {
             "outlinewidth": 0,
             "ticks": ""
            },
            "colorscale": [
             [
              0,
              "#0d0887"
             ],
             [
              0.1111111111111111,
              "#46039f"
             ],
             [
              0.2222222222222222,
              "#7201a8"
             ],
             [
              0.3333333333333333,
              "#9c179e"
             ],
             [
              0.4444444444444444,
              "#bd3786"
             ],
             [
              0.5555555555555556,
              "#d8576b"
             ],
             [
              0.6666666666666666,
              "#ed7953"
             ],
             [
              0.7777777777777778,
              "#fb9f3a"
             ],
             [
              0.8888888888888888,
              "#fdca26"
             ],
             [
              1,
              "#f0f921"
             ]
            ],
            "type": "heatmapgl"
           }
          ],
          "histogram": [
           {
            "marker": {
             "colorbar": {
              "outlinewidth": 0,
              "ticks": ""
             }
            },
            "type": "histogram"
           }
          ],
          "histogram2d": [
           {
            "colorbar": {
             "outlinewidth": 0,
             "ticks": ""
            },
            "colorscale": [
             [
              0,
              "#0d0887"
             ],
             [
              0.1111111111111111,
              "#46039f"
             ],
             [
              0.2222222222222222,
              "#7201a8"
             ],
             [
              0.3333333333333333,
              "#9c179e"
             ],
             [
              0.4444444444444444,
              "#bd3786"
             ],
             [
              0.5555555555555556,
              "#d8576b"
             ],
             [
              0.6666666666666666,
              "#ed7953"
             ],
             [
              0.7777777777777778,
              "#fb9f3a"
             ],
             [
              0.8888888888888888,
              "#fdca26"
             ],
             [
              1,
              "#f0f921"
             ]
            ],
            "type": "histogram2d"
           }
          ],
          "histogram2dcontour": [
           {
            "colorbar": {
             "outlinewidth": 0,
             "ticks": ""
            },
            "colorscale": [
             [
              0,
              "#0d0887"
             ],
             [
              0.1111111111111111,
              "#46039f"
             ],
             [
              0.2222222222222222,
              "#7201a8"
             ],
             [
              0.3333333333333333,
              "#9c179e"
             ],
             [
              0.4444444444444444,
              "#bd3786"
             ],
             [
              0.5555555555555556,
              "#d8576b"
             ],
             [
              0.6666666666666666,
              "#ed7953"
             ],
             [
              0.7777777777777778,
              "#fb9f3a"
             ],
             [
              0.8888888888888888,
              "#fdca26"
             ],
             [
              1,
              "#f0f921"
             ]
            ],
            "type": "histogram2dcontour"
           }
          ],
          "mesh3d": [
           {
            "colorbar": {
             "outlinewidth": 0,
             "ticks": ""
            },
            "type": "mesh3d"
           }
          ],
          "parcoords": [
           {
            "line": {
             "colorbar": {
              "outlinewidth": 0,
              "ticks": ""
             }
            },
            "type": "parcoords"
           }
          ],
          "pie": [
           {
            "automargin": true,
            "type": "pie"
           }
          ],
          "scatter": [
           {
            "marker": {
             "colorbar": {
              "outlinewidth": 0,
              "ticks": ""
             }
            },
            "type": "scatter"
           }
          ],
          "scatter3d": [
           {
            "line": {
             "colorbar": {
              "outlinewidth": 0,
              "ticks": ""
             }
            },
            "marker": {
             "colorbar": {
              "outlinewidth": 0,
              "ticks": ""
             }
            },
            "type": "scatter3d"
           }
          ],
          "scattercarpet": [
           {
            "marker": {
             "colorbar": {
              "outlinewidth": 0,
              "ticks": ""
             }
            },
            "type": "scattercarpet"
           }
          ],
          "scattergeo": [
           {
            "marker": {
             "colorbar": {
              "outlinewidth": 0,
              "ticks": ""
             }
            },
            "type": "scattergeo"
           }
          ],
          "scattergl": [
           {
            "marker": {
             "colorbar": {
              "outlinewidth": 0,
              "ticks": ""
             }
            },
            "type": "scattergl"
           }
          ],
          "scattermapbox": [
           {
            "marker": {
             "colorbar": {
              "outlinewidth": 0,
              "ticks": ""
             }
            },
            "type": "scattermapbox"
           }
          ],
          "scatterpolar": [
           {
            "marker": {
             "colorbar": {
              "outlinewidth": 0,
              "ticks": ""
             }
            },
            "type": "scatterpolar"
           }
          ],
          "scatterpolargl": [
           {
            "marker": {
             "colorbar": {
              "outlinewidth": 0,
              "ticks": ""
             }
            },
            "type": "scatterpolargl"
           }
          ],
          "scatterternary": [
           {
            "marker": {
             "colorbar": {
              "outlinewidth": 0,
              "ticks": ""
             }
            },
            "type": "scatterternary"
           }
          ],
          "surface": [
           {
            "colorbar": {
             "outlinewidth": 0,
             "ticks": ""
            },
            "colorscale": [
             [
              0,
              "#0d0887"
             ],
             [
              0.1111111111111111,
              "#46039f"
             ],
             [
              0.2222222222222222,
              "#7201a8"
             ],
             [
              0.3333333333333333,
              "#9c179e"
             ],
             [
              0.4444444444444444,
              "#bd3786"
             ],
             [
              0.5555555555555556,
              "#d8576b"
             ],
             [
              0.6666666666666666,
              "#ed7953"
             ],
             [
              0.7777777777777778,
              "#fb9f3a"
             ],
             [
              0.8888888888888888,
              "#fdca26"
             ],
             [
              1,
              "#f0f921"
             ]
            ],
            "type": "surface"
           }
          ],
          "table": [
           {
            "cells": {
             "fill": {
              "color": "#EBF0F8"
             },
             "line": {
              "color": "white"
             }
            },
            "header": {
             "fill": {
              "color": "#C8D4E3"
             },
             "line": {
              "color": "white"
             }
            },
            "type": "table"
           }
          ]
         },
         "layout": {
          "annotationdefaults": {
           "arrowcolor": "#2a3f5f",
           "arrowhead": 0,
           "arrowwidth": 1
          },
          "coloraxis": {
           "colorbar": {
            "outlinewidth": 0,
            "ticks": ""
           }
          },
          "colorscale": {
           "diverging": [
            [
             0,
             "#8e0152"
            ],
            [
             0.1,
             "#c51b7d"
            ],
            [
             0.2,
             "#de77ae"
            ],
            [
             0.3,
             "#f1b6da"
            ],
            [
             0.4,
             "#fde0ef"
            ],
            [
             0.5,
             "#f7f7f7"
            ],
            [
             0.6,
             "#e6f5d0"
            ],
            [
             0.7,
             "#b8e186"
            ],
            [
             0.8,
             "#7fbc41"
            ],
            [
             0.9,
             "#4d9221"
            ],
            [
             1,
             "#276419"
            ]
           ],
           "sequential": [
            [
             0,
             "#0d0887"
            ],
            [
             0.1111111111111111,
             "#46039f"
            ],
            [
             0.2222222222222222,
             "#7201a8"
            ],
            [
             0.3333333333333333,
             "#9c179e"
            ],
            [
             0.4444444444444444,
             "#bd3786"
            ],
            [
             0.5555555555555556,
             "#d8576b"
            ],
            [
             0.6666666666666666,
             "#ed7953"
            ],
            [
             0.7777777777777778,
             "#fb9f3a"
            ],
            [
             0.8888888888888888,
             "#fdca26"
            ],
            [
             1,
             "#f0f921"
            ]
           ],
           "sequentialminus": [
            [
             0,
             "#0d0887"
            ],
            [
             0.1111111111111111,
             "#46039f"
            ],
            [
             0.2222222222222222,
             "#7201a8"
            ],
            [
             0.3333333333333333,
             "#9c179e"
            ],
            [
             0.4444444444444444,
             "#bd3786"
            ],
            [
             0.5555555555555556,
             "#d8576b"
            ],
            [
             0.6666666666666666,
             "#ed7953"
            ],
            [
             0.7777777777777778,
             "#fb9f3a"
            ],
            [
             0.8888888888888888,
             "#fdca26"
            ],
            [
             1,
             "#f0f921"
            ]
           ]
          },
          "colorway": [
           "#636efa",
           "#EF553B",
           "#00cc96",
           "#ab63fa",
           "#FFA15A",
           "#19d3f3",
           "#FF6692",
           "#B6E880",
           "#FF97FF",
           "#FECB52"
          ],
          "font": {
           "color": "#2a3f5f"
          },
          "geo": {
           "bgcolor": "white",
           "lakecolor": "white",
           "landcolor": "#E5ECF6",
           "showlakes": true,
           "showland": true,
           "subunitcolor": "white"
          },
          "hoverlabel": {
           "align": "left"
          },
          "hovermode": "closest",
          "mapbox": {
           "style": "light"
          },
          "paper_bgcolor": "white",
          "plot_bgcolor": "#E5ECF6",
          "polar": {
           "angularaxis": {
            "gridcolor": "white",
            "linecolor": "white",
            "ticks": ""
           },
           "bgcolor": "#E5ECF6",
           "radialaxis": {
            "gridcolor": "white",
            "linecolor": "white",
            "ticks": ""
           }
          },
          "scene": {
           "xaxis": {
            "backgroundcolor": "#E5ECF6",
            "gridcolor": "white",
            "gridwidth": 2,
            "linecolor": "white",
            "showbackground": true,
            "ticks": "",
            "zerolinecolor": "white"
           },
           "yaxis": {
            "backgroundcolor": "#E5ECF6",
            "gridcolor": "white",
            "gridwidth": 2,
            "linecolor": "white",
            "showbackground": true,
            "ticks": "",
            "zerolinecolor": "white"
           },
           "zaxis": {
            "backgroundcolor": "#E5ECF6",
            "gridcolor": "white",
            "gridwidth": 2,
            "linecolor": "white",
            "showbackground": true,
            "ticks": "",
            "zerolinecolor": "white"
           }
          },
          "shapedefaults": {
           "line": {
            "color": "#2a3f5f"
           }
          },
          "ternary": {
           "aaxis": {
            "gridcolor": "white",
            "linecolor": "white",
            "ticks": ""
           },
           "baxis": {
            "gridcolor": "white",
            "linecolor": "white",
            "ticks": ""
           },
           "bgcolor": "#E5ECF6",
           "caxis": {
            "gridcolor": "white",
            "linecolor": "white",
            "ticks": ""
           }
          },
          "title": {
           "x": 0.05
          },
          "xaxis": {
           "automargin": true,
           "gridcolor": "white",
           "linecolor": "white",
           "ticks": "",
           "title": {
            "standoff": 15
           },
           "zerolinecolor": "white",
           "zerolinewidth": 2
          },
          "yaxis": {
           "automargin": true,
           "gridcolor": "white",
           "linecolor": "white",
           "ticks": "",
           "title": {
            "standoff": 15
           },
           "zerolinecolor": "white",
           "zerolinewidth": 2
          }
         }
        },
        "xaxis": {
         "anchor": "y",
         "domain": [
          0,
          0.15
         ],
         "title": {
          "text": "income"
         }
        },
        "xaxis2": {
         "anchor": "y2",
         "domain": [
          0.16999999999999998,
          0.31999999999999995
         ],
         "matches": "x",
         "title": {
          "text": "income"
         }
        },
        "xaxis3": {
         "anchor": "y3",
         "domain": [
          0.33999999999999997,
          0.49
         ],
         "matches": "x",
         "title": {
          "text": "income"
         }
        },
        "xaxis4": {
         "anchor": "y4",
         "domain": [
          0.51,
          0.66
         ],
         "matches": "x",
         "title": {
          "text": "income"
         }
        },
        "xaxis5": {
         "anchor": "y5",
         "domain": [
          0.6799999999999999,
          0.83
         ],
         "matches": "x",
         "title": {
          "text": "income"
         }
        },
        "xaxis6": {
         "anchor": "y6",
         "domain": [
          0.85,
          1
         ],
         "matches": "x",
         "title": {
          "text": "income"
         }
        },
        "yaxis": {
         "anchor": "x",
         "domain": [
          0,
          1
         ],
         "title": {
          "text": "international"
         }
        },
        "yaxis2": {
         "anchor": "x2",
         "domain": [
          0,
          1
         ],
         "matches": "y",
         "showticklabels": false
        },
        "yaxis3": {
         "anchor": "x3",
         "domain": [
          0,
          1
         ],
         "matches": "y",
         "showticklabels": false
        },
        "yaxis4": {
         "anchor": "x4",
         "domain": [
          0,
          1
         ],
         "matches": "y",
         "showticklabels": false
        },
        "yaxis5": {
         "anchor": "x5",
         "domain": [
          0,
          1
         ],
         "matches": "y",
         "showticklabels": false
        },
        "yaxis6": {
         "anchor": "x6",
         "domain": [
          0,
          1
         ],
         "matches": "y",
         "showticklabels": false
        }
       }
      },
      "text/html": [
       "<div>\n",
       "        \n",
       "        \n",
       "            <div id=\"fc1a4d53-043d-44c1-9c60-676d576735b9\" class=\"plotly-graph-div\" style=\"height:525px; width:100%;\"></div>\n",
       "            <script type=\"text/javascript\">\n",
       "                require([\"plotly\"], function(Plotly) {\n",
       "                    window.PLOTLYENV=window.PLOTLYENV || {};\n",
       "                    \n",
       "                if (document.getElementById(\"fc1a4d53-043d-44c1-9c60-676d576735b9\")) {\n",
       "                    Plotly.newPlot(\n",
       "                        'fc1a4d53-043d-44c1-9c60-676d576735b9',\n",
       "                        [{\"hovertemplate\": \"year=%{marker.color}<br>income=%{x}<br>international=%{y}<extra></extra>\", \"legendgroup\": \"\", \"marker\": {\"color\": [2011, 2011, 2011, 2011, 2011, 2011, 2011, 2011, 2011, 2011, 2011, 2011, 2011, 2011, 2011, 2011, 2011, 2011, 2011, 2011, 2011, 2011, 2011, 2011, 2011], \"coloraxis\": \"coloraxis\", \"symbol\": \"circle\"}, \"mode\": \"markers\", \"name\": \"\", \"showlegend\": false, \"type\": \"scatter\", \"x\": [58.18333333333333, 31.0, 97.4, 41.666666666666664, 70.26, 61.03333333333333, 36.0, 30.2, 27.73333333333333, 41.87, 51.125, 70.825, 69.8375, 61.1, 41.5, 31.6, 40.25, 70.85, 35.0, 57.56666666666666, 40.56, 55.525000000000006, 38.15, 41.38275862068965, 56.96], \"xaxis\": \"x\", \"y\": [82.85000000000001, 81.35, 27.15, 72.26666666666667, 44.14, 47.73333333333333, 19.3, 24.2, 37.733333333333334, 51.510000000000005, 85.875, 20.85, 43.949999999999996, 94.3, 66.6, 84.2, 97.05, 35.550000000000004, 33.2, 66.3, 91.8, 35.625, 37.45, 74.60344827586206, 41.00666666666667], \"yaxis\": \"y\"}, {\"hovertemplate\": \"year=%{marker.color}<br>income=%{x}<br>international=%{y}<extra></extra>\", \"legendgroup\": \"\", \"marker\": {\"color\": [2012, 2012, 2012, 2012, 2012, 2012, 2012, 2012, 2012, 2012, 2012, 2012, 2012, 2012, 2012, 2012, 2012, 2012, 2012, 2012, 2012, 2012, 2012, 2012, 2012, 2012, 2012, 2012, 2012, 2012, 2012, 2012, 2012, 2012, 2012, 2012, 2012, 2012, 2012, 2012], \"coloraxis\": \"coloraxis\", \"symbol\": \"circle\"}, \"mode\": \"markers\", \"name\": \"\", \"showlegend\": false, \"type\": \"scatter\", \"x\": [49.13809523809523, 38.46, 66.92857142857143, 38.25, 50.576470588235296, 29.7, 68.84, 24.5, 60.8, 34.5, 26.3, 41.67999999999999, 34.31428571428571, 42.34761904761905, 33.2, 51.28333333333333, 75.4, 24.2, 93.1, 30.525, 41.971428571428575, 49.84375, 63.699999999999996, 36.26, 38.4, 25.8, 34.025, 31.72, 53.0, 52.55, 99.03333333333335, 74.21428571428571, 36.599999999999994, 55.64, 41.666666666666664, 55.949999999999996, 29.0, 51.599999999999994, 36.8, 46.724137931034484], \"xaxis\": \"x2\", \"y\": [77.80952380952381, 76.03999999999999, 63.671428571428564, 21.0, 62.405882352941184, 45.5, 25.880000000000003, 51.4, 71.66, 31.6, 42.0, 41.800000000000004, 65.85714285714286, 55.42857142857144, 42.6, 69.38333333333334, 56.9, 14.3, 12.7, 44.75, 33.949999999999996, 21.156250000000004, 60.10833333333334, 86.8, 64.65, 39.5, 48.625, 79.4, 45.7, 91.4, 63.333333333333336, 25.042857142857144, 39.35, 59.169999999999995, 90.08333333333333, 17.9375, 45.0, 31.775000000000002, 76.92499999999998, 35.02988505747127], \"yaxis\": \"y2\"}, {\"hovertemplate\": \"year=%{marker.color}<br>income=%{x}<br>international=%{y}<extra></extra>\", \"legendgroup\": \"\", \"marker\": {\"color\": [2013, 2013, 2013, 2013, 2013, 2013, 2013, 2013, 2013, 2013, 2013, 2013, 2013, 2013, 2013, 2013, 2013, 2013, 2013, 2013, 2013, 2013, 2013, 2013, 2013, 2013, 2013, 2013, 2013, 2013, 2013, 2013, 2013, 2013, 2013, 2013, 2013, 2013, 2013, 2013, 2013], \"coloraxis\": \"coloraxis\", \"symbol\": \"circle\"}, \"mode\": \"markers\", \"name\": \"\", \"showlegend\": false, \"type\": \"scatter\", \"x\": [53.44210526315789, 39.1, 68.34285714285714, 42.45, 52.422222222222224, 66.2, 28.4, 28.1, 64.52000000000001, 30.1, 52.4, 44.16, 46.71363636363637, 34.1, 48.0, 74.4, 65.16666666666667, 93.0, 41.2, 42.05, 52.638461538461534, 36.0, 73.73846153846155, 50.13333333333333, 36.7, 28.7, 36.1, 35.760000000000005, 64.85, 40.2, 88.45, 77.69999999999999, 81.43333333333334, 35.07142857142858, 56.63000000000001, 45.416666666666664, 66.05714285714285, 60.2, 52.96, 40.808333333333344, 47.43333333333334], \"xaxis\": \"x3\", \"y\": [75.78421052631579, 74.46000000000001, 60.41428571428571, 22.7, 60.1888888888889, 34.56666666666667, 53.0, 50.3, 70.28, 42.4, 44.9, 63.84000000000001, 53.3909090909091, 44.4, 68.96666666666665, 59.9, 17.2, 16.7, 48.56666666666666, 36.971428571428575, 26.015384615384615, 33.2, 60.93846153846154, 84.18333333333332, 62.325, 40.75, 45.333333333333336, 74.2, 34.55, 71.0, 91.4, 61.05, 29.750000000000004, 40.35714285714285, 58.410000000000004, 88.0, 23.628571428571433, 23.8, 36.06, 76.48958333333333, 39.333333333333336], \"yaxis\": \"y3\"}, {\"hovertemplate\": \"year=%{marker.color}<br>income=%{x}<br>international=%{y}<extra></extra>\", \"legendgroup\": \"\", \"marker\": {\"color\": [2014, 2014, 2014, 2014, 2014, 2014, 2014, 2014, 2014, 2014, 2014, 2014, 2014, 2014, 2014, 2014, 2014, 2014, 2014, 2014, 2014, 2014, 2014, 2014, 2014, 2014, 2014, 2014, 2014, 2014, 2014, 2014, 2014, 2014, 2014, 2014, 2014, 2014, 2014, 2014], \"coloraxis\": \"coloraxis\", \"symbol\": \"circle\"}, \"mode\": \"markers\", \"name\": \"\", \"showlegend\": false, \"type\": \"scatter\", \"x\": [54.25789473684211, 40.2, 76.28333333333333, 44.55, 52.21666666666666, 68.39, 30.6, 29.0, 63.980000000000004, 30.3, 37.275, 43.17272727272728, 49.29090909090908, 35.0, 48.0, 78.5, 45.199999999999996, 98.3, 38.06666666666667, 42.226666666666674, 61.154545454545456, 74.38461538461537, 51.42, 38.150000000000006, 28.3, 37.05, 38.52, 72.2, 66.80000000000001, 82.15, 93.5, 82.89999999999999, 40.73333333333333, 57.75555555555555, 54.050000000000004, 65.95, 62.2, 51.760000000000005, 38.71632653061225, 47.29767441860465], \"xaxis\": \"x4\", \"y\": [79.13684210526317, 73.38333333333334, 59.01666666666667, 21.95, 62.68888888888888, 35.43, 55.7, 53.2, 71.56, 43.7, 47.300000000000004, 63.709090909090925, 53.88636363636365, 47.1, 68.7, 59.9, 20.733333333333334, 20.7, 51.96666666666666, 39.89333333333333, 27.927272727272733, 63.600000000000016, 85.22, 61.74999999999999, 42.8, 45.4, 74.48, 55.7, 73.25, 92.65, 64.03333333333335, 34.94285714285714, 40.48888888888889, 60.21111111111111, 89.4625, 25.162499999999998, 24.4, 43.64, 77.11836734693878, 42.52674418604651], \"yaxis\": \"y4\"}, {\"hovertemplate\": \"year=%{marker.color}<br>income=%{x}<br>international=%{y}<extra></extra>\", \"legendgroup\": \"\", \"marker\": {\"color\": [2015, 2015, 2015, 2015, 2015, 2015, 2015, 2015, 2015, 2015, 2015, 2015, 2015, 2015, 2015, 2015, 2015, 2015, 2015, 2015, 2015, 2015, 2015, 2015, 2015, 2015, 2015, 2015, 2015, 2015, 2015, 2015, 2015, 2015, 2015, 2015, 2015, 2015, 2015, 2015, 2015], \"coloraxis\": \"coloraxis\", \"symbol\": \"circle\"}, \"mode\": \"markers\", \"name\": \"\", \"showlegend\": false, \"type\": \"scatter\", \"x\": [52.245000000000005, 39.879999999999995, 71.02857142857142, 42.3, 50.305555555555564, 28.1, 72.25454545454545, 36.5, 29.4, 63.85999999999999, 46.20000000000001, 42.400000000000006, 52.640740740740746, 36.0, 46.31666666666666, 64.0, 46.225, 85.15, 36.86666666666667, 41.42941176470589, 58.34166666666667, 33.6, 28.6, 74.96153846153847, 51.06, 38.650000000000006, 28.5, 39.2, 36.36, 55.95, 76.7, 92.5, 81.34444444444445, 42.449999999999996, 57.111111111111114, 60.56249999999999, 70.06666666666666, 56.5, 48.98333333333334, 38.117777777777775, 48.37032967032967], \"xaxis\": \"x5\", \"y\": [78.74499999999999, 79.64, 62.15714285714286, 23.0, 65.8888888888889, 48.7, 35.77272727272728, 54.6, 53.9, 70.14, 50.699999999999996, 66.34545454545456, 54.777777777777786, 47.0, 71.2, 59.1, 20.875, 19.7, 53.333333333333336, 42.670588235294126, 31.733333333333338, 73.3, 45.1, 65.54615384615386, 84.3, 60.075, 41.6, 48.25, 77.67999999999999, 52.099999999999994, 93.7, 63.6, 36.36666666666667, 49.349999999999994, 59.400000000000006, 90.0625, 26.766666666666666, 22.5, 44.85, 79.21111111111112, 44.856043956043955], \"yaxis\": \"y5\"}, {\"hovertemplate\": \"year=%{marker.color}<br>income=%{x}<br>international=%{y}<extra></extra>\", \"legendgroup\": \"\", \"marker\": {\"color\": [2016, 2016, 2016, 2016, 2016, 2016, 2016, 2016, 2016, 2016, 2016, 2016, 2016, 2016, 2016, 2016, 2016, 2016, 2016, 2016, 2016, 2016, 2016, 2016, 2016, 2016, 2016, 2016, 2016, 2016, 2016, 2016, 2016, 2016, 2016, 2016, 2016, 2016, 2016, 2016, 2016, 2016, 2016, 2016, 2016, 2016, 2016, 2016, 2016, 2016, 2016, 2016, 2016, 2016, 2016, 2016, 2016, 2016, 2016, 2016, 2016, 2016, 2016, 2016, 2016, 2016, 2016, 2016, 2016], \"coloraxis\": \"coloraxis\", \"symbol\": \"circle\"}, \"mode\": \"markers\", \"name\": \"\", \"showlegend\": false, \"type\": \"scatter\", \"x\": [28.6, 48.80645161290323, 47.771428571428565, 28.0, 73.52857142857144, 46.054545454545455, 47.268, 35.9, 69.04999999999998, 35.8, 30.0, 30.966666666666672, 45.050000000000004, 30.0, 38.15, 45.62222222222222, 33.75416666666667, 68.37714285714286, 42.68333333333334, 47.21666666666667, 32.260000000000005, 28.0, 40.40588235294119, 40.0, 62.65714285714285, 31.916666666666668, 40.15294117647059, 47.39487179487178, 30.1, 28.0, 28.3, 41.0, 38.1, 34.9, 31.28, 69.75, 29.2, 73.02307692307693, 43.17142857142857, 29.2, 40.775, 37.6, 31.3, 32.916666666666664, 40.1, 55.2, 37.2, 28.766666666666666, 47.615384615384606, 70.56666666666668, 45.6, 74.85, 30.6, 35.5, 68.63333333333333, 60.99583333333336, 35.56, 55.23636363636364, 67.02222222222221, 53.11666666666665, 45.34285714285715, 59.33636363636364, 28.0, 28.4, 44.7, 31.7, 34.31447368421054, 44.50220588235294, 34.6], \"xaxis\": \"x6\", \"y\": [28.1, 78.17096774193547, 77.71428571428571, 48.2, 68.64285714285714, 21.2, 66.52, 45.559999999999995, 23.82777777777778, 46.85, 74.7, 36.266666666666666, 79.41666666666667, 32.35, 42.0, 53.599999999999994, 61.166666666666664, 53.534285714285716, 36.93333333333333, 82.78333333333335, 50.559999999999995, 61.0, 15.235294117647056, 37.2, 12.57142857142857, 50.333333333333336, 37.16470588235293, 22.66153846153846, 57.95, 45.5, 31.5, 40.8, 99.8, 98.4, 38.1, 47.75, 42.7, 70.39999999999999, 89.04285714285716, 26.1, 66.05, 71.5, 31.3, 26.016666666666666, 45.12857142857143, 99.9, 79.80000000000001, 34.53333333333333, 31.053846153846152, 84.33333333333333, 30.5, 95.4, 38.75, 34.05, 55.28333333333334, 30.600000000000005, 40.908, 60.80909090909092, 93.11111111111111, 22.908333333333335, 32.67142857142857, 28.872727272727275, 58.0, 38.3, 63.4, 95.3, 78.49605263157896, 42.717647058823545, 92.5], \"yaxis\": \"y6\"}],\n",
       "                        {\"annotations\": [{\"font\": {}, \"showarrow\": false, \"text\": \"year=2011\", \"x\": 0.075, \"xanchor\": \"center\", \"xref\": \"paper\", \"y\": 1.0, \"yanchor\": \"bottom\", \"yref\": \"paper\"}, {\"font\": {}, \"showarrow\": false, \"text\": \"year=2012\", \"x\": 0.24499999999999997, \"xanchor\": \"center\", \"xref\": \"paper\", \"y\": 1.0, \"yanchor\": \"bottom\", \"yref\": \"paper\"}, {\"font\": {}, \"showarrow\": false, \"text\": \"year=2013\", \"x\": 0.415, \"xanchor\": \"center\", \"xref\": \"paper\", \"y\": 1.0, \"yanchor\": \"bottom\", \"yref\": \"paper\"}, {\"font\": {}, \"showarrow\": false, \"text\": \"year=2014\", \"x\": 0.585, \"xanchor\": \"center\", \"xref\": \"paper\", \"y\": 1.0, \"yanchor\": \"bottom\", \"yref\": \"paper\"}, {\"font\": {}, \"showarrow\": false, \"text\": \"year=2015\", \"x\": 0.7549999999999999, \"xanchor\": \"center\", \"xref\": \"paper\", \"y\": 1.0, \"yanchor\": \"bottom\", \"yref\": \"paper\"}, {\"font\": {}, \"showarrow\": false, \"text\": \"year=2016\", \"x\": 0.925, \"xanchor\": \"center\", \"xref\": \"paper\", \"y\": 1.0, \"yanchor\": \"bottom\", \"yref\": \"paper\"}], \"coloraxis\": {\"colorbar\": {\"title\": {\"text\": \"year\"}}, \"colorscale\": [[0.0, \"#440154\"], [0.1111111111111111, \"#482878\"], [0.2222222222222222, \"#3e4989\"], [0.3333333333333333, \"#31688e\"], [0.4444444444444444, \"#26828e\"], [0.5555555555555556, \"#1f9e89\"], [0.6666666666666666, \"#35b779\"], [0.7777777777777778, \"#6ece58\"], [0.8888888888888888, \"#b5de2b\"], [1.0, \"#fde725\"]]}, \"legend\": {\"tracegroupgap\": 0}, \"margin\": {\"t\": 60}, \"template\": {\"data\": {\"bar\": [{\"error_x\": {\"color\": \"#2a3f5f\"}, \"error_y\": {\"color\": \"#2a3f5f\"}, \"marker\": {\"line\": {\"color\": \"#E5ECF6\", \"width\": 0.5}}, \"type\": \"bar\"}], \"barpolar\": [{\"marker\": {\"line\": {\"color\": \"#E5ECF6\", \"width\": 0.5}}, \"type\": \"barpolar\"}], \"carpet\": [{\"aaxis\": {\"endlinecolor\": \"#2a3f5f\", \"gridcolor\": \"white\", \"linecolor\": \"white\", \"minorgridcolor\": \"white\", \"startlinecolor\": \"#2a3f5f\"}, \"baxis\": {\"endlinecolor\": \"#2a3f5f\", \"gridcolor\": \"white\", \"linecolor\": \"white\", \"minorgridcolor\": \"white\", \"startlinecolor\": \"#2a3f5f\"}, \"type\": \"carpet\"}], \"choropleth\": [{\"colorbar\": {\"outlinewidth\": 0, \"ticks\": \"\"}, \"type\": \"choropleth\"}], \"contour\": [{\"colorbar\": {\"outlinewidth\": 0, \"ticks\": \"\"}, \"colorscale\": [[0.0, \"#0d0887\"], [0.1111111111111111, \"#46039f\"], [0.2222222222222222, \"#7201a8\"], [0.3333333333333333, \"#9c179e\"], [0.4444444444444444, \"#bd3786\"], [0.5555555555555556, \"#d8576b\"], [0.6666666666666666, \"#ed7953\"], [0.7777777777777778, \"#fb9f3a\"], [0.8888888888888888, \"#fdca26\"], [1.0, \"#f0f921\"]], \"type\": \"contour\"}], \"contourcarpet\": [{\"colorbar\": {\"outlinewidth\": 0, \"ticks\": \"\"}, \"type\": \"contourcarpet\"}], \"heatmap\": [{\"colorbar\": {\"outlinewidth\": 0, \"ticks\": \"\"}, \"colorscale\": [[0.0, \"#0d0887\"], [0.1111111111111111, \"#46039f\"], [0.2222222222222222, \"#7201a8\"], [0.3333333333333333, \"#9c179e\"], [0.4444444444444444, \"#bd3786\"], [0.5555555555555556, \"#d8576b\"], [0.6666666666666666, \"#ed7953\"], [0.7777777777777778, \"#fb9f3a\"], [0.8888888888888888, \"#fdca26\"], [1.0, \"#f0f921\"]], \"type\": \"heatmap\"}], \"heatmapgl\": [{\"colorbar\": {\"outlinewidth\": 0, \"ticks\": \"\"}, \"colorscale\": [[0.0, \"#0d0887\"], [0.1111111111111111, \"#46039f\"], [0.2222222222222222, \"#7201a8\"], [0.3333333333333333, \"#9c179e\"], [0.4444444444444444, \"#bd3786\"], [0.5555555555555556, \"#d8576b\"], [0.6666666666666666, \"#ed7953\"], [0.7777777777777778, \"#fb9f3a\"], [0.8888888888888888, \"#fdca26\"], [1.0, \"#f0f921\"]], \"type\": \"heatmapgl\"}], \"histogram\": [{\"marker\": {\"colorbar\": {\"outlinewidth\": 0, \"ticks\": \"\"}}, \"type\": \"histogram\"}], \"histogram2d\": [{\"colorbar\": {\"outlinewidth\": 0, \"ticks\": \"\"}, \"colorscale\": [[0.0, \"#0d0887\"], [0.1111111111111111, \"#46039f\"], [0.2222222222222222, \"#7201a8\"], [0.3333333333333333, \"#9c179e\"], [0.4444444444444444, \"#bd3786\"], [0.5555555555555556, \"#d8576b\"], [0.6666666666666666, \"#ed7953\"], [0.7777777777777778, \"#fb9f3a\"], [0.8888888888888888, \"#fdca26\"], [1.0, \"#f0f921\"]], \"type\": \"histogram2d\"}], \"histogram2dcontour\": [{\"colorbar\": {\"outlinewidth\": 0, \"ticks\": \"\"}, \"colorscale\": [[0.0, \"#0d0887\"], [0.1111111111111111, \"#46039f\"], [0.2222222222222222, \"#7201a8\"], [0.3333333333333333, \"#9c179e\"], [0.4444444444444444, \"#bd3786\"], [0.5555555555555556, \"#d8576b\"], [0.6666666666666666, \"#ed7953\"], [0.7777777777777778, \"#fb9f3a\"], [0.8888888888888888, \"#fdca26\"], [1.0, \"#f0f921\"]], \"type\": \"histogram2dcontour\"}], \"mesh3d\": [{\"colorbar\": {\"outlinewidth\": 0, \"ticks\": \"\"}, \"type\": \"mesh3d\"}], \"parcoords\": [{\"line\": {\"colorbar\": {\"outlinewidth\": 0, \"ticks\": \"\"}}, \"type\": \"parcoords\"}], \"pie\": [{\"automargin\": true, \"type\": \"pie\"}], \"scatter\": [{\"marker\": {\"colorbar\": {\"outlinewidth\": 0, \"ticks\": \"\"}}, \"type\": \"scatter\"}], \"scatter3d\": [{\"line\": {\"colorbar\": {\"outlinewidth\": 0, \"ticks\": \"\"}}, \"marker\": {\"colorbar\": {\"outlinewidth\": 0, \"ticks\": \"\"}}, \"type\": \"scatter3d\"}], \"scattercarpet\": [{\"marker\": {\"colorbar\": {\"outlinewidth\": 0, \"ticks\": \"\"}}, \"type\": \"scattercarpet\"}], \"scattergeo\": [{\"marker\": {\"colorbar\": {\"outlinewidth\": 0, \"ticks\": \"\"}}, \"type\": \"scattergeo\"}], \"scattergl\": [{\"marker\": {\"colorbar\": {\"outlinewidth\": 0, \"ticks\": \"\"}}, \"type\": \"scattergl\"}], \"scattermapbox\": [{\"marker\": {\"colorbar\": {\"outlinewidth\": 0, \"ticks\": \"\"}}, \"type\": \"scattermapbox\"}], \"scatterpolar\": [{\"marker\": {\"colorbar\": {\"outlinewidth\": 0, \"ticks\": \"\"}}, \"type\": \"scatterpolar\"}], \"scatterpolargl\": [{\"marker\": {\"colorbar\": {\"outlinewidth\": 0, \"ticks\": \"\"}}, \"type\": \"scatterpolargl\"}], \"scatterternary\": [{\"marker\": {\"colorbar\": {\"outlinewidth\": 0, \"ticks\": \"\"}}, \"type\": \"scatterternary\"}], \"surface\": [{\"colorbar\": {\"outlinewidth\": 0, \"ticks\": \"\"}, \"colorscale\": [[0.0, \"#0d0887\"], [0.1111111111111111, \"#46039f\"], [0.2222222222222222, \"#7201a8\"], [0.3333333333333333, \"#9c179e\"], [0.4444444444444444, \"#bd3786\"], [0.5555555555555556, \"#d8576b\"], [0.6666666666666666, \"#ed7953\"], [0.7777777777777778, \"#fb9f3a\"], [0.8888888888888888, \"#fdca26\"], [1.0, \"#f0f921\"]], \"type\": \"surface\"}], \"table\": [{\"cells\": {\"fill\": {\"color\": \"#EBF0F8\"}, \"line\": {\"color\": \"white\"}}, \"header\": {\"fill\": {\"color\": \"#C8D4E3\"}, \"line\": {\"color\": \"white\"}}, \"type\": \"table\"}]}, \"layout\": {\"annotationdefaults\": {\"arrowcolor\": \"#2a3f5f\", \"arrowhead\": 0, \"arrowwidth\": 1}, \"coloraxis\": {\"colorbar\": {\"outlinewidth\": 0, \"ticks\": \"\"}}, \"colorscale\": {\"diverging\": [[0, \"#8e0152\"], [0.1, \"#c51b7d\"], [0.2, \"#de77ae\"], [0.3, \"#f1b6da\"], [0.4, \"#fde0ef\"], [0.5, \"#f7f7f7\"], [0.6, \"#e6f5d0\"], [0.7, \"#b8e186\"], [0.8, \"#7fbc41\"], [0.9, \"#4d9221\"], [1, \"#276419\"]], \"sequential\": [[0.0, \"#0d0887\"], [0.1111111111111111, \"#46039f\"], [0.2222222222222222, \"#7201a8\"], [0.3333333333333333, \"#9c179e\"], [0.4444444444444444, \"#bd3786\"], [0.5555555555555556, \"#d8576b\"], [0.6666666666666666, \"#ed7953\"], [0.7777777777777778, \"#fb9f3a\"], [0.8888888888888888, \"#fdca26\"], [1.0, \"#f0f921\"]], \"sequentialminus\": [[0.0, \"#0d0887\"], [0.1111111111111111, \"#46039f\"], [0.2222222222222222, \"#7201a8\"], [0.3333333333333333, \"#9c179e\"], [0.4444444444444444, \"#bd3786\"], [0.5555555555555556, \"#d8576b\"], [0.6666666666666666, \"#ed7953\"], [0.7777777777777778, \"#fb9f3a\"], [0.8888888888888888, \"#fdca26\"], [1.0, \"#f0f921\"]]}, \"colorway\": [\"#636efa\", \"#EF553B\", \"#00cc96\", \"#ab63fa\", \"#FFA15A\", \"#19d3f3\", \"#FF6692\", \"#B6E880\", \"#FF97FF\", \"#FECB52\"], \"font\": {\"color\": \"#2a3f5f\"}, \"geo\": {\"bgcolor\": \"white\", \"lakecolor\": \"white\", \"landcolor\": \"#E5ECF6\", \"showlakes\": true, \"showland\": true, \"subunitcolor\": \"white\"}, \"hoverlabel\": {\"align\": \"left\"}, \"hovermode\": \"closest\", \"mapbox\": {\"style\": \"light\"}, \"paper_bgcolor\": \"white\", \"plot_bgcolor\": \"#E5ECF6\", \"polar\": {\"angularaxis\": {\"gridcolor\": \"white\", \"linecolor\": \"white\", \"ticks\": \"\"}, \"bgcolor\": \"#E5ECF6\", \"radialaxis\": {\"gridcolor\": \"white\", \"linecolor\": \"white\", \"ticks\": \"\"}}, \"scene\": {\"xaxis\": {\"backgroundcolor\": \"#E5ECF6\", \"gridcolor\": \"white\", \"gridwidth\": 2, \"linecolor\": \"white\", \"showbackground\": true, \"ticks\": \"\", \"zerolinecolor\": \"white\"}, \"yaxis\": {\"backgroundcolor\": \"#E5ECF6\", \"gridcolor\": \"white\", \"gridwidth\": 2, \"linecolor\": \"white\", \"showbackground\": true, \"ticks\": \"\", \"zerolinecolor\": \"white\"}, \"zaxis\": {\"backgroundcolor\": \"#E5ECF6\", \"gridcolor\": \"white\", \"gridwidth\": 2, \"linecolor\": \"white\", \"showbackground\": true, \"ticks\": \"\", \"zerolinecolor\": \"white\"}}, \"shapedefaults\": {\"line\": {\"color\": \"#2a3f5f\"}}, \"ternary\": {\"aaxis\": {\"gridcolor\": \"white\", \"linecolor\": \"white\", \"ticks\": \"\"}, \"baxis\": {\"gridcolor\": \"white\", \"linecolor\": \"white\", \"ticks\": \"\"}, \"bgcolor\": \"#E5ECF6\", \"caxis\": {\"gridcolor\": \"white\", \"linecolor\": \"white\", \"ticks\": \"\"}}, \"title\": {\"x\": 0.05}, \"xaxis\": {\"automargin\": true, \"gridcolor\": \"white\", \"linecolor\": \"white\", \"ticks\": \"\", \"title\": {\"standoff\": 15}, \"zerolinecolor\": \"white\", \"zerolinewidth\": 2}, \"yaxis\": {\"automargin\": true, \"gridcolor\": \"white\", \"linecolor\": \"white\", \"ticks\": \"\", \"title\": {\"standoff\": 15}, \"zerolinecolor\": \"white\", \"zerolinewidth\": 2}}}, \"xaxis\": {\"anchor\": \"y\", \"domain\": [0.0, 0.15], \"title\": {\"text\": \"income\"}}, \"xaxis2\": {\"anchor\": \"y2\", \"domain\": [0.16999999999999998, 0.31999999999999995], \"matches\": \"x\", \"title\": {\"text\": \"income\"}}, \"xaxis3\": {\"anchor\": \"y3\", \"domain\": [0.33999999999999997, 0.49], \"matches\": \"x\", \"title\": {\"text\": \"income\"}}, \"xaxis4\": {\"anchor\": \"y4\", \"domain\": [0.51, 0.66], \"matches\": \"x\", \"title\": {\"text\": \"income\"}}, \"xaxis5\": {\"anchor\": \"y5\", \"domain\": [0.6799999999999999, 0.83], \"matches\": \"x\", \"title\": {\"text\": \"income\"}}, \"xaxis6\": {\"anchor\": \"y6\", \"domain\": [0.85, 1.0], \"matches\": \"x\", \"title\": {\"text\": \"income\"}}, \"yaxis\": {\"anchor\": \"x\", \"domain\": [0.0, 1.0], \"title\": {\"text\": \"international\"}}, \"yaxis2\": {\"anchor\": \"x2\", \"domain\": [0.0, 1.0], \"matches\": \"y\", \"showticklabels\": false}, \"yaxis3\": {\"anchor\": \"x3\", \"domain\": [0.0, 1.0], \"matches\": \"y\", \"showticklabels\": false}, \"yaxis4\": {\"anchor\": \"x4\", \"domain\": [0.0, 1.0], \"matches\": \"y\", \"showticklabels\": false}, \"yaxis5\": {\"anchor\": \"x5\", \"domain\": [0.0, 1.0], \"matches\": \"y\", \"showticklabels\": false}, \"yaxis6\": {\"anchor\": \"x6\", \"domain\": [0.0, 1.0], \"matches\": \"y\", \"showticklabels\": false}},\n",
       "                        {\"responsive\": true}\n",
       "                    ).then(function(){\n",
       "                            \n",
       "var gd = document.getElementById('fc1a4d53-043d-44c1-9c60-676d576735b9');\n",
       "var x = new MutationObserver(function (mutations, observer) {{\n",
       "        var display = window.getComputedStyle(gd).display;\n",
       "        if (!display || display === 'none') {{\n",
       "            console.log([gd, 'removed!']);\n",
       "            Plotly.purge(gd);\n",
       "            observer.disconnect();\n",
       "        }}\n",
       "}});\n",
       "\n",
       "// Listen for the removal of the full notebook cells\n",
       "var notebookContainer = gd.closest('#notebook-container');\n",
       "if (notebookContainer) {{\n",
       "    x.observe(notebookContainer, {childList: true});\n",
       "}}\n",
       "\n",
       "// Listen for the clearing of the current output cell\n",
       "var outputEl = gd.closest('.output');\n",
       "if (outputEl) {{\n",
       "    x.observe(outputEl, {childList: true});\n",
       "}}\n",
       "\n",
       "                        })\n",
       "                };\n",
       "                });\n",
       "            </script>\n",
       "        </div>"
      ]
     },
     "metadata": {},
     "output_type": "display_data"
    }
   ],
   "source": [
    "import plotly.express as px\n",
    "#df = px.data.tips()\n",
    "fig = px.scatter(df1, x=\"income\", y=\"international\", color=\"year\", facet_col=\"year\",\n",
    "           color_continuous_scale=px.colors.sequential.Viridis)#, render_mode=\"webgl\")\n",
    "fig.show()"
   ]
  },
  {
   "cell_type": "code",
   "execution_count": null,
   "metadata": {},
   "outputs": [],
   "source": []
  }
 ],
 "metadata": {
  "kernelspec": {
   "display_name": "Python 3",
   "language": "python",
   "name": "python3"
  },
  "language_info": {
   "codemirror_mode": {
    "name": "ipython",
    "version": 3
   },
   "file_extension": ".py",
   "mimetype": "text/x-python",
   "name": "python",
   "nbconvert_exporter": "python",
   "pygments_lexer": "ipython3",
   "version": "3.8.2"
  }
 },
 "nbformat": 4,
 "nbformat_minor": 4
}
